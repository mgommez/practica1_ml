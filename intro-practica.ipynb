{
 "cells": [
  {
   "cell_type": "code",
   "execution_count": 1,
   "metadata": {},
   "outputs": [],
   "source": [
    "import pandas as pd"
   ]
  },
  {
   "cell_type": "code",
   "execution_count": 2,
   "metadata": {},
   "outputs": [],
   "source": [
    "wind_ava=pd.read_csv('wind_ava.csv.gz', compression = \"gzip\")\n",
    "wind_comp=pd.read_csv('wind_comp.csv.gz', compression = \"gzip\")"
   ]
  },
  {
   "cell_type": "code",
   "execution_count": 3,
   "metadata": {},
   "outputs": [],
   "source": [
    "# para las series de tiempo\n",
    "wind_ava = wind_ava.set_index('datetime')"
   ]
  },
  {
   "cell_type": "code",
   "execution_count": 4,
   "metadata": {},
   "outputs": [
    {
     "data": {
      "text/html": [
       "<div>\n",
       "<style scoped>\n",
       "    .dataframe tbody tr th:only-of-type {\n",
       "        vertical-align: middle;\n",
       "    }\n",
       "\n",
       "    .dataframe tbody tr th {\n",
       "        vertical-align: top;\n",
       "    }\n",
       "\n",
       "    .dataframe thead th {\n",
       "        text-align: right;\n",
       "    }\n",
       "</style>\n",
       "<table border=\"1\" class=\"dataframe\">\n",
       "  <thead>\n",
       "    <tr style=\"text-align: right;\">\n",
       "      <th></th>\n",
       "      <th>energy</th>\n",
       "      <th>p54.162.1</th>\n",
       "      <th>p54.162.2</th>\n",
       "      <th>p54.162.3</th>\n",
       "      <th>p54.162.4</th>\n",
       "      <th>p54.162.5</th>\n",
       "      <th>p54.162.6</th>\n",
       "      <th>p54.162.7</th>\n",
       "      <th>p54.162.8</th>\n",
       "      <th>p54.162.9</th>\n",
       "      <th>...</th>\n",
       "      <th>v100.16</th>\n",
       "      <th>v100.17</th>\n",
       "      <th>v100.18</th>\n",
       "      <th>v100.19</th>\n",
       "      <th>v100.20</th>\n",
       "      <th>v100.21</th>\n",
       "      <th>v100.22</th>\n",
       "      <th>v100.23</th>\n",
       "      <th>v100.24</th>\n",
       "      <th>v100.25</th>\n",
       "    </tr>\n",
       "    <tr>\n",
       "      <th>datetime</th>\n",
       "      <th></th>\n",
       "      <th></th>\n",
       "      <th></th>\n",
       "      <th></th>\n",
       "      <th></th>\n",
       "      <th></th>\n",
       "      <th></th>\n",
       "      <th></th>\n",
       "      <th></th>\n",
       "      <th></th>\n",
       "      <th></th>\n",
       "      <th></th>\n",
       "      <th></th>\n",
       "      <th></th>\n",
       "      <th></th>\n",
       "      <th></th>\n",
       "      <th></th>\n",
       "      <th></th>\n",
       "      <th></th>\n",
       "      <th></th>\n",
       "      <th></th>\n",
       "    </tr>\n",
       "  </thead>\n",
       "  <tbody>\n",
       "    <tr>\n",
       "      <th>2005-01-02 18:00:00</th>\n",
       "      <td>402.71</td>\n",
       "      <td>2.534970e+06</td>\n",
       "      <td>2.526864e+06</td>\n",
       "      <td>2.518754e+06</td>\n",
       "      <td>2.510648e+06</td>\n",
       "      <td>2.502537e+06</td>\n",
       "      <td>2.531111e+06</td>\n",
       "      <td>2.522721e+06</td>\n",
       "      <td>2.514330e+06</td>\n",
       "      <td>2.505940e+06</td>\n",
       "      <td>...</td>\n",
       "      <td>-4.683596</td>\n",
       "      <td>-4.545396</td>\n",
       "      <td>-4.407196</td>\n",
       "      <td>-4.268996</td>\n",
       "      <td>-4.131295</td>\n",
       "      <td>-4.669626</td>\n",
       "      <td>-4.528932</td>\n",
       "      <td>-4.388736</td>\n",
       "      <td>-4.248540</td>\n",
       "      <td>-4.107846</td>\n",
       "    </tr>\n",
       "    <tr>\n",
       "      <th>2005-01-03 00:00:00</th>\n",
       "      <td>696.80</td>\n",
       "      <td>2.537369e+06</td>\n",
       "      <td>2.529277e+06</td>\n",
       "      <td>2.521184e+06</td>\n",
       "      <td>2.513088e+06</td>\n",
       "      <td>2.504995e+06</td>\n",
       "      <td>2.533465e+06</td>\n",
       "      <td>2.525088e+06</td>\n",
       "      <td>2.516716e+06</td>\n",
       "      <td>2.508339e+06</td>\n",
       "      <td>...</td>\n",
       "      <td>-3.397886</td>\n",
       "      <td>-3.257192</td>\n",
       "      <td>-3.115998</td>\n",
       "      <td>-2.975304</td>\n",
       "      <td>-2.834609</td>\n",
       "      <td>-3.396390</td>\n",
       "      <td>-3.254198</td>\n",
       "      <td>-3.112506</td>\n",
       "      <td>-2.970314</td>\n",
       "      <td>-2.828622</td>\n",
       "    </tr>\n",
       "    <tr>\n",
       "      <th>2005-01-03 06:00:00</th>\n",
       "      <td>1591.15</td>\n",
       "      <td>2.533727e+06</td>\n",
       "      <td>2.525703e+06</td>\n",
       "      <td>2.517678e+06</td>\n",
       "      <td>2.509654e+06</td>\n",
       "      <td>2.501629e+06</td>\n",
       "      <td>2.529801e+06</td>\n",
       "      <td>2.521496e+06</td>\n",
       "      <td>2.513187e+06</td>\n",
       "      <td>2.504882e+06</td>\n",
       "      <td>...</td>\n",
       "      <td>-1.454105</td>\n",
       "      <td>-1.296447</td>\n",
       "      <td>-1.138290</td>\n",
       "      <td>-0.980134</td>\n",
       "      <td>-0.822476</td>\n",
       "      <td>-1.459094</td>\n",
       "      <td>-1.302933</td>\n",
       "      <td>-1.147271</td>\n",
       "      <td>-0.991110</td>\n",
       "      <td>-0.834949</td>\n",
       "    </tr>\n",
       "    <tr>\n",
       "      <th>2005-01-03 12:00:00</th>\n",
       "      <td>1338.62</td>\n",
       "      <td>2.534491e+06</td>\n",
       "      <td>2.526548e+06</td>\n",
       "      <td>2.518609e+06</td>\n",
       "      <td>2.510670e+06</td>\n",
       "      <td>2.502732e+06</td>\n",
       "      <td>2.530569e+06</td>\n",
       "      <td>2.522346e+06</td>\n",
       "      <td>2.514127e+06</td>\n",
       "      <td>2.505904e+06</td>\n",
       "      <td>...</td>\n",
       "      <td>1.255015</td>\n",
       "      <td>1.370265</td>\n",
       "      <td>1.485515</td>\n",
       "      <td>1.600765</td>\n",
       "      <td>1.716015</td>\n",
       "      <td>1.210612</td>\n",
       "      <td>1.319376</td>\n",
       "      <td>1.428140</td>\n",
       "      <td>1.536405</td>\n",
       "      <td>1.645169</td>\n",
       "    </tr>\n",
       "    <tr>\n",
       "      <th>2005-01-03 18:00:00</th>\n",
       "      <td>562.50</td>\n",
       "      <td>2.529543e+06</td>\n",
       "      <td>2.521623e+06</td>\n",
       "      <td>2.513702e+06</td>\n",
       "      <td>2.505782e+06</td>\n",
       "      <td>2.497861e+06</td>\n",
       "      <td>2.525621e+06</td>\n",
       "      <td>2.517421e+06</td>\n",
       "      <td>2.509215e+06</td>\n",
       "      <td>2.501015e+06</td>\n",
       "      <td>...</td>\n",
       "      <td>1.939031</td>\n",
       "      <td>2.023847</td>\n",
       "      <td>2.108663</td>\n",
       "      <td>2.193977</td>\n",
       "      <td>2.278793</td>\n",
       "      <td>1.873673</td>\n",
       "      <td>1.953000</td>\n",
       "      <td>2.031829</td>\n",
       "      <td>2.111157</td>\n",
       "      <td>2.189986</td>\n",
       "    </tr>\n",
       "  </tbody>\n",
       "</table>\n",
       "<p>5 rows × 551 columns</p>\n",
       "</div>"
      ],
      "text/plain": [
       "                      energy     p54.162.1     p54.162.2     p54.162.3  \\\n",
       "datetime                                                                 \n",
       "2005-01-02 18:00:00   402.71  2.534970e+06  2.526864e+06  2.518754e+06   \n",
       "2005-01-03 00:00:00   696.80  2.537369e+06  2.529277e+06  2.521184e+06   \n",
       "2005-01-03 06:00:00  1591.15  2.533727e+06  2.525703e+06  2.517678e+06   \n",
       "2005-01-03 12:00:00  1338.62  2.534491e+06  2.526548e+06  2.518609e+06   \n",
       "2005-01-03 18:00:00   562.50  2.529543e+06  2.521623e+06  2.513702e+06   \n",
       "\n",
       "                        p54.162.4     p54.162.5     p54.162.6     p54.162.7  \\\n",
       "datetime                                                                      \n",
       "2005-01-02 18:00:00  2.510648e+06  2.502537e+06  2.531111e+06  2.522721e+06   \n",
       "2005-01-03 00:00:00  2.513088e+06  2.504995e+06  2.533465e+06  2.525088e+06   \n",
       "2005-01-03 06:00:00  2.509654e+06  2.501629e+06  2.529801e+06  2.521496e+06   \n",
       "2005-01-03 12:00:00  2.510670e+06  2.502732e+06  2.530569e+06  2.522346e+06   \n",
       "2005-01-03 18:00:00  2.505782e+06  2.497861e+06  2.525621e+06  2.517421e+06   \n",
       "\n",
       "                        p54.162.8     p54.162.9  ...   v100.16   v100.17  \\\n",
       "datetime                                         ...                       \n",
       "2005-01-02 18:00:00  2.514330e+06  2.505940e+06  ... -4.683596 -4.545396   \n",
       "2005-01-03 00:00:00  2.516716e+06  2.508339e+06  ... -3.397886 -3.257192   \n",
       "2005-01-03 06:00:00  2.513187e+06  2.504882e+06  ... -1.454105 -1.296447   \n",
       "2005-01-03 12:00:00  2.514127e+06  2.505904e+06  ...  1.255015  1.370265   \n",
       "2005-01-03 18:00:00  2.509215e+06  2.501015e+06  ...  1.939031  2.023847   \n",
       "\n",
       "                      v100.18   v100.19   v100.20   v100.21   v100.22  \\\n",
       "datetime                                                                \n",
       "2005-01-02 18:00:00 -4.407196 -4.268996 -4.131295 -4.669626 -4.528932   \n",
       "2005-01-03 00:00:00 -3.115998 -2.975304 -2.834609 -3.396390 -3.254198   \n",
       "2005-01-03 06:00:00 -1.138290 -0.980134 -0.822476 -1.459094 -1.302933   \n",
       "2005-01-03 12:00:00  1.485515  1.600765  1.716015  1.210612  1.319376   \n",
       "2005-01-03 18:00:00  2.108663  2.193977  2.278793  1.873673  1.953000   \n",
       "\n",
       "                      v100.23   v100.24   v100.25  \n",
       "datetime                                           \n",
       "2005-01-02 18:00:00 -4.388736 -4.248540 -4.107846  \n",
       "2005-01-03 00:00:00 -3.112506 -2.970314 -2.828622  \n",
       "2005-01-03 06:00:00 -1.147271 -0.991110 -0.834949  \n",
       "2005-01-03 12:00:00  1.428140  1.536405  1.645169  \n",
       "2005-01-03 18:00:00  2.031829  2.111157  2.189986  \n",
       "\n",
       "[5 rows x 551 columns]"
      ]
     },
     "execution_count": 4,
     "metadata": {},
     "output_type": "execute_result"
    }
   ],
   "source": [
    "wind_ava.head()"
   ]
  },
  {
   "cell_type": "markdown",
   "metadata": {},
   "source": [
    "## Quitar columnas no necesarias"
   ]
  },
  {
   "cell_type": "code",
   "execution_count": null,
   "metadata": {},
   "outputs": [],
   "source": []
  },
  {
   "cell_type": "code",
   "execution_count": 5,
   "metadata": {},
   "outputs": [],
   "source": [
    "for c in wind_ava.columns:\n",
    "    # no queremos datetime tal cual, queremos pasarlo a\n",
    "    if not c.endswith('.13') and c != 'energy':\n",
    "        # tenemos que poner axis 1 en la función drop porque por defecto está puesto a axis=0 para que elimine filas, \n",
    "        # nosotros queremos eliminar columnas\n",
    "        \n",
    "        # tenemos que almacenar la nueva tabla (la anterior sin esa columna que eliminamos), como en la línea superior\n",
    "        # opción 1\n",
    "        wind_ava = wind_ava.drop(c, axis=1)\n",
    "        # también lo podemos hacer ocn el parámetro 'inplace', que modifica el objeto tabla y que por defecto es False\n",
    "        # opción 2\n",
    "        # wind_ava.drop(c, axi=1, inplace=True)"
   ]
  },
  {
   "cell_type": "code",
   "execution_count": 6,
   "metadata": {},
   "outputs": [
    {
     "data": {
      "text/plain": [
       "<AxesSubplot:xlabel='datetime'>"
      ]
     },
     "execution_count": 6,
     "metadata": {},
     "output_type": "execute_result"
    },
    {
     "data": {
      "image/png": "[encoded data removed]",
      "text/plain": [
       "<Figure size 432x288 with 1 Axes>"
      ]
     },
     "metadata": {
      "needs_background": "light"
     },
     "output_type": "display_data"
    }
   ],
   "source": [
    "# coge el índice como eje x\n",
    "wind_ava['energy'].plot()"
   ]
  },
  {
   "cell_type": "code",
   "execution_count": 7,
   "metadata": {},
   "outputs": [
    {
     "data": {
      "text/html": [
       "<div>\n",
       "<style scoped>\n",
       "    .dataframe tbody tr th:only-of-type {\n",
       "        vertical-align: middle;\n",
       "    }\n",
       "\n",
       "    .dataframe tbody tr th {\n",
       "        vertical-align: top;\n",
       "    }\n",
       "\n",
       "    .dataframe thead th {\n",
       "        text-align: right;\n",
       "    }\n",
       "</style>\n",
       "<table border=\"1\" class=\"dataframe\">\n",
       "  <thead>\n",
       "    <tr style=\"text-align: right;\">\n",
       "      <th></th>\n",
       "      <th>energy</th>\n",
       "      <th>p54.162.13</th>\n",
       "      <th>p55.162.13</th>\n",
       "      <th>cape.13</th>\n",
       "      <th>p59.162.13</th>\n",
       "      <th>lai_lv.13</th>\n",
       "      <th>lai_hv.13</th>\n",
       "      <th>u10n.13</th>\n",
       "      <th>v10n.13</th>\n",
       "      <th>sp.13</th>\n",
       "      <th>...</th>\n",
       "      <th>t2m.13</th>\n",
       "      <th>stl2.13</th>\n",
       "      <th>stl3.13</th>\n",
       "      <th>iews.13</th>\n",
       "      <th>inss.13</th>\n",
       "      <th>stl4.13</th>\n",
       "      <th>fsr.13</th>\n",
       "      <th>flsr.13</th>\n",
       "      <th>u100.13</th>\n",
       "      <th>v100.13</th>\n",
       "    </tr>\n",
       "    <tr>\n",
       "      <th>datetime</th>\n",
       "      <th></th>\n",
       "      <th></th>\n",
       "      <th></th>\n",
       "      <th></th>\n",
       "      <th></th>\n",
       "      <th></th>\n",
       "      <th></th>\n",
       "      <th></th>\n",
       "      <th></th>\n",
       "      <th></th>\n",
       "      <th></th>\n",
       "      <th></th>\n",
       "      <th></th>\n",
       "      <th></th>\n",
       "      <th></th>\n",
       "      <th></th>\n",
       "      <th></th>\n",
       "      <th></th>\n",
       "      <th></th>\n",
       "      <th></th>\n",
       "      <th></th>\n",
       "    </tr>\n",
       "  </thead>\n",
       "  <tbody>\n",
       "    <tr>\n",
       "      <th>2005-01-02 18:00:00</th>\n",
       "      <td>402.71</td>\n",
       "      <td>2.510824e+06</td>\n",
       "      <td>9.186295</td>\n",
       "      <td>13.527577</td>\n",
       "      <td>1.386937e+06</td>\n",
       "      <td>2.344111</td>\n",
       "      <td>2.432983</td>\n",
       "      <td>-0.757587</td>\n",
       "      <td>-1.922799</td>\n",
       "      <td>99846.319914</td>\n",
       "      <td>...</td>\n",
       "      <td>280.473098</td>\n",
       "      <td>281.042026</td>\n",
       "      <td>281.462478</td>\n",
       "      <td>-0.057958</td>\n",
       "      <td>-0.138650</td>\n",
       "      <td>284.684755</td>\n",
       "      <td>0.404731</td>\n",
       "      <td>-5.927092</td>\n",
       "      <td>-1.780562</td>\n",
       "      <td>-4.443617</td>\n",
       "    </tr>\n",
       "    <tr>\n",
       "      <th>2005-01-03 00:00:00</th>\n",
       "      <td>696.80</td>\n",
       "      <td>2.513173e+06</td>\n",
       "      <td>8.849569</td>\n",
       "      <td>6.896412</td>\n",
       "      <td>1.153526e+06</td>\n",
       "      <td>2.343719</td>\n",
       "      <td>2.432838</td>\n",
       "      <td>-1.412620</td>\n",
       "      <td>-1.403011</td>\n",
       "      <td>99917.733093</td>\n",
       "      <td>...</td>\n",
       "      <td>278.286616</td>\n",
       "      <td>280.747406</td>\n",
       "      <td>281.486541</td>\n",
       "      <td>-0.103576</td>\n",
       "      <td>-0.083050</td>\n",
       "      <td>284.667948</td>\n",
       "      <td>0.404920</td>\n",
       "      <td>-5.913881</td>\n",
       "      <td>-3.743344</td>\n",
       "      <td>-3.129469</td>\n",
       "    </tr>\n",
       "    <tr>\n",
       "      <th>2005-01-03 06:00:00</th>\n",
       "      <td>1591.15</td>\n",
       "      <td>2.509627e+06</td>\n",
       "      <td>7.924080</td>\n",
       "      <td>4.774439</td>\n",
       "      <td>1.098754e+06</td>\n",
       "      <td>2.343300</td>\n",
       "      <td>2.432704</td>\n",
       "      <td>-2.290185</td>\n",
       "      <td>-0.754580</td>\n",
       "      <td>99764.378681</td>\n",
       "      <td>...</td>\n",
       "      <td>277.206490</td>\n",
       "      <td>280.114863</td>\n",
       "      <td>281.487095</td>\n",
       "      <td>-0.165721</td>\n",
       "      <td>-0.036241</td>\n",
       "      <td>284.651914</td>\n",
       "      <td>0.405704</td>\n",
       "      <td>-5.908272</td>\n",
       "      <td>-5.097203</td>\n",
       "      <td>-1.157748</td>\n",
       "    </tr>\n",
       "    <tr>\n",
       "      <th>2005-01-03 12:00:00</th>\n",
       "      <td>1338.62</td>\n",
       "      <td>2.510571e+06</td>\n",
       "      <td>6.922709</td>\n",
       "      <td>0.000000</td>\n",
       "      <td>1.076021e+06</td>\n",
       "      <td>2.342830</td>\n",
       "      <td>2.432514</td>\n",
       "      <td>-3.497855</td>\n",
       "      <td>1.271028</td>\n",
       "      <td>99672.670459</td>\n",
       "      <td>...</td>\n",
       "      <td>280.926600</td>\n",
       "      <td>279.991138</td>\n",
       "      <td>281.472435</td>\n",
       "      <td>-0.275550</td>\n",
       "      <td>0.098192</td>\n",
       "      <td>284.636266</td>\n",
       "      <td>0.403967</td>\n",
       "      <td>-5.961995</td>\n",
       "      <td>-4.500835</td>\n",
       "      <td>1.502478</td>\n",
       "    </tr>\n",
       "    <tr>\n",
       "      <th>2005-01-03 18:00:00</th>\n",
       "      <td>562.50</td>\n",
       "      <td>2.505664e+06</td>\n",
       "      <td>6.646282</td>\n",
       "      <td>0.000000</td>\n",
       "      <td>1.070830e+06</td>\n",
       "      <td>2.342437</td>\n",
       "      <td>2.432369</td>\n",
       "      <td>-0.971249</td>\n",
       "      <td>0.553060</td>\n",
       "      <td>99372.811211</td>\n",
       "      <td>...</td>\n",
       "      <td>277.363875</td>\n",
       "      <td>280.576898</td>\n",
       "      <td>281.473265</td>\n",
       "      <td>-0.056553</td>\n",
       "      <td>0.041844</td>\n",
       "      <td>284.620232</td>\n",
       "      <td>0.403808</td>\n",
       "      <td>-5.987860</td>\n",
       "      <td>-3.392324</td>\n",
       "      <td>2.131114</td>\n",
       "    </tr>\n",
       "    <tr>\n",
       "      <th>...</th>\n",
       "      <td>...</td>\n",
       "      <td>...</td>\n",
       "      <td>...</td>\n",
       "      <td>...</td>\n",
       "      <td>...</td>\n",
       "      <td>...</td>\n",
       "      <td>...</td>\n",
       "      <td>...</td>\n",
       "      <td>...</td>\n",
       "      <td>...</td>\n",
       "      <td>...</td>\n",
       "      <td>...</td>\n",
       "      <td>...</td>\n",
       "      <td>...</td>\n",
       "      <td>...</td>\n",
       "      <td>...</td>\n",
       "      <td>...</td>\n",
       "      <td>...</td>\n",
       "      <td>...</td>\n",
       "      <td>...</td>\n",
       "      <td>...</td>\n",
       "    </tr>\n",
       "    <tr>\n",
       "      <th>2009-12-30 06:00:00</th>\n",
       "      <td>1280.13</td>\n",
       "      <td>2.385772e+06</td>\n",
       "      <td>14.413342</td>\n",
       "      <td>24.971074</td>\n",
       "      <td>3.905586e+06</td>\n",
       "      <td>2.349839</td>\n",
       "      <td>2.434994</td>\n",
       "      <td>4.595786</td>\n",
       "      <td>5.563189</td>\n",
       "      <td>95460.434452</td>\n",
       "      <td>...</td>\n",
       "      <td>280.731326</td>\n",
       "      <td>282.643490</td>\n",
       "      <td>281.676560</td>\n",
       "      <td>0.628948</td>\n",
       "      <td>0.879581</td>\n",
       "      <td>286.013271</td>\n",
       "      <td>0.424510</td>\n",
       "      <td>-5.715421</td>\n",
       "      <td>6.922743</td>\n",
       "      <td>9.179816</td>\n",
       "    </tr>\n",
       "    <tr>\n",
       "      <th>2009-12-30 12:00:00</th>\n",
       "      <td>855.00</td>\n",
       "      <td>2.385708e+06</td>\n",
       "      <td>12.802883</td>\n",
       "      <td>60.248874</td>\n",
       "      <td>2.745694e+06</td>\n",
       "      <td>2.349446</td>\n",
       "      <td>2.434849</td>\n",
       "      <td>4.894838</td>\n",
       "      <td>5.577096</td>\n",
       "      <td>95663.765406</td>\n",
       "      <td>...</td>\n",
       "      <td>283.310687</td>\n",
       "      <td>282.370909</td>\n",
       "      <td>281.761750</td>\n",
       "      <td>0.740926</td>\n",
       "      <td>0.699769</td>\n",
       "      <td>285.988737</td>\n",
       "      <td>0.424762</td>\n",
       "      <td>-5.732455</td>\n",
       "      <td>7.434887</td>\n",
       "      <td>7.537381</td>\n",
       "    </tr>\n",
       "    <tr>\n",
       "      <th>2009-12-30 18:00:00</th>\n",
       "      <td>117.06</td>\n",
       "      <td>2.379049e+06</td>\n",
       "      <td>10.915997</td>\n",
       "      <td>3.145067</td>\n",
       "      <td>2.254171e+06</td>\n",
       "      <td>2.349054</td>\n",
       "      <td>2.434715</td>\n",
       "      <td>0.958361</td>\n",
       "      <td>0.948029</td>\n",
       "      <td>95653.110509</td>\n",
       "      <td>...</td>\n",
       "      <td>281.060085</td>\n",
       "      <td>282.425812</td>\n",
       "      <td>281.841961</td>\n",
       "      <td>0.109802</td>\n",
       "      <td>0.125174</td>\n",
       "      <td>285.968452</td>\n",
       "      <td>0.415132</td>\n",
       "      <td>-5.866856</td>\n",
       "      <td>3.033799</td>\n",
       "      <td>3.568993</td>\n",
       "    </tr>\n",
       "    <tr>\n",
       "      <th>2009-12-31 12:00:00</th>\n",
       "      <td>516.96</td>\n",
       "      <td>2.371697e+06</td>\n",
       "      <td>13.048144</td>\n",
       "      <td>12.580268</td>\n",
       "      <td>1.376913e+06</td>\n",
       "      <td>2.347799</td>\n",
       "      <td>2.434291</td>\n",
       "      <td>5.278912</td>\n",
       "      <td>0.771754</td>\n",
       "      <td>95534.765044</td>\n",
       "      <td>...</td>\n",
       "      <td>279.662858</td>\n",
       "      <td>281.153379</td>\n",
       "      <td>281.976385</td>\n",
       "      <td>0.705886</td>\n",
       "      <td>0.192834</td>\n",
       "      <td>285.904895</td>\n",
       "      <td>0.426707</td>\n",
       "      <td>-5.693542</td>\n",
       "      <td>8.374951</td>\n",
       "      <td>2.219422</td>\n",
       "    </tr>\n",
       "    <tr>\n",
       "      <th>2009-12-31 18:00:00</th>\n",
       "      <td>867.07</td>\n",
       "      <td>2.369547e+06</td>\n",
       "      <td>9.172745</td>\n",
       "      <td>8.487892</td>\n",
       "      <td>1.356687e+06</td>\n",
       "      <td>2.347406</td>\n",
       "      <td>2.434145</td>\n",
       "      <td>4.578042</td>\n",
       "      <td>1.295018</td>\n",
       "      <td>95866.081608</td>\n",
       "      <td>...</td>\n",
       "      <td>277.552154</td>\n",
       "      <td>281.046666</td>\n",
       "      <td>281.997129</td>\n",
       "      <td>0.460114</td>\n",
       "      <td>0.160810</td>\n",
       "      <td>285.884804</td>\n",
       "      <td>0.426651</td>\n",
       "      <td>-5.699429</td>\n",
       "      <td>7.103223</td>\n",
       "      <td>1.883651</td>\n",
       "    </tr>\n",
       "  </tbody>\n",
       "</table>\n",
       "<p>4748 rows × 23 columns</p>\n",
       "</div>"
      ],
      "text/plain": [
       "                      energy    p54.162.13  p55.162.13    cape.13  \\\n",
       "datetime                                                            \n",
       "2005-01-02 18:00:00   402.71  2.510824e+06    9.186295  13.527577   \n",
       "2005-01-03 00:00:00   696.80  2.513173e+06    8.849569   6.896412   \n",
       "2005-01-03 06:00:00  1591.15  2.509627e+06    7.924080   4.774439   \n",
       "2005-01-03 12:00:00  1338.62  2.510571e+06    6.922709   0.000000   \n",
       "2005-01-03 18:00:00   562.50  2.505664e+06    6.646282   0.000000   \n",
       "...                      ...           ...         ...        ...   \n",
       "2009-12-30 06:00:00  1280.13  2.385772e+06   14.413342  24.971074   \n",
       "2009-12-30 12:00:00   855.00  2.385708e+06   12.802883  60.248874   \n",
       "2009-12-30 18:00:00   117.06  2.379049e+06   10.915997   3.145067   \n",
       "2009-12-31 12:00:00   516.96  2.371697e+06   13.048144  12.580268   \n",
       "2009-12-31 18:00:00   867.07  2.369547e+06    9.172745   8.487892   \n",
       "\n",
       "                       p59.162.13  lai_lv.13  lai_hv.13   u10n.13   v10n.13  \\\n",
       "datetime                                                                      \n",
       "2005-01-02 18:00:00  1.386937e+06   2.344111   2.432983 -0.757587 -1.922799   \n",
       "2005-01-03 00:00:00  1.153526e+06   2.343719   2.432838 -1.412620 -1.403011   \n",
       "2005-01-03 06:00:00  1.098754e+06   2.343300   2.432704 -2.290185 -0.754580   \n",
       "2005-01-03 12:00:00  1.076021e+06   2.342830   2.432514 -3.497855  1.271028   \n",
       "2005-01-03 18:00:00  1.070830e+06   2.342437   2.432369 -0.971249  0.553060   \n",
       "...                           ...        ...        ...       ...       ...   \n",
       "2009-12-30 06:00:00  3.905586e+06   2.349839   2.434994  4.595786  5.563189   \n",
       "2009-12-30 12:00:00  2.745694e+06   2.349446   2.434849  4.894838  5.577096   \n",
       "2009-12-30 18:00:00  2.254171e+06   2.349054   2.434715  0.958361  0.948029   \n",
       "2009-12-31 12:00:00  1.376913e+06   2.347799   2.434291  5.278912  0.771754   \n",
       "2009-12-31 18:00:00  1.356687e+06   2.347406   2.434145  4.578042  1.295018   \n",
       "\n",
       "                            sp.13  ...      t2m.13     stl2.13     stl3.13  \\\n",
       "datetime                           ...                                       \n",
       "2005-01-02 18:00:00  99846.319914  ...  280.473098  281.042026  281.462478   \n",
       "2005-01-03 00:00:00  99917.733093  ...  278.286616  280.747406  281.486541   \n",
       "2005-01-03 06:00:00  99764.378681  ...  277.206490  280.114863  281.487095   \n",
       "2005-01-03 12:00:00  99672.670459  ...  280.926600  279.991138  281.472435   \n",
       "2005-01-03 18:00:00  99372.811211  ...  277.363875  280.576898  281.473265   \n",
       "...                           ...  ...         ...         ...         ...   \n",
       "2009-12-30 06:00:00  95460.434452  ...  280.731326  282.643490  281.676560   \n",
       "2009-12-30 12:00:00  95663.765406  ...  283.310687  282.370909  281.761750   \n",
       "2009-12-30 18:00:00  95653.110509  ...  281.060085  282.425812  281.841961   \n",
       "2009-12-31 12:00:00  95534.765044  ...  279.662858  281.153379  281.976385   \n",
       "2009-12-31 18:00:00  95866.081608  ...  277.552154  281.046666  281.997129   \n",
       "\n",
       "                      iews.13   inss.13     stl4.13    fsr.13   flsr.13  \\\n",
       "datetime                                                                  \n",
       "2005-01-02 18:00:00 -0.057958 -0.138650  284.684755  0.404731 -5.927092   \n",
       "2005-01-03 00:00:00 -0.103576 -0.083050  284.667948  0.404920 -5.913881   \n",
       "2005-01-03 06:00:00 -0.165721 -0.036241  284.651914  0.405704 -5.908272   \n",
       "2005-01-03 12:00:00 -0.275550  0.098192  284.636266  0.403967 -5.961995   \n",
       "2005-01-03 18:00:00 -0.056553  0.041844  284.620232  0.403808 -5.987860   \n",
       "...                       ...       ...         ...       ...       ...   \n",
       "2009-12-30 06:00:00  0.628948  0.879581  286.013271  0.424510 -5.715421   \n",
       "2009-12-30 12:00:00  0.740926  0.699769  285.988737  0.424762 -5.732455   \n",
       "2009-12-30 18:00:00  0.109802  0.125174  285.968452  0.415132 -5.866856   \n",
       "2009-12-31 12:00:00  0.705886  0.192834  285.904895  0.426707 -5.693542   \n",
       "2009-12-31 18:00:00  0.460114  0.160810  285.884804  0.426651 -5.699429   \n",
       "\n",
       "                      u100.13   v100.13  \n",
       "datetime                                 \n",
       "2005-01-02 18:00:00 -1.780562 -4.443617  \n",
       "2005-01-03 00:00:00 -3.743344 -3.129469  \n",
       "2005-01-03 06:00:00 -5.097203 -1.157748  \n",
       "2005-01-03 12:00:00 -4.500835  1.502478  \n",
       "2005-01-03 18:00:00 -3.392324  2.131114  \n",
       "...                       ...       ...  \n",
       "2009-12-30 06:00:00  6.922743  9.179816  \n",
       "2009-12-30 12:00:00  7.434887  7.537381  \n",
       "2009-12-30 18:00:00  3.033799  3.568993  \n",
       "2009-12-31 12:00:00  8.374951  2.219422  \n",
       "2009-12-31 18:00:00  7.103223  1.883651  \n",
       "\n",
       "[4748 rows x 23 columns]"
      ]
     },
     "execution_count": 7,
     "metadata": {},
     "output_type": "execute_result"
    }
   ],
   "source": [
    "wind_ava"
   ]
  },
  {
   "cell_type": "markdown",
   "metadata": {},
   "source": [
    "## Valores faltantes"
   ]
  },
  {
   "cell_type": "markdown",
   "metadata": {},
   "source": [
    "Podemos hacer dos cosas: quitar fila o quitar columna\n",
    "Si en la columna hay un 80% de valores faltantes me interesa más quitar la columnas, si hay pocos valores faltantes igual quitamos la fila.\n",
    "¿Cómo vemos los valores faltantes que hay en la tabla?\n",
    "Con un query?"
   ]
  },
  {
   "cell_type": "markdown",
   "metadata": {},
   "source": [
    "Hay un método de panda -> isna()"
   ]
  },
  {
   "cell_type": "markdown",
   "metadata": {},
   "source": [
    "Un valor faltante no es un 0, podemos arreglarlo de otra manera pero no se deben eliminar"
   ]
  },
  {
   "cell_type": "code",
   "execution_count": 8,
   "metadata": {},
   "outputs": [
    {
     "data": {
      "text/plain": [
       "energy        0\n",
       "p54.162.13    0\n",
       "p55.162.13    0\n",
       "cape.13       0\n",
       "p59.162.13    0\n",
       "lai_lv.13     0\n",
       "lai_hv.13     0\n",
       "u10n.13       0\n",
       "v10n.13       0\n",
       "sp.13         0\n",
       "stl1.13       0\n",
       "u10.13        0\n",
       "v10.13        0\n",
       "t2m.13        0\n",
       "stl2.13       0\n",
       "stl3.13       0\n",
       "iews.13       0\n",
       "inss.13       0\n",
       "stl4.13       0\n",
       "fsr.13        0\n",
       "flsr.13       0\n",
       "u100.13       0\n",
       "v100.13       0\n",
       "dtype: int64"
      ]
     },
     "execution_count": 8,
     "metadata": {},
     "output_type": "execute_result"
    }
   ],
   "source": [
    "# podemos sumar todos los valores faltantes\n",
    "wind_ava.isna().sum()"
   ]
  },
  {
   "cell_type": "markdown",
   "metadata": {},
   "source": [
    "¿Cómo ver si hay columnas constantes?"
   ]
  },
  {
   "cell_type": "markdown",
   "metadata": {},
   "source": [
    "Miramos si las columnas tienen desviación típica 0"
   ]
  },
  {
   "cell_type": "code",
   "execution_count": 9,
   "metadata": {},
   "outputs": [
    {
     "data": {
      "text/plain": [
       "energy        6.655316e+02\n",
       "p54.162.13    4.482599e+04\n",
       "p55.162.13    6.552216e+00\n",
       "cape.13       1.217590e+02\n",
       "p59.162.13    1.466953e+06\n",
       "lai_lv.13     3.973773e-01\n",
       "lai_hv.13     1.164342e-01\n",
       "u10n.13       3.100583e+00\n",
       "v10n.13       3.016766e+00\n",
       "sp.13         7.136897e+02\n",
       "stl1.13       6.414325e+00\n",
       "u10.13        3.158104e+00\n",
       "v10.13        3.058615e+00\n",
       "t2m.13        6.163483e+00\n",
       "stl2.13       5.547947e+00\n",
       "stl3.13       4.582827e+00\n",
       "iews.13       3.670135e-01\n",
       "inss.13       3.790142e-01\n",
       "stl4.13       3.552873e+00\n",
       "fsr.13        7.602132e-03\n",
       "flsr.13       9.435944e-02\n",
       "u100.13       4.841730e+00\n",
       "v100.13       4.667552e+00\n",
       "dtype: float64"
      ]
     },
     "execution_count": 9,
     "metadata": {},
     "output_type": "execute_result"
    }
   ],
   "source": [
    "# las que estén igual a 0 son constantes -> no hay variación, no aportan al modelo, por lo que quizá deberíamos eliminarlas\n",
    "wind_ava.std()"
   ]
  },
  {
   "cell_type": "markdown",
   "metadata": {},
   "source": [
    "## Plots"
   ]
  },
  {
   "cell_type": "code",
   "execution_count": 10,
   "metadata": {},
   "outputs": [
    {
     "data": {
      "text/plain": [
       "<AxesSubplot:xlabel='datetime'>"
      ]
     },
     "execution_count": 10,
     "metadata": {},
     "output_type": "execute_result"
    },
    {
     "data": {
      "image/png": "[encoded data removed]",
      "text/plain": [
       "<Figure size 432x288 with 1 Axes>"
      ]
     },
     "metadata": {
      "needs_background": "light"
     },
     "output_type": "display_data"
    }
   ],
   "source": [
    "wind_ava['energy'].plot(rot=45)\n",
    "# podemos usar la librería de matplotlib"
   ]
  },
  {
   "cell_type": "code",
   "execution_count": 11,
   "metadata": {},
   "outputs": [
    {
     "data": {
      "text/plain": [
       "<AxesSubplot:>"
      ]
     },
     "execution_count": 11,
     "metadata": {},
     "output_type": "execute_result"
    },
    {
     "data": {
      "image/png": "[encoded data removed]",
      "text/plain": [
       "<Figure size 432x288 with 1 Axes>"
      ]
     },
     "metadata": {
      "needs_background": "light"
     },
     "output_type": "display_data"
    }
   ],
   "source": [
    "# para interpretar outliers usamos un boxplot\n",
    "# mediana, cuartil 1 y 3, y los rangos intercuartílicos\n",
    "wind_ava['energy'].plot.box()"
   ]
  },
  {
   "cell_type": "code",
   "execution_count": 12,
   "metadata": {},
   "outputs": [
    {
     "data": {
      "text/plain": [
       "<AxesSubplot:ylabel='Frequency'>"
      ]
     },
     "execution_count": 12,
     "metadata": {},
     "output_type": "execute_result"
    },
    {
     "data": {
      "image/png": "[encoded data removed]",
      "text/plain": [
       "<Figure size 432x288 with 1 Axes>"
      ]
     },
     "metadata": {
      "needs_background": "light"
     },
     "output_type": "display_data"
    }
   ],
   "source": [
    "# indica la frecuencia de energía por cada rango temporal\n",
    "# bins es el número de divisiones, probar con número hasta que se vea bien\n",
    "wind_ava['energy'].plot.hist(bins=30)"
   ]
  },
  {
   "cell_type": "code",
   "execution_count": 13,
   "metadata": {},
   "outputs": [
    {
     "ename": "NameError",
     "evalue": "name 'np' is not defined",
     "output_type": "error",
     "traceback": [
      "\u001b[1;31m---------------------------------------------------------------------------\u001b[0m",
      "\u001b[1;31mNameError\u001b[0m                                 Traceback (most recent call last)",
      "\u001b[1;32m<ipython-input-13-37352b0af2a5>\u001b[0m in \u001b[0;36m<module>\u001b[1;34m\u001b[0m\n\u001b[0;32m      1\u001b[0m \u001b[1;31m# si tenemos una distribución que se nos va hacia la izquierda (pinta logarítmica), si le aplicamos el logaritmo\u001b[0m\u001b[1;33m\u001b[0m\u001b[1;33m\u001b[0m\u001b[1;33m\u001b[0m\u001b[0m\n\u001b[0;32m      2\u001b[0m \u001b[1;31m# a veces corrige el sesgo a uno de los dos lados (pinta distribución normal)\u001b[0m\u001b[1;33m\u001b[0m\u001b[1;33m\u001b[0m\u001b[1;33m\u001b[0m\u001b[0m\n\u001b[1;32m----> 3\u001b[1;33m \u001b[0mwind_ava\u001b[0m\u001b[1;33m[\u001b[0m\u001b[1;34m'log_energy'\u001b[0m\u001b[1;33m]\u001b[0m \u001b[1;33m=\u001b[0m \u001b[0mnp\u001b[0m\u001b[1;33m.\u001b[0m\u001b[0mlog\u001b[0m\u001b[1;33m(\u001b[0m\u001b[0mwind_ava\u001b[0m\u001b[1;33m[\u001b[0m\u001b[1;34m'energy'\u001b[0m\u001b[1;33m]\u001b[0m\u001b[1;33m)\u001b[0m\u001b[1;33m\u001b[0m\u001b[1;33m\u001b[0m\u001b[0m\n\u001b[0m",
      "\u001b[1;31mNameError\u001b[0m: name 'np' is not defined"
     ]
    }
   ],
   "source": [
    "# si tenemos una distribución que se nos va hacia la izquierda (pinta logarítmica), si le aplicamos el logaritmo\n",
    "# a veces corrige el sesgo a uno de los dos lados (pinta distribución normal)\n",
    "wind_ava['log_energy'] = np.log(wind_ava['energy'])"
   ]
  },
  {
   "cell_type": "code",
   "execution_count": null,
   "metadata": {},
   "outputs": [],
   "source": [
    "wind_ava['log_energy'].plot.hist(bins=30)"
   ]
  },
  {
   "cell_type": "markdown",
   "metadata": {},
   "source": [
    "## Validación cruzada"
   ]
  },
  {
   "cell_type": "markdown",
   "metadata": {},
   "source": [
    "Importante hacer Time series split para hacer la validación cruzada"
   ]
  },
  {
   "cell_type": "markdown",
   "metadata": {},
   "source": [
    "## Exportar modelos"
   ]
  },
  {
   "cell_type": "markdown",
   "metadata": {},
   "source": [
    "Cómo obtener el archivo .pkl \n"
   ]
  },
  {
   "cell_type": "code",
   "execution_count": null,
   "metadata": {},
   "outputs": [],
   "source": [
    "model.fit(x, y)\n",
    "import pickle\n",
    "s = pickle.dumps(clf)\n",
    "clf2 = pickle.loads(s)\n",
    "clf2.predict(X[0:1])\n"
   ]
  }
 ],
 "metadata": {
  "kernelspec": {
   "display_name": "Python 3",
   "language": "python",
   "name": "python3"
  },
  "language_info": {
   "codemirror_mode": {
    "name": "ipython",
    "version": 3
   },
   "file_extension": ".py",
   "mimetype": "text/x-python",
   "name": "python",
   "nbconvert_exporter": "python",
   "pygments_lexer": "ipython3",
   "version": "3.8.5"
  }
 },
 "nbformat": 4,
 "nbformat_minor": 4
}

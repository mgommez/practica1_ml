{
 "cells": [
  {
   "cell_type": "code",
   "execution_count": 10,
   "metadata": {},
   "outputs": [],
   "source": [
    "import pandas as pd"
   ]
  },
  {
   "cell_type": "code",
   "execution_count": 13,
   "metadata": {},
   "outputs": [],
   "source": [
    "wind_ava=pd.read_csv('wind_ava.csv.gz', compression = \"gzip\")\n",
    "wind_comp=pd.read_csv('wind_comp.csv.gz', compression = \"gzip\")"
   ]
  },
  {
   "cell_type": "code",
   "execution_count": 14,
   "metadata": {},
   "outputs": [],
   "source": [
    "# para las series de tiempo\n",
    "wind_ava = wind_ava.set_index('datetime')"
   ]
  },
  {
   "cell_type": "code",
   "execution_count": 15,
   "metadata": {},
   "outputs": [
    {
     "data": {
      "text/html": [
       "<div>\n",
       "<style scoped>\n",
       "    .dataframe tbody tr th:only-of-type {\n",
       "        vertical-align: middle;\n",
       "    }\n",
       "\n",
       "    .dataframe tbody tr th {\n",
       "        vertical-align: top;\n",
       "    }\n",
       "\n",
       "    .dataframe thead th {\n",
       "        text-align: right;\n",
       "    }\n",
       "</style>\n",
       "<table border=\"1\" class=\"dataframe\">\n",
       "  <thead>\n",
       "    <tr style=\"text-align: right;\">\n",
       "      <th></th>\n",
       "      <th>energy</th>\n",
       "      <th>p54.162.1</th>\n",
       "      <th>p54.162.2</th>\n",
       "      <th>p54.162.3</th>\n",
       "      <th>p54.162.4</th>\n",
       "      <th>p54.162.5</th>\n",
       "      <th>p54.162.6</th>\n",
       "      <th>p54.162.7</th>\n",
       "      <th>p54.162.8</th>\n",
       "      <th>p54.162.9</th>\n",
       "      <th>...</th>\n",
       "      <th>v100.16</th>\n",
       "      <th>v100.17</th>\n",
       "      <th>v100.18</th>\n",
       "      <th>v100.19</th>\n",
       "      <th>v100.20</th>\n",
       "      <th>v100.21</th>\n",
       "      <th>v100.22</th>\n",
       "      <th>v100.23</th>\n",
       "      <th>v100.24</th>\n",
       "      <th>v100.25</th>\n",
       "    </tr>\n",
       "    <tr>\n",
       "      <th>datetime</th>\n",
       "      <th></th>\n",
       "      <th></th>\n",
       "      <th></th>\n",
       "      <th></th>\n",
       "      <th></th>\n",
       "      <th></th>\n",
       "      <th></th>\n",
       "      <th></th>\n",
       "      <th></th>\n",
       "      <th></th>\n",
       "      <th></th>\n",
       "      <th></th>\n",
       "      <th></th>\n",
       "      <th></th>\n",
       "      <th></th>\n",
       "      <th></th>\n",
       "      <th></th>\n",
       "      <th></th>\n",
       "      <th></th>\n",
       "      <th></th>\n",
       "      <th></th>\n",
       "    </tr>\n",
       "  </thead>\n",
       "  <tbody>\n",
       "    <tr>\n",
       "      <th>2005-01-02 18:00:00</th>\n",
       "      <td>402.71</td>\n",
       "      <td>2.534970e+06</td>\n",
       "      <td>2.526864e+06</td>\n",
       "      <td>2.518754e+06</td>\n",
       "      <td>2.510648e+06</td>\n",
       "      <td>2.502537e+06</td>\n",
       "      <td>2.531111e+06</td>\n",
       "      <td>2.522721e+06</td>\n",
       "      <td>2.514330e+06</td>\n",
       "      <td>2.505940e+06</td>\n",
       "      <td>...</td>\n",
       "      <td>-4.683596</td>\n",
       "      <td>-4.545396</td>\n",
       "      <td>-4.407196</td>\n",
       "      <td>-4.268996</td>\n",
       "      <td>-4.131295</td>\n",
       "      <td>-4.669626</td>\n",
       "      <td>-4.528932</td>\n",
       "      <td>-4.388736</td>\n",
       "      <td>-4.248540</td>\n",
       "      <td>-4.107846</td>\n",
       "    </tr>\n",
       "    <tr>\n",
       "      <th>2005-01-03 00:00:00</th>\n",
       "      <td>696.80</td>\n",
       "      <td>2.537369e+06</td>\n",
       "      <td>2.529277e+06</td>\n",
       "      <td>2.521184e+06</td>\n",
       "      <td>2.513088e+06</td>\n",
       "      <td>2.504995e+06</td>\n",
       "      <td>2.533465e+06</td>\n",
       "      <td>2.525088e+06</td>\n",
       "      <td>2.516716e+06</td>\n",
       "      <td>2.508339e+06</td>\n",
       "      <td>...</td>\n",
       "      <td>-3.397886</td>\n",
       "      <td>-3.257192</td>\n",
       "      <td>-3.115998</td>\n",
       "      <td>-2.975304</td>\n",
       "      <td>-2.834609</td>\n",
       "      <td>-3.396390</td>\n",
       "      <td>-3.254198</td>\n",
       "      <td>-3.112506</td>\n",
       "      <td>-2.970314</td>\n",
       "      <td>-2.828622</td>\n",
       "    </tr>\n",
       "    <tr>\n",
       "      <th>2005-01-03 06:00:00</th>\n",
       "      <td>1591.15</td>\n",
       "      <td>2.533727e+06</td>\n",
       "      <td>2.525703e+06</td>\n",
       "      <td>2.517678e+06</td>\n",
       "      <td>2.509654e+06</td>\n",
       "      <td>2.501629e+06</td>\n",
       "      <td>2.529801e+06</td>\n",
       "      <td>2.521496e+06</td>\n",
       "      <td>2.513187e+06</td>\n",
       "      <td>2.504882e+06</td>\n",
       "      <td>...</td>\n",
       "      <td>-1.454105</td>\n",
       "      <td>-1.296447</td>\n",
       "      <td>-1.138290</td>\n",
       "      <td>-0.980134</td>\n",
       "      <td>-0.822476</td>\n",
       "      <td>-1.459094</td>\n",
       "      <td>-1.302933</td>\n",
       "      <td>-1.147271</td>\n",
       "      <td>-0.991110</td>\n",
       "      <td>-0.834949</td>\n",
       "    </tr>\n",
       "    <tr>\n",
       "      <th>2005-01-03 12:00:00</th>\n",
       "      <td>1338.62</td>\n",
       "      <td>2.534491e+06</td>\n",
       "      <td>2.526548e+06</td>\n",
       "      <td>2.518609e+06</td>\n",
       "      <td>2.510670e+06</td>\n",
       "      <td>2.502732e+06</td>\n",
       "      <td>2.530569e+06</td>\n",
       "      <td>2.522346e+06</td>\n",
       "      <td>2.514127e+06</td>\n",
       "      <td>2.505904e+06</td>\n",
       "      <td>...</td>\n",
       "      <td>1.255015</td>\n",
       "      <td>1.370265</td>\n",
       "      <td>1.485515</td>\n",
       "      <td>1.600765</td>\n",
       "      <td>1.716015</td>\n",
       "      <td>1.210612</td>\n",
       "      <td>1.319376</td>\n",
       "      <td>1.428140</td>\n",
       "      <td>1.536405</td>\n",
       "      <td>1.645169</td>\n",
       "    </tr>\n",
       "    <tr>\n",
       "      <th>2005-01-03 18:00:00</th>\n",
       "      <td>562.50</td>\n",
       "      <td>2.529543e+06</td>\n",
       "      <td>2.521623e+06</td>\n",
       "      <td>2.513702e+06</td>\n",
       "      <td>2.505782e+06</td>\n",
       "      <td>2.497861e+06</td>\n",
       "      <td>2.525621e+06</td>\n",
       "      <td>2.517421e+06</td>\n",
       "      <td>2.509215e+06</td>\n",
       "      <td>2.501015e+06</td>\n",
       "      <td>...</td>\n",
       "      <td>1.939031</td>\n",
       "      <td>2.023847</td>\n",
       "      <td>2.108663</td>\n",
       "      <td>2.193977</td>\n",
       "      <td>2.278793</td>\n",
       "      <td>1.873673</td>\n",
       "      <td>1.953000</td>\n",
       "      <td>2.031829</td>\n",
       "      <td>2.111157</td>\n",
       "      <td>2.189986</td>\n",
       "    </tr>\n",
       "  </tbody>\n",
       "</table>\n",
       "<p>5 rows × 551 columns</p>\n",
       "</div>"
      ],
      "text/plain": [
       "                      energy     p54.162.1     p54.162.2     p54.162.3  \\\n",
       "datetime                                                                 \n",
       "2005-01-02 18:00:00   402.71  2.534970e+06  2.526864e+06  2.518754e+06   \n",
       "2005-01-03 00:00:00   696.80  2.537369e+06  2.529277e+06  2.521184e+06   \n",
       "2005-01-03 06:00:00  1591.15  2.533727e+06  2.525703e+06  2.517678e+06   \n",
       "2005-01-03 12:00:00  1338.62  2.534491e+06  2.526548e+06  2.518609e+06   \n",
       "2005-01-03 18:00:00   562.50  2.529543e+06  2.521623e+06  2.513702e+06   \n",
       "\n",
       "                        p54.162.4     p54.162.5     p54.162.6     p54.162.7  \\\n",
       "datetime                                                                      \n",
       "2005-01-02 18:00:00  2.510648e+06  2.502537e+06  2.531111e+06  2.522721e+06   \n",
       "2005-01-03 00:00:00  2.513088e+06  2.504995e+06  2.533465e+06  2.525088e+06   \n",
       "2005-01-03 06:00:00  2.509654e+06  2.501629e+06  2.529801e+06  2.521496e+06   \n",
       "2005-01-03 12:00:00  2.510670e+06  2.502732e+06  2.530569e+06  2.522346e+06   \n",
       "2005-01-03 18:00:00  2.505782e+06  2.497861e+06  2.525621e+06  2.517421e+06   \n",
       "\n",
       "                        p54.162.8     p54.162.9  ...   v100.16   v100.17  \\\n",
       "datetime                                         ...                       \n",
       "2005-01-02 18:00:00  2.514330e+06  2.505940e+06  ... -4.683596 -4.545396   \n",
       "2005-01-03 00:00:00  2.516716e+06  2.508339e+06  ... -3.397886 -3.257192   \n",
       "2005-01-03 06:00:00  2.513187e+06  2.504882e+06  ... -1.454105 -1.296447   \n",
       "2005-01-03 12:00:00  2.514127e+06  2.505904e+06  ...  1.255015  1.370265   \n",
       "2005-01-03 18:00:00  2.509215e+06  2.501015e+06  ...  1.939031  2.023847   \n",
       "\n",
       "                      v100.18   v100.19   v100.20   v100.21   v100.22  \\\n",
       "datetime                                                                \n",
       "2005-01-02 18:00:00 -4.407196 -4.268996 -4.131295 -4.669626 -4.528932   \n",
       "2005-01-03 00:00:00 -3.115998 -2.975304 -2.834609 -3.396390 -3.254198   \n",
       "2005-01-03 06:00:00 -1.138290 -0.980134 -0.822476 -1.459094 -1.302933   \n",
       "2005-01-03 12:00:00  1.485515  1.600765  1.716015  1.210612  1.319376   \n",
       "2005-01-03 18:00:00  2.108663  2.193977  2.278793  1.873673  1.953000   \n",
       "\n",
       "                      v100.23   v100.24   v100.25  \n",
       "datetime                                           \n",
       "2005-01-02 18:00:00 -4.388736 -4.248540 -4.107846  \n",
       "2005-01-03 00:00:00 -3.112506 -2.970314 -2.828622  \n",
       "2005-01-03 06:00:00 -1.147271 -0.991110 -0.834949  \n",
       "2005-01-03 12:00:00  1.428140  1.536405  1.645169  \n",
       "2005-01-03 18:00:00  2.031829  2.111157  2.189986  \n",
       "\n",
       "[5 rows x 551 columns]"
      ]
     },
     "execution_count": 15,
     "metadata": {},
     "output_type": "execute_result"
    }
   ],
   "source": [
    "wind_ava.head()"
   ]
  },
  {
   "cell_type": "markdown",
   "metadata": {},
   "source": [
    "## Quitar columnas no necesarias"
   ]
  },
  {
   "cell_type": "code",
   "execution_count": null,
   "metadata": {},
   "outputs": [],
   "source": []
  },
  {
   "cell_type": "code",
   "execution_count": 1,
   "metadata": {},
   "outputs": [
    {
     "ename": "NameError",
     "evalue": "name 'wind_ava' is not defined",
     "output_type": "error",
     "traceback": [
      "\u001b[1;31m---------------------------------------------------------------------------\u001b[0m",
      "\u001b[1;31mNameError\u001b[0m                                 Traceback (most recent call last)",
      "\u001b[1;32m<ipython-input-1-f270200215c1>\u001b[0m in \u001b[0;36m<module>\u001b[1;34m\u001b[0m\n\u001b[1;32m----> 1\u001b[1;33m \u001b[1;32mfor\u001b[0m \u001b[0mc\u001b[0m \u001b[1;32min\u001b[0m \u001b[0mwind_ava\u001b[0m\u001b[1;33m.\u001b[0m\u001b[0mcolumns\u001b[0m\u001b[1;33m:\u001b[0m\u001b[1;33m\u001b[0m\u001b[1;33m\u001b[0m\u001b[0m\n\u001b[0m\u001b[0;32m      2\u001b[0m     \u001b[0mprint\u001b[0m\u001b[1;33m(\u001b[0m\u001b[0mc\u001b[0m\u001b[1;33m)\u001b[0m\u001b[1;33m\u001b[0m\u001b[1;33m\u001b[0m\u001b[0m\n",
      "\u001b[1;31mNameError\u001b[0m: name 'wind_ava' is not defined"
     ]
    }
   ],
   "source": [
    "for c in wind_ava.columns:\n",
    "    # no queremos datetime tal cual, queremos pasarlo a\n",
    "    if not c.endswith('.13') and c != 'energy':\n",
    "        # tenemos que poner axis 1 en la función drop porque por defecto está puesto a axis=0 para que elimine filas, \n",
    "        # nosotros queremos eliminar columnas\n",
    "        \n",
    "        # tenemos que almacenar la nueva tabla (la anterior sin esa columna que eliminamos), como en la línea superior\n",
    "        # opción 1\n",
    "        wind_ava = wind_ava.drop(c, axis=1)\n",
    "        # también lo podemos hacer ocn el parámetro 'inplace', que modifica el objeto tabla y que por defecto es False\n",
    "        # opción 2\n",
    "        # wind_ava.drop(c, axi=1, inplace=True)"
   ]
  },
  {
   "cell_type": "code",
   "execution_count": null,
   "metadata": {},
   "outputs": [],
   "source": [
    "# coge el índice como eje x\n",
    "wind_ava['energy'].plot()"
   ]
  },
  {
   "cell_type": "code",
   "execution_count": null,
   "metadata": {},
   "outputs": [],
   "source": [
    "wind_ava"
   ]
  },
  {
   "cell_type": "markdown",
   "metadata": {},
   "source": [
    "## Valores faltantes"
   ]
  },
  {
   "cell_type": "markdown",
   "metadata": {},
   "source": [
    "Podemos hacer dos cosas: quitar fila o quitar columna\n",
    "Si en la columna hay un 80% de valores faltantes me interesa más quitar la columnas, si hay pocos valores faltantes igual quitamos la fila.\n",
    "¿Cómo vemos los valores faltantes que hay en la tabla?\n",
    "Con un query?"
   ]
  },
  {
   "cell_type": "markdown",
   "metadata": {},
   "source": [
    "Hay un método de panda -> isna()"
   ]
  },
  {
   "cell_type": "markdown",
   "metadata": {},
   "source": [
    "Un valor faltante no es un 0, podemos arreglarlo de otra manera pero no se deben eliminar"
   ]
  },
  {
   "cell_type": "code",
   "execution_count": null,
   "metadata": {},
   "outputs": [],
   "source": [
    "# podemos sumar todos los valores faltantes\n",
    "wind_ava.isna().sum()"
   ]
  },
  {
   "cell_type": "markdown",
   "metadata": {},
   "source": [
    "¿Cómo ver si hay columnas constantes?"
   ]
  },
  {
   "cell_type": "markdown",
   "metadata": {},
   "source": [
    "Miramos si las columnas tienen desviación típica 0"
   ]
  },
  {
   "cell_type": "code",
   "execution_count": null,
   "metadata": {},
   "outputs": [],
   "source": [
    "# las que estén igual a 0 son constantes -> no hay variación, no aportan al modelo, por lo que quizá deberíamos eliminarlas\n",
    "wind_ava.std()"
   ]
  },
  {
   "cell_type": "markdown",
   "metadata": {},
   "source": [
    "## Plots"
   ]
  },
  {
   "cell_type": "code",
   "execution_count": null,
   "metadata": {},
   "outputs": [],
   "source": [
    "wind_ava['energy'].plot(rot=45)\n",
    "# podemos usar la librería de matplotlib"
   ]
  },
  {
   "cell_type": "code",
   "execution_count": null,
   "metadata": {},
   "outputs": [],
   "source": [
    "# para interpretar outliers usamos un boxplot\n",
    "# mediana, cuartil 1 y 3, y los rangos intercuartílicos\n",
    "wind_ava['energy'].plot.box()"
   ]
  },
  {
   "cell_type": "code",
   "execution_count": null,
   "metadata": {},
   "outputs": [],
   "source": [
    "# indica la frecuencia de energía por cada rango temporal\n",
    "# bins es el número de divisiones, probar con número hasta que se vea bien\n",
    "wind_ava['energy'].plot.hist(bins=30)"
   ]
  },
  {
   "cell_type": "code",
   "execution_count": null,
   "metadata": {},
   "outputs": [],
   "source": [
    "# si tenemos una distribución que se nos va hacia la izquierda (pinta logarítmica), si le aplicamos el logaritmo\n",
    "# a veces corrige el sesgo a uno de los dos lados (pinta distribución normal)\n",
    "wind_ava['log_energy'] = np.log(wind_ava['energy'])"
   ]
  },
  {
   "cell_type": "code",
   "execution_count": null,
   "metadata": {},
   "outputs": [],
   "source": [
    "wind_ava['log_energy'].plot.hist(bins=30)"
   ]
  },
  {
   "cell_type": "markdown",
   "metadata": {},
   "source": [
    "## Validación cruzada"
   ]
  },
  {
   "cell_type": "markdown",
   "metadata": {},
   "source": [
    "Importante hacer Time series split para hacer la validación cruzada"
   ]
  },
  {
   "cell_type": "markdown",
   "metadata": {},
   "source": [
    "## Exportar modelos"
   ]
  },
  {
   "cell_type": "markdown",
   "metadata": {},
   "source": [
    "Cómo obtener el archivo .pkl \n"
   ]
  },
  {
   "cell_type": "code",
   "execution_count": null,
   "metadata": {},
   "outputs": [],
   "source": [
    "model.fit(x, y)\n",
    "import pickle\n",
    "s = pickle.dumps(clf)\n",
    "clf2 = pickle.loads(s)\n",
    "clf2.predict(X[0:1])\n"
   ]
  }
 ],
 "metadata": {
  "kernelspec": {
   "display_name": "Python 3",
   "language": "python",
   "name": "python3"
  },
  "language_info": {
   "codemirror_mode": {
    "name": "ipython",
    "version": 3
   },
   "file_extension": ".py",
   "mimetype": "text/x-python",
   "name": "python",
   "nbconvert_exporter": "python",
   "pygments_lexer": "ipython3",
   "version": "3.8.5"
  }
 },
 "nbformat": 4,
 "nbformat_minor": 4
}

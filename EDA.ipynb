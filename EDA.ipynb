{
 "cells": [
  {
   "cell_type": "markdown",
   "metadata": {},
   "source": [
    "# Data Analysis Notebook\n",
    "Importación de librerías\n"
   ],
   "id": "bbf2c65d644ff99a"
  },
  {
   "cell_type": "code",
   "execution_count": 78,
   "metadata": {
    "ExecuteTime": {
     "end_time": "2024-03-27T09:54:41.341945800Z",
     "start_time": "2024-03-27T09:54:40.464318700Z"
    }
   },
   "outputs": [],
   "source": [
    "import pandas as pd\n",
    "import matplotlib\n",
    "import sklearn\n",
    "from sklearn import preprocessing, neighbors, metrics, pipeline\n",
    "from sklearn.pipeline import Pipeline\n",
    "from sklearn.model_selection import TimeSeriesSplit, cross_val_score"
   ],
   "id": "f073adad9b6a8a7f"
  },
  {
   "cell_type": "markdown",
   "metadata": {},
   "source": [
    "Lectura de ficheros de datos en formato csv"
   ],
   "id": "63a2fd82100cff55"
  },
  {
   "cell_type": "code",
   "execution_count": 79,
   "metadata": {
    "ExecuteTime": {
     "end_time": "2024-03-27T09:54:46.267154700Z",
     "start_time": "2024-03-27T09:54:41.320462100Z"
    }
   },
   "outputs": [],
   "source": [
    "wind_ava=pd.read_csv('wind_ava.csv.gz', compression = \"gzip\")\n",
    "\n",
    "wind_comp=pd.read_csv('wind_comp.csv.gz', compression = \"gzip\")"
   ],
   "id": "a39bcadbb820f706"
  },
  {
   "cell_type": "markdown",
   "metadata": {},
   "source": [
    "Visualización de las primeras muestras de datos de los ficheros iniciales"
   ],
   "id": "2e7fe9f088b1060d"
  },
  {
   "cell_type": "code",
   "execution_count": 80,
   "metadata": {
    "ExecuteTime": {
     "end_time": "2024-03-27T09:54:46.329906400Z",
     "start_time": "2024-03-27T09:54:46.271496600Z"
    }
   },
   "outputs": [
    {
     "data": {
      "text/plain": "              datetime   energy     p54.162.1     p54.162.2     p54.162.3  \\\n0  2005-01-02 18:00:00   402.71  2.534970e+06  2.526864e+06  2.518754e+06   \n1  2005-01-03 00:00:00   696.80  2.537369e+06  2.529277e+06  2.521184e+06   \n2  2005-01-03 06:00:00  1591.15  2.533727e+06  2.525703e+06  2.517678e+06   \n3  2005-01-03 12:00:00  1338.62  2.534491e+06  2.526548e+06  2.518609e+06   \n4  2005-01-03 18:00:00   562.50  2.529543e+06  2.521623e+06  2.513702e+06   \n\n      p54.162.4     p54.162.5     p54.162.6     p54.162.7     p54.162.8  ...  \\\n0  2.510648e+06  2.502537e+06  2.531111e+06  2.522721e+06  2.514330e+06  ...   \n1  2.513088e+06  2.504995e+06  2.533465e+06  2.525088e+06  2.516716e+06  ...   \n2  2.509654e+06  2.501629e+06  2.529801e+06  2.521496e+06  2.513187e+06  ...   \n3  2.510670e+06  2.502732e+06  2.530569e+06  2.522346e+06  2.514127e+06  ...   \n4  2.505782e+06  2.497861e+06  2.525621e+06  2.517421e+06  2.509215e+06  ...   \n\n    v100.16   v100.17   v100.18   v100.19   v100.20   v100.21   v100.22  \\\n0 -4.683596 -4.545396 -4.407196 -4.268996 -4.131295 -4.669626 -4.528932   \n1 -3.397886 -3.257192 -3.115998 -2.975304 -2.834609 -3.396390 -3.254198   \n2 -1.454105 -1.296447 -1.138290 -0.980134 -0.822476 -1.459094 -1.302933   \n3  1.255015  1.370265  1.485515  1.600765  1.716015  1.210612  1.319376   \n4  1.939031  2.023847  2.108663  2.193977  2.278793  1.873673  1.953000   \n\n    v100.23   v100.24   v100.25  \n0 -4.388736 -4.248540 -4.107846  \n1 -3.112506 -2.970314 -2.828622  \n2 -1.147271 -0.991110 -0.834949  \n3  1.428140  1.536405  1.645169  \n4  2.031829  2.111157  2.189986  \n\n[5 rows x 552 columns]",
      "text/html": "<div>\n<style scoped>\n    .dataframe tbody tr th:only-of-type {\n        vertical-align: middle;\n    }\n\n    .dataframe tbody tr th {\n        vertical-align: top;\n    }\n\n    .dataframe thead th {\n        text-align: right;\n    }\n</style>\n<table border=\"1\" class=\"dataframe\">\n  <thead>\n    <tr style=\"text-align: right;\">\n      <th></th>\n      <th>datetime</th>\n      <th>energy</th>\n      <th>p54.162.1</th>\n      <th>p54.162.2</th>\n      <th>p54.162.3</th>\n      <th>p54.162.4</th>\n      <th>p54.162.5</th>\n      <th>p54.162.6</th>\n      <th>p54.162.7</th>\n      <th>p54.162.8</th>\n      <th>...</th>\n      <th>v100.16</th>\n      <th>v100.17</th>\n      <th>v100.18</th>\n      <th>v100.19</th>\n      <th>v100.20</th>\n      <th>v100.21</th>\n      <th>v100.22</th>\n      <th>v100.23</th>\n      <th>v100.24</th>\n      <th>v100.25</th>\n    </tr>\n  </thead>\n  <tbody>\n    <tr>\n      <th>0</th>\n      <td>2005-01-02 18:00:00</td>\n      <td>402.71</td>\n      <td>2.534970e+06</td>\n      <td>2.526864e+06</td>\n      <td>2.518754e+06</td>\n      <td>2.510648e+06</td>\n      <td>2.502537e+06</td>\n      <td>2.531111e+06</td>\n      <td>2.522721e+06</td>\n      <td>2.514330e+06</td>\n      <td>...</td>\n      <td>-4.683596</td>\n      <td>-4.545396</td>\n      <td>-4.407196</td>\n      <td>-4.268996</td>\n      <td>-4.131295</td>\n      <td>-4.669626</td>\n      <td>-4.528932</td>\n      <td>-4.388736</td>\n      <td>-4.248540</td>\n      <td>-4.107846</td>\n    </tr>\n    <tr>\n      <th>1</th>\n      <td>2005-01-03 00:00:00</td>\n      <td>696.80</td>\n      <td>2.537369e+06</td>\n      <td>2.529277e+06</td>\n      <td>2.521184e+06</td>\n      <td>2.513088e+06</td>\n      <td>2.504995e+06</td>\n      <td>2.533465e+06</td>\n      <td>2.525088e+06</td>\n      <td>2.516716e+06</td>\n      <td>...</td>\n      <td>-3.397886</td>\n      <td>-3.257192</td>\n      <td>-3.115998</td>\n      <td>-2.975304</td>\n      <td>-2.834609</td>\n      <td>-3.396390</td>\n      <td>-3.254198</td>\n      <td>-3.112506</td>\n      <td>-2.970314</td>\n      <td>-2.828622</td>\n    </tr>\n    <tr>\n      <th>2</th>\n      <td>2005-01-03 06:00:00</td>\n      <td>1591.15</td>\n      <td>2.533727e+06</td>\n      <td>2.525703e+06</td>\n      <td>2.517678e+06</td>\n      <td>2.509654e+06</td>\n      <td>2.501629e+06</td>\n      <td>2.529801e+06</td>\n      <td>2.521496e+06</td>\n      <td>2.513187e+06</td>\n      <td>...</td>\n      <td>-1.454105</td>\n      <td>-1.296447</td>\n      <td>-1.138290</td>\n      <td>-0.980134</td>\n      <td>-0.822476</td>\n      <td>-1.459094</td>\n      <td>-1.302933</td>\n      <td>-1.147271</td>\n      <td>-0.991110</td>\n      <td>-0.834949</td>\n    </tr>\n    <tr>\n      <th>3</th>\n      <td>2005-01-03 12:00:00</td>\n      <td>1338.62</td>\n      <td>2.534491e+06</td>\n      <td>2.526548e+06</td>\n      <td>2.518609e+06</td>\n      <td>2.510670e+06</td>\n      <td>2.502732e+06</td>\n      <td>2.530569e+06</td>\n      <td>2.522346e+06</td>\n      <td>2.514127e+06</td>\n      <td>...</td>\n      <td>1.255015</td>\n      <td>1.370265</td>\n      <td>1.485515</td>\n      <td>1.600765</td>\n      <td>1.716015</td>\n      <td>1.210612</td>\n      <td>1.319376</td>\n      <td>1.428140</td>\n      <td>1.536405</td>\n      <td>1.645169</td>\n    </tr>\n    <tr>\n      <th>4</th>\n      <td>2005-01-03 18:00:00</td>\n      <td>562.50</td>\n      <td>2.529543e+06</td>\n      <td>2.521623e+06</td>\n      <td>2.513702e+06</td>\n      <td>2.505782e+06</td>\n      <td>2.497861e+06</td>\n      <td>2.525621e+06</td>\n      <td>2.517421e+06</td>\n      <td>2.509215e+06</td>\n      <td>...</td>\n      <td>1.939031</td>\n      <td>2.023847</td>\n      <td>2.108663</td>\n      <td>2.193977</td>\n      <td>2.278793</td>\n      <td>1.873673</td>\n      <td>1.953000</td>\n      <td>2.031829</td>\n      <td>2.111157</td>\n      <td>2.189986</td>\n    </tr>\n  </tbody>\n</table>\n<p>5 rows × 552 columns</p>\n</div>"
     },
     "execution_count": 80,
     "metadata": {},
     "output_type": "execute_result"
    }
   ],
   "source": [
    "wind_ava.head()"
   ],
   "id": "670d75686f34a570"
  },
  {
   "cell_type": "code",
   "execution_count": 81,
   "metadata": {
    "ExecuteTime": {
     "end_time": "2024-03-27T09:54:46.462877600Z",
     "start_time": "2024-03-27T09:54:46.334849Z"
    }
   },
   "outputs": [
    {
     "data": {
      "text/plain": "              datetime   energy     p54.162.1     p54.162.2     p54.162.3  \\\n0  2005-01-02 18:00:00   402.71  2.534970e+06  2.526864e+06  2.518754e+06   \n1  2005-01-03 00:00:00   696.80  2.537369e+06  2.529277e+06  2.521184e+06   \n2  2005-01-03 06:00:00  1591.15  2.533727e+06  2.525703e+06  2.517678e+06   \n3  2005-01-03 12:00:00  1338.62  2.534491e+06  2.526548e+06  2.518609e+06   \n4  2005-01-03 18:00:00   562.50  2.529543e+06  2.521623e+06  2.513702e+06   \n\n      p54.162.4     p54.162.5     p54.162.6     p54.162.7     p54.162.8  ...  \\\n0  2.510648e+06  2.502537e+06  2.531111e+06  2.522721e+06  2.514330e+06  ...   \n1  2.513088e+06  2.504995e+06  2.533465e+06  2.525088e+06  2.516716e+06  ...   \n2  2.509654e+06  2.501629e+06  2.529801e+06  2.521496e+06  2.513187e+06  ...   \n3  2.510670e+06  2.502732e+06  2.530569e+06  2.522346e+06  2.514127e+06  ...   \n4  2.505782e+06  2.497861e+06  2.525621e+06  2.517421e+06  2.509215e+06  ...   \n\n    v100.16   v100.17   v100.18   v100.19   v100.20   v100.21   v100.22  \\\n0 -4.683596 -4.545396 -4.407196 -4.268996 -4.131295 -4.669626 -4.528932   \n1 -3.397886 -3.257192 -3.115998 -2.975304 -2.834609 -3.396390 -3.254198   \n2 -1.454105 -1.296447 -1.138290 -0.980134 -0.822476 -1.459094 -1.302933   \n3  1.255015  1.370265  1.485515  1.600765  1.716015  1.210612  1.319376   \n4  1.939031  2.023847  2.108663  2.193977  2.278793  1.873673  1.953000   \n\n    v100.23   v100.24   v100.25  \n0 -4.388736 -4.248540 -4.107846  \n1 -3.112506 -2.970314 -2.828622  \n2 -1.147271 -0.991110 -0.834949  \n3  1.428140  1.536405  1.645169  \n4  2.031829  2.111157  2.189986  \n\n[5 rows x 552 columns]",
      "text/html": "<div>\n<style scoped>\n    .dataframe tbody tr th:only-of-type {\n        vertical-align: middle;\n    }\n\n    .dataframe tbody tr th {\n        vertical-align: top;\n    }\n\n    .dataframe thead th {\n        text-align: right;\n    }\n</style>\n<table border=\"1\" class=\"dataframe\">\n  <thead>\n    <tr style=\"text-align: right;\">\n      <th></th>\n      <th>datetime</th>\n      <th>energy</th>\n      <th>p54.162.1</th>\n      <th>p54.162.2</th>\n      <th>p54.162.3</th>\n      <th>p54.162.4</th>\n      <th>p54.162.5</th>\n      <th>p54.162.6</th>\n      <th>p54.162.7</th>\n      <th>p54.162.8</th>\n      <th>...</th>\n      <th>v100.16</th>\n      <th>v100.17</th>\n      <th>v100.18</th>\n      <th>v100.19</th>\n      <th>v100.20</th>\n      <th>v100.21</th>\n      <th>v100.22</th>\n      <th>v100.23</th>\n      <th>v100.24</th>\n      <th>v100.25</th>\n    </tr>\n  </thead>\n  <tbody>\n    <tr>\n      <th>0</th>\n      <td>2005-01-02 18:00:00</td>\n      <td>402.71</td>\n      <td>2.534970e+06</td>\n      <td>2.526864e+06</td>\n      <td>2.518754e+06</td>\n      <td>2.510648e+06</td>\n      <td>2.502537e+06</td>\n      <td>2.531111e+06</td>\n      <td>2.522721e+06</td>\n      <td>2.514330e+06</td>\n      <td>...</td>\n      <td>-4.683596</td>\n      <td>-4.545396</td>\n      <td>-4.407196</td>\n      <td>-4.268996</td>\n      <td>-4.131295</td>\n      <td>-4.669626</td>\n      <td>-4.528932</td>\n      <td>-4.388736</td>\n      <td>-4.248540</td>\n      <td>-4.107846</td>\n    </tr>\n    <tr>\n      <th>1</th>\n      <td>2005-01-03 00:00:00</td>\n      <td>696.80</td>\n      <td>2.537369e+06</td>\n      <td>2.529277e+06</td>\n      <td>2.521184e+06</td>\n      <td>2.513088e+06</td>\n      <td>2.504995e+06</td>\n      <td>2.533465e+06</td>\n      <td>2.525088e+06</td>\n      <td>2.516716e+06</td>\n      <td>...</td>\n      <td>-3.397886</td>\n      <td>-3.257192</td>\n      <td>-3.115998</td>\n      <td>-2.975304</td>\n      <td>-2.834609</td>\n      <td>-3.396390</td>\n      <td>-3.254198</td>\n      <td>-3.112506</td>\n      <td>-2.970314</td>\n      <td>-2.828622</td>\n    </tr>\n    <tr>\n      <th>2</th>\n      <td>2005-01-03 06:00:00</td>\n      <td>1591.15</td>\n      <td>2.533727e+06</td>\n      <td>2.525703e+06</td>\n      <td>2.517678e+06</td>\n      <td>2.509654e+06</td>\n      <td>2.501629e+06</td>\n      <td>2.529801e+06</td>\n      <td>2.521496e+06</td>\n      <td>2.513187e+06</td>\n      <td>...</td>\n      <td>-1.454105</td>\n      <td>-1.296447</td>\n      <td>-1.138290</td>\n      <td>-0.980134</td>\n      <td>-0.822476</td>\n      <td>-1.459094</td>\n      <td>-1.302933</td>\n      <td>-1.147271</td>\n      <td>-0.991110</td>\n      <td>-0.834949</td>\n    </tr>\n    <tr>\n      <th>3</th>\n      <td>2005-01-03 12:00:00</td>\n      <td>1338.62</td>\n      <td>2.534491e+06</td>\n      <td>2.526548e+06</td>\n      <td>2.518609e+06</td>\n      <td>2.510670e+06</td>\n      <td>2.502732e+06</td>\n      <td>2.530569e+06</td>\n      <td>2.522346e+06</td>\n      <td>2.514127e+06</td>\n      <td>...</td>\n      <td>1.255015</td>\n      <td>1.370265</td>\n      <td>1.485515</td>\n      <td>1.600765</td>\n      <td>1.716015</td>\n      <td>1.210612</td>\n      <td>1.319376</td>\n      <td>1.428140</td>\n      <td>1.536405</td>\n      <td>1.645169</td>\n    </tr>\n    <tr>\n      <th>4</th>\n      <td>2005-01-03 18:00:00</td>\n      <td>562.50</td>\n      <td>2.529543e+06</td>\n      <td>2.521623e+06</td>\n      <td>2.513702e+06</td>\n      <td>2.505782e+06</td>\n      <td>2.497861e+06</td>\n      <td>2.525621e+06</td>\n      <td>2.517421e+06</td>\n      <td>2.509215e+06</td>\n      <td>...</td>\n      <td>1.939031</td>\n      <td>2.023847</td>\n      <td>2.108663</td>\n      <td>2.193977</td>\n      <td>2.278793</td>\n      <td>1.873673</td>\n      <td>1.953000</td>\n      <td>2.031829</td>\n      <td>2.111157</td>\n      <td>2.189986</td>\n    </tr>\n  </tbody>\n</table>\n<p>5 rows × 552 columns</p>\n</div>"
     },
     "execution_count": 81,
     "metadata": {},
     "output_type": "execute_result"
    }
   ],
   "source": [
    "wind_ava.head()"
   ],
   "id": "12797afa841379dd"
  },
  {
   "cell_type": "markdown",
   "metadata": {},
   "source": [
    "Si modificamos el índice para que este sea la variable *datetime* nos será más simple operar con ello."
   ],
   "id": "9691d69bdab740ed"
  },
  {
   "cell_type": "code",
   "execution_count": 82,
   "metadata": {
    "ExecuteTime": {
     "end_time": "2024-03-27T09:54:46.698462500Z",
     "start_time": "2024-03-27T09:54:46.396929100Z"
    }
   },
   "outputs": [
    {
     "data": {
      "text/plain": "                      energy     p54.162.1     p54.162.2     p54.162.3  \\\ndatetime                                                                 \n2005-01-02 18:00:00   402.71  2.534970e+06  2.526864e+06  2.518754e+06   \n2005-01-03 00:00:00   696.80  2.537369e+06  2.529277e+06  2.521184e+06   \n2005-01-03 06:00:00  1591.15  2.533727e+06  2.525703e+06  2.517678e+06   \n2005-01-03 12:00:00  1338.62  2.534491e+06  2.526548e+06  2.518609e+06   \n2005-01-03 18:00:00   562.50  2.529543e+06  2.521623e+06  2.513702e+06   \n\n                        p54.162.4     p54.162.5     p54.162.6     p54.162.7  \\\ndatetime                                                                      \n2005-01-02 18:00:00  2.510648e+06  2.502537e+06  2.531111e+06  2.522721e+06   \n2005-01-03 00:00:00  2.513088e+06  2.504995e+06  2.533465e+06  2.525088e+06   \n2005-01-03 06:00:00  2.509654e+06  2.501629e+06  2.529801e+06  2.521496e+06   \n2005-01-03 12:00:00  2.510670e+06  2.502732e+06  2.530569e+06  2.522346e+06   \n2005-01-03 18:00:00  2.505782e+06  2.497861e+06  2.525621e+06  2.517421e+06   \n\n                        p54.162.8     p54.162.9  ...   v100.16   v100.17  \\\ndatetime                                         ...                       \n2005-01-02 18:00:00  2.514330e+06  2.505940e+06  ... -4.683596 -4.545396   \n2005-01-03 00:00:00  2.516716e+06  2.508339e+06  ... -3.397886 -3.257192   \n2005-01-03 06:00:00  2.513187e+06  2.504882e+06  ... -1.454105 -1.296447   \n2005-01-03 12:00:00  2.514127e+06  2.505904e+06  ...  1.255015  1.370265   \n2005-01-03 18:00:00  2.509215e+06  2.501015e+06  ...  1.939031  2.023847   \n\n                      v100.18   v100.19   v100.20   v100.21   v100.22  \\\ndatetime                                                                \n2005-01-02 18:00:00 -4.407196 -4.268996 -4.131295 -4.669626 -4.528932   \n2005-01-03 00:00:00 -3.115998 -2.975304 -2.834609 -3.396390 -3.254198   \n2005-01-03 06:00:00 -1.138290 -0.980134 -0.822476 -1.459094 -1.302933   \n2005-01-03 12:00:00  1.485515  1.600765  1.716015  1.210612  1.319376   \n2005-01-03 18:00:00  2.108663  2.193977  2.278793  1.873673  1.953000   \n\n                      v100.23   v100.24   v100.25  \ndatetime                                           \n2005-01-02 18:00:00 -4.388736 -4.248540 -4.107846  \n2005-01-03 00:00:00 -3.112506 -2.970314 -2.828622  \n2005-01-03 06:00:00 -1.147271 -0.991110 -0.834949  \n2005-01-03 12:00:00  1.428140  1.536405  1.645169  \n2005-01-03 18:00:00  2.031829  2.111157  2.189986  \n\n[5 rows x 551 columns]",
      "text/html": "<div>\n<style scoped>\n    .dataframe tbody tr th:only-of-type {\n        vertical-align: middle;\n    }\n\n    .dataframe tbody tr th {\n        vertical-align: top;\n    }\n\n    .dataframe thead th {\n        text-align: right;\n    }\n</style>\n<table border=\"1\" class=\"dataframe\">\n  <thead>\n    <tr style=\"text-align: right;\">\n      <th></th>\n      <th>energy</th>\n      <th>p54.162.1</th>\n      <th>p54.162.2</th>\n      <th>p54.162.3</th>\n      <th>p54.162.4</th>\n      <th>p54.162.5</th>\n      <th>p54.162.6</th>\n      <th>p54.162.7</th>\n      <th>p54.162.8</th>\n      <th>p54.162.9</th>\n      <th>...</th>\n      <th>v100.16</th>\n      <th>v100.17</th>\n      <th>v100.18</th>\n      <th>v100.19</th>\n      <th>v100.20</th>\n      <th>v100.21</th>\n      <th>v100.22</th>\n      <th>v100.23</th>\n      <th>v100.24</th>\n      <th>v100.25</th>\n    </tr>\n    <tr>\n      <th>datetime</th>\n      <th></th>\n      <th></th>\n      <th></th>\n      <th></th>\n      <th></th>\n      <th></th>\n      <th></th>\n      <th></th>\n      <th></th>\n      <th></th>\n      <th></th>\n      <th></th>\n      <th></th>\n      <th></th>\n      <th></th>\n      <th></th>\n      <th></th>\n      <th></th>\n      <th></th>\n      <th></th>\n      <th></th>\n    </tr>\n  </thead>\n  <tbody>\n    <tr>\n      <th>2005-01-02 18:00:00</th>\n      <td>402.71</td>\n      <td>2.534970e+06</td>\n      <td>2.526864e+06</td>\n      <td>2.518754e+06</td>\n      <td>2.510648e+06</td>\n      <td>2.502537e+06</td>\n      <td>2.531111e+06</td>\n      <td>2.522721e+06</td>\n      <td>2.514330e+06</td>\n      <td>2.505940e+06</td>\n      <td>...</td>\n      <td>-4.683596</td>\n      <td>-4.545396</td>\n      <td>-4.407196</td>\n      <td>-4.268996</td>\n      <td>-4.131295</td>\n      <td>-4.669626</td>\n      <td>-4.528932</td>\n      <td>-4.388736</td>\n      <td>-4.248540</td>\n      <td>-4.107846</td>\n    </tr>\n    <tr>\n      <th>2005-01-03 00:00:00</th>\n      <td>696.80</td>\n      <td>2.537369e+06</td>\n      <td>2.529277e+06</td>\n      <td>2.521184e+06</td>\n      <td>2.513088e+06</td>\n      <td>2.504995e+06</td>\n      <td>2.533465e+06</td>\n      <td>2.525088e+06</td>\n      <td>2.516716e+06</td>\n      <td>2.508339e+06</td>\n      <td>...</td>\n      <td>-3.397886</td>\n      <td>-3.257192</td>\n      <td>-3.115998</td>\n      <td>-2.975304</td>\n      <td>-2.834609</td>\n      <td>-3.396390</td>\n      <td>-3.254198</td>\n      <td>-3.112506</td>\n      <td>-2.970314</td>\n      <td>-2.828622</td>\n    </tr>\n    <tr>\n      <th>2005-01-03 06:00:00</th>\n      <td>1591.15</td>\n      <td>2.533727e+06</td>\n      <td>2.525703e+06</td>\n      <td>2.517678e+06</td>\n      <td>2.509654e+06</td>\n      <td>2.501629e+06</td>\n      <td>2.529801e+06</td>\n      <td>2.521496e+06</td>\n      <td>2.513187e+06</td>\n      <td>2.504882e+06</td>\n      <td>...</td>\n      <td>-1.454105</td>\n      <td>-1.296447</td>\n      <td>-1.138290</td>\n      <td>-0.980134</td>\n      <td>-0.822476</td>\n      <td>-1.459094</td>\n      <td>-1.302933</td>\n      <td>-1.147271</td>\n      <td>-0.991110</td>\n      <td>-0.834949</td>\n    </tr>\n    <tr>\n      <th>2005-01-03 12:00:00</th>\n      <td>1338.62</td>\n      <td>2.534491e+06</td>\n      <td>2.526548e+06</td>\n      <td>2.518609e+06</td>\n      <td>2.510670e+06</td>\n      <td>2.502732e+06</td>\n      <td>2.530569e+06</td>\n      <td>2.522346e+06</td>\n      <td>2.514127e+06</td>\n      <td>2.505904e+06</td>\n      <td>...</td>\n      <td>1.255015</td>\n      <td>1.370265</td>\n      <td>1.485515</td>\n      <td>1.600765</td>\n      <td>1.716015</td>\n      <td>1.210612</td>\n      <td>1.319376</td>\n      <td>1.428140</td>\n      <td>1.536405</td>\n      <td>1.645169</td>\n    </tr>\n    <tr>\n      <th>2005-01-03 18:00:00</th>\n      <td>562.50</td>\n      <td>2.529543e+06</td>\n      <td>2.521623e+06</td>\n      <td>2.513702e+06</td>\n      <td>2.505782e+06</td>\n      <td>2.497861e+06</td>\n      <td>2.525621e+06</td>\n      <td>2.517421e+06</td>\n      <td>2.509215e+06</td>\n      <td>2.501015e+06</td>\n      <td>...</td>\n      <td>1.939031</td>\n      <td>2.023847</td>\n      <td>2.108663</td>\n      <td>2.193977</td>\n      <td>2.278793</td>\n      <td>1.873673</td>\n      <td>1.953000</td>\n      <td>2.031829</td>\n      <td>2.111157</td>\n      <td>2.189986</td>\n    </tr>\n  </tbody>\n</table>\n<p>5 rows × 551 columns</p>\n</div>"
     },
     "execution_count": 82,
     "metadata": {},
     "output_type": "execute_result"
    }
   ],
   "source": [
    "wind_ava = wind_ava.set_index('datetime')\n",
    "wind_ava.head()"
   ],
   "id": "8f0b85a1a00522db"
  },
  {
   "cell_type": "markdown",
   "metadata": {},
   "source": [
    "\n",
    "Actualmente, el fichero tiene 551 columnas. No las necesitamos todas: sólo usaremos la información sobre la localización de Sotavento, es decir, el número 13 de la cuadrícula de 5x5. \n",
    "\n",
    "A continuación, modificamos el fichero de datos para eliminar las columnas que no necesitamos y quedarnos únicamente con las columnas de variables relativas a la posición 13 de la cuadrícula. Para ello, filtramos las columnas según aquellas que contengan el número 13 en su nombre.\n",
    "Además, nos interesa saber el valor de la energía en cada momento en esa localización, por lo que también filtraremos de forma que no se elimine la variable 'energy'."
   ],
   "id": "6ec45cf6101a6297"
  },
  {
   "cell_type": "code",
   "execution_count": 83,
   "metadata": {
    "ExecuteTime": {
     "end_time": "2024-03-27T09:54:54.192315600Z",
     "start_time": "2024-03-27T09:54:46.487956200Z"
    }
   },
   "outputs": [],
   "source": [
    "for c in wind_ava.columns:\n",
    "    if not c.endswith('.13') and c != 'energy' and c != 'datetime':\n",
    "        wind_ava = wind_ava.drop(c, axis = 1)"
   ],
   "id": "63223683c06bad27"
  },
  {
   "cell_type": "code",
   "execution_count": 84,
   "metadata": {
    "ExecuteTime": {
     "end_time": "2024-03-27T09:54:54.277709600Z",
     "start_time": "2024-03-27T09:54:54.197993900Z"
    }
   },
   "outputs": [
    {
     "data": {
      "text/plain": "                      energy    p54.162.13  p55.162.13    cape.13  \\\ndatetime                                                            \n2005-01-02 18:00:00   402.71  2.510824e+06    9.186295  13.527577   \n2005-01-03 00:00:00   696.80  2.513173e+06    8.849569   6.896412   \n2005-01-03 06:00:00  1591.15  2.509627e+06    7.924080   4.774439   \n2005-01-03 12:00:00  1338.62  2.510571e+06    6.922709   0.000000   \n2005-01-03 18:00:00   562.50  2.505664e+06    6.646282   0.000000   \n\n                       p59.162.13  lai_lv.13  lai_hv.13   u10n.13   v10n.13  \\\ndatetime                                                                      \n2005-01-02 18:00:00  1.386937e+06   2.344111   2.432983 -0.757587 -1.922799   \n2005-01-03 00:00:00  1.153526e+06   2.343719   2.432838 -1.412620 -1.403011   \n2005-01-03 06:00:00  1.098754e+06   2.343300   2.432704 -2.290185 -0.754580   \n2005-01-03 12:00:00  1.076021e+06   2.342830   2.432514 -3.497855  1.271028   \n2005-01-03 18:00:00  1.070830e+06   2.342437   2.432369 -0.971249  0.553060   \n\n                            sp.13  ...      t2m.13     stl2.13     stl3.13  \\\ndatetime                           ...                                       \n2005-01-02 18:00:00  99846.319914  ...  280.473098  281.042026  281.462478   \n2005-01-03 00:00:00  99917.733093  ...  278.286616  280.747406  281.486541   \n2005-01-03 06:00:00  99764.378681  ...  277.206490  280.114863  281.487095   \n2005-01-03 12:00:00  99672.670459  ...  280.926600  279.991138  281.472435   \n2005-01-03 18:00:00  99372.811211  ...  277.363875  280.576898  281.473265   \n\n                      iews.13   inss.13     stl4.13    fsr.13   flsr.13  \\\ndatetime                                                                  \n2005-01-02 18:00:00 -0.057958 -0.138650  284.684755  0.404731 -5.927092   \n2005-01-03 00:00:00 -0.103576 -0.083050  284.667948  0.404920 -5.913881   \n2005-01-03 06:00:00 -0.165721 -0.036241  284.651914  0.405704 -5.908272   \n2005-01-03 12:00:00 -0.275550  0.098192  284.636266  0.403967 -5.961995   \n2005-01-03 18:00:00 -0.056553  0.041844  284.620232  0.403808 -5.987860   \n\n                      u100.13   v100.13  \ndatetime                                 \n2005-01-02 18:00:00 -1.780562 -4.443617  \n2005-01-03 00:00:00 -3.743344 -3.129469  \n2005-01-03 06:00:00 -5.097203 -1.157748  \n2005-01-03 12:00:00 -4.500835  1.502478  \n2005-01-03 18:00:00 -3.392324  2.131114  \n\n[5 rows x 23 columns]",
      "text/html": "<div>\n<style scoped>\n    .dataframe tbody tr th:only-of-type {\n        vertical-align: middle;\n    }\n\n    .dataframe tbody tr th {\n        vertical-align: top;\n    }\n\n    .dataframe thead th {\n        text-align: right;\n    }\n</style>\n<table border=\"1\" class=\"dataframe\">\n  <thead>\n    <tr style=\"text-align: right;\">\n      <th></th>\n      <th>energy</th>\n      <th>p54.162.13</th>\n      <th>p55.162.13</th>\n      <th>cape.13</th>\n      <th>p59.162.13</th>\n      <th>lai_lv.13</th>\n      <th>lai_hv.13</th>\n      <th>u10n.13</th>\n      <th>v10n.13</th>\n      <th>sp.13</th>\n      <th>...</th>\n      <th>t2m.13</th>\n      <th>stl2.13</th>\n      <th>stl3.13</th>\n      <th>iews.13</th>\n      <th>inss.13</th>\n      <th>stl4.13</th>\n      <th>fsr.13</th>\n      <th>flsr.13</th>\n      <th>u100.13</th>\n      <th>v100.13</th>\n    </tr>\n    <tr>\n      <th>datetime</th>\n      <th></th>\n      <th></th>\n      <th></th>\n      <th></th>\n      <th></th>\n      <th></th>\n      <th></th>\n      <th></th>\n      <th></th>\n      <th></th>\n      <th></th>\n      <th></th>\n      <th></th>\n      <th></th>\n      <th></th>\n      <th></th>\n      <th></th>\n      <th></th>\n      <th></th>\n      <th></th>\n      <th></th>\n    </tr>\n  </thead>\n  <tbody>\n    <tr>\n      <th>2005-01-02 18:00:00</th>\n      <td>402.71</td>\n      <td>2.510824e+06</td>\n      <td>9.186295</td>\n      <td>13.527577</td>\n      <td>1.386937e+06</td>\n      <td>2.344111</td>\n      <td>2.432983</td>\n      <td>-0.757587</td>\n      <td>-1.922799</td>\n      <td>99846.319914</td>\n      <td>...</td>\n      <td>280.473098</td>\n      <td>281.042026</td>\n      <td>281.462478</td>\n      <td>-0.057958</td>\n      <td>-0.138650</td>\n      <td>284.684755</td>\n      <td>0.404731</td>\n      <td>-5.927092</td>\n      <td>-1.780562</td>\n      <td>-4.443617</td>\n    </tr>\n    <tr>\n      <th>2005-01-03 00:00:00</th>\n      <td>696.80</td>\n      <td>2.513173e+06</td>\n      <td>8.849569</td>\n      <td>6.896412</td>\n      <td>1.153526e+06</td>\n      <td>2.343719</td>\n      <td>2.432838</td>\n      <td>-1.412620</td>\n      <td>-1.403011</td>\n      <td>99917.733093</td>\n      <td>...</td>\n      <td>278.286616</td>\n      <td>280.747406</td>\n      <td>281.486541</td>\n      <td>-0.103576</td>\n      <td>-0.083050</td>\n      <td>284.667948</td>\n      <td>0.404920</td>\n      <td>-5.913881</td>\n      <td>-3.743344</td>\n      <td>-3.129469</td>\n    </tr>\n    <tr>\n      <th>2005-01-03 06:00:00</th>\n      <td>1591.15</td>\n      <td>2.509627e+06</td>\n      <td>7.924080</td>\n      <td>4.774439</td>\n      <td>1.098754e+06</td>\n      <td>2.343300</td>\n      <td>2.432704</td>\n      <td>-2.290185</td>\n      <td>-0.754580</td>\n      <td>99764.378681</td>\n      <td>...</td>\n      <td>277.206490</td>\n      <td>280.114863</td>\n      <td>281.487095</td>\n      <td>-0.165721</td>\n      <td>-0.036241</td>\n      <td>284.651914</td>\n      <td>0.405704</td>\n      <td>-5.908272</td>\n      <td>-5.097203</td>\n      <td>-1.157748</td>\n    </tr>\n    <tr>\n      <th>2005-01-03 12:00:00</th>\n      <td>1338.62</td>\n      <td>2.510571e+06</td>\n      <td>6.922709</td>\n      <td>0.000000</td>\n      <td>1.076021e+06</td>\n      <td>2.342830</td>\n      <td>2.432514</td>\n      <td>-3.497855</td>\n      <td>1.271028</td>\n      <td>99672.670459</td>\n      <td>...</td>\n      <td>280.926600</td>\n      <td>279.991138</td>\n      <td>281.472435</td>\n      <td>-0.275550</td>\n      <td>0.098192</td>\n      <td>284.636266</td>\n      <td>0.403967</td>\n      <td>-5.961995</td>\n      <td>-4.500835</td>\n      <td>1.502478</td>\n    </tr>\n    <tr>\n      <th>2005-01-03 18:00:00</th>\n      <td>562.50</td>\n      <td>2.505664e+06</td>\n      <td>6.646282</td>\n      <td>0.000000</td>\n      <td>1.070830e+06</td>\n      <td>2.342437</td>\n      <td>2.432369</td>\n      <td>-0.971249</td>\n      <td>0.553060</td>\n      <td>99372.811211</td>\n      <td>...</td>\n      <td>277.363875</td>\n      <td>280.576898</td>\n      <td>281.473265</td>\n      <td>-0.056553</td>\n      <td>0.041844</td>\n      <td>284.620232</td>\n      <td>0.403808</td>\n      <td>-5.987860</td>\n      <td>-3.392324</td>\n      <td>2.131114</td>\n    </tr>\n  </tbody>\n</table>\n<p>5 rows × 23 columns</p>\n</div>"
     },
     "execution_count": 84,
     "metadata": {},
     "output_type": "execute_result"
    }
   ],
   "source": [
    "wind_ava.head()"
   ],
   "id": "1536d30a66b3590f"
  },
  {
   "cell_type": "markdown",
   "metadata": {},
   "source": [
    "Como se puede observar, hemos pasado de operar con 551 columnas, a tener sólo 23 columnas en nuestro dataset.\n",
    "En último lugar, es necesario modificar la variable 'datetime' y convertir los datos de la primera columna a formato fecha (pd.to_datetime()) para facilitar su manejo y visualización. Podemos comprobar el resultado de esta modificación en los diagramas de la siguiente sección. "
   ],
   "id": "eca376870ae36085"
  },
  {
   "cell_type": "code",
   "outputs": [
    {
     "ename": "KeyError",
     "evalue": "'datetime'",
     "output_type": "error",
     "traceback": [
      "\u001B[1;31m---------------------------------------------------------------------------\u001B[0m",
      "\u001B[1;31mKeyError\u001B[0m                                  Traceback (most recent call last)",
      "File \u001B[1;32m~\\OneDrive\\Documentos\\.Universidad\\Machine Learning\\P1_ML\\venv\\lib\\site-packages\\pandas\\core\\indexes\\base.py:3805\u001B[0m, in \u001B[0;36mIndex.get_loc\u001B[1;34m(self, key)\u001B[0m\n\u001B[0;32m   3804\u001B[0m \u001B[38;5;28;01mtry\u001B[39;00m:\n\u001B[1;32m-> 3805\u001B[0m     \u001B[38;5;28;01mreturn\u001B[39;00m \u001B[38;5;28;43mself\u001B[39;49m\u001B[38;5;241;43m.\u001B[39;49m\u001B[43m_engine\u001B[49m\u001B[38;5;241;43m.\u001B[39;49m\u001B[43mget_loc\u001B[49m\u001B[43m(\u001B[49m\u001B[43mcasted_key\u001B[49m\u001B[43m)\u001B[49m\n\u001B[0;32m   3806\u001B[0m \u001B[38;5;28;01mexcept\u001B[39;00m \u001B[38;5;167;01mKeyError\u001B[39;00m \u001B[38;5;28;01mas\u001B[39;00m err:\n",
      "File \u001B[1;32mindex.pyx:167\u001B[0m, in \u001B[0;36mpandas._libs.index.IndexEngine.get_loc\u001B[1;34m()\u001B[0m\n",
      "File \u001B[1;32mindex.pyx:196\u001B[0m, in \u001B[0;36mpandas._libs.index.IndexEngine.get_loc\u001B[1;34m()\u001B[0m\n",
      "File \u001B[1;32mpandas\\\\_libs\\\\hashtable_class_helper.pxi:7081\u001B[0m, in \u001B[0;36mpandas._libs.hashtable.PyObjectHashTable.get_item\u001B[1;34m()\u001B[0m\n",
      "File \u001B[1;32mpandas\\\\_libs\\\\hashtable_class_helper.pxi:7089\u001B[0m, in \u001B[0;36mpandas._libs.hashtable.PyObjectHashTable.get_item\u001B[1;34m()\u001B[0m\n",
      "\u001B[1;31mKeyError\u001B[0m: 'datetime'",
      "\nThe above exception was the direct cause of the following exception:\n",
      "\u001B[1;31mKeyError\u001B[0m                                  Traceback (most recent call last)",
      "Cell \u001B[1;32mIn[85], line 1\u001B[0m\n\u001B[1;32m----> 1\u001B[0m wind_ava[\u001B[38;5;124m'\u001B[39m\u001B[38;5;124mdatetime\u001B[39m\u001B[38;5;124m'\u001B[39m] \u001B[38;5;241m=\u001B[39m pd\u001B[38;5;241m.\u001B[39mto_datetime(\u001B[43mwind_ava\u001B[49m\u001B[43m[\u001B[49m\u001B[38;5;124;43m'\u001B[39;49m\u001B[38;5;124;43mdatetime\u001B[39;49m\u001B[38;5;124;43m'\u001B[39;49m\u001B[43m]\u001B[49m)\n\u001B[0;32m      2\u001B[0m wind_ava\u001B[38;5;241m.\u001B[39mplot(figsize \u001B[38;5;241m=\u001B[39m (\u001B[38;5;241m15\u001B[39m,\u001B[38;5;241m5\u001B[39m))\n",
      "File \u001B[1;32m~\\OneDrive\\Documentos\\.Universidad\\Machine Learning\\P1_ML\\venv\\lib\\site-packages\\pandas\\core\\frame.py:4090\u001B[0m, in \u001B[0;36mDataFrame.__getitem__\u001B[1;34m(self, key)\u001B[0m\n\u001B[0;32m   4088\u001B[0m \u001B[38;5;28;01mif\u001B[39;00m \u001B[38;5;28mself\u001B[39m\u001B[38;5;241m.\u001B[39mcolumns\u001B[38;5;241m.\u001B[39mnlevels \u001B[38;5;241m>\u001B[39m \u001B[38;5;241m1\u001B[39m:\n\u001B[0;32m   4089\u001B[0m     \u001B[38;5;28;01mreturn\u001B[39;00m \u001B[38;5;28mself\u001B[39m\u001B[38;5;241m.\u001B[39m_getitem_multilevel(key)\n\u001B[1;32m-> 4090\u001B[0m indexer \u001B[38;5;241m=\u001B[39m \u001B[38;5;28;43mself\u001B[39;49m\u001B[38;5;241;43m.\u001B[39;49m\u001B[43mcolumns\u001B[49m\u001B[38;5;241;43m.\u001B[39;49m\u001B[43mget_loc\u001B[49m\u001B[43m(\u001B[49m\u001B[43mkey\u001B[49m\u001B[43m)\u001B[49m\n\u001B[0;32m   4091\u001B[0m \u001B[38;5;28;01mif\u001B[39;00m is_integer(indexer):\n\u001B[0;32m   4092\u001B[0m     indexer \u001B[38;5;241m=\u001B[39m [indexer]\n",
      "File \u001B[1;32m~\\OneDrive\\Documentos\\.Universidad\\Machine Learning\\P1_ML\\venv\\lib\\site-packages\\pandas\\core\\indexes\\base.py:3812\u001B[0m, in \u001B[0;36mIndex.get_loc\u001B[1;34m(self, key)\u001B[0m\n\u001B[0;32m   3807\u001B[0m     \u001B[38;5;28;01mif\u001B[39;00m \u001B[38;5;28misinstance\u001B[39m(casted_key, \u001B[38;5;28mslice\u001B[39m) \u001B[38;5;129;01mor\u001B[39;00m (\n\u001B[0;32m   3808\u001B[0m         \u001B[38;5;28misinstance\u001B[39m(casted_key, abc\u001B[38;5;241m.\u001B[39mIterable)\n\u001B[0;32m   3809\u001B[0m         \u001B[38;5;129;01mand\u001B[39;00m \u001B[38;5;28many\u001B[39m(\u001B[38;5;28misinstance\u001B[39m(x, \u001B[38;5;28mslice\u001B[39m) \u001B[38;5;28;01mfor\u001B[39;00m x \u001B[38;5;129;01min\u001B[39;00m casted_key)\n\u001B[0;32m   3810\u001B[0m     ):\n\u001B[0;32m   3811\u001B[0m         \u001B[38;5;28;01mraise\u001B[39;00m InvalidIndexError(key)\n\u001B[1;32m-> 3812\u001B[0m     \u001B[38;5;28;01mraise\u001B[39;00m \u001B[38;5;167;01mKeyError\u001B[39;00m(key) \u001B[38;5;28;01mfrom\u001B[39;00m \u001B[38;5;21;01merr\u001B[39;00m\n\u001B[0;32m   3813\u001B[0m \u001B[38;5;28;01mexcept\u001B[39;00m \u001B[38;5;167;01mTypeError\u001B[39;00m:\n\u001B[0;32m   3814\u001B[0m     \u001B[38;5;66;03m# If we have a listlike key, _check_indexing_error will raise\u001B[39;00m\n\u001B[0;32m   3815\u001B[0m     \u001B[38;5;66;03m#  InvalidIndexError. Otherwise we fall through and re-raise\u001B[39;00m\n\u001B[0;32m   3816\u001B[0m     \u001B[38;5;66;03m#  the TypeError.\u001B[39;00m\n\u001B[0;32m   3817\u001B[0m     \u001B[38;5;28mself\u001B[39m\u001B[38;5;241m.\u001B[39m_check_indexing_error(key)\n",
      "\u001B[1;31mKeyError\u001B[0m: 'datetime'"
     ]
    }
   ],
   "source": [
    "wind_ava['datetime'] = pd.to_datetime(wind_ava['datetime'])\n",
    "wind_ava.plot(figsize = (15,5))"
   ],
   "metadata": {
    "collapsed": false,
    "ExecuteTime": {
     "end_time": "2024-03-27T09:54:54.876879500Z",
     "start_time": "2024-03-27T09:54:54.261515800Z"
    }
   },
   "id": "8968e8b97c39c43e",
   "execution_count": 85
  },
  {
   "cell_type": "markdown",
   "metadata": {},
   "source": [
    "## Descripción general de los datos"
   ],
   "id": "1d28d77137e5daa6"
  },
  {
   "cell_type": "code",
   "execution_count": null,
   "metadata": {
    "scrolled": true,
    "ExecuteTime": {
     "start_time": "2024-03-27T09:54:54.433167700Z"
    }
   },
   "outputs": [],
   "source": [
    "wind_ava"
   ],
   "id": "988f5999590b67c9"
  },
  {
   "cell_type": "code",
   "execution_count": null,
   "metadata": {
    "ExecuteTime": {
     "start_time": "2024-03-27T09:54:54.441313800Z"
    }
   },
   "outputs": [],
   "source": [
    "df_shape = wind_ava.shape\n",
    "df_shape"
   ],
   "id": "986d4feb6c377316"
  },
  {
   "cell_type": "markdown",
   "metadata": {},
   "source": [
    "Nuestro dataset tiene 23 características y 4748 instancias."
   ],
   "id": "dd74421aa4e8ebbc"
  },
  {
   "cell_type": "code",
   "execution_count": null,
   "metadata": {
    "ExecuteTime": {
     "start_time": "2024-03-27T09:54:54.451444300Z"
    }
   },
   "outputs": [],
   "source": [
    "df_description = wind_ava.describe()\n",
    "df_description"
   ],
   "id": "7fa4fd67611e9519"
  },
  {
   "cell_type": "markdown",
   "metadata": {},
   "source": [
    "Con esta información resumida sobre los datos disponibles podemos averiguar la media, el mínimo y el máximo y la desviación típica de cada variable, entre otras cosas. \n",
    "\n",
    "En primer lugar, podemos observar que todas nuestras variables son numéricas. \n",
    "\n",
    "También observamos que ningún valor de desviación estándar o desviación típica (std) es igual a 0, por lo que ninguna de las variables de nos interesan (las del sector 13 del mapa) son constantes, y por lo tanto no es necesario modificar el dataset más allá de lo relaizado hasta ahora.\n",
    "\n"
   ],
   "id": "6c75e7fa05d1edba"
  },
  {
   "cell_type": "markdown",
   "metadata": {},
   "source": [
    "# Preprocesado de datos\n",
    "En primer lugar, queremos identificar y eliminar los datos faltantes en nuestro dataset, es decir, aquellos que son *NA*.\n",
    "Para ello identificamos el número de datos faltantes por cada característica."
   ],
   "id": "9ee14cd5222e3f88"
  },
  {
   "cell_type": "code",
   "execution_count": null,
   "metadata": {
    "ExecuteTime": {
     "start_time": "2024-03-27T09:54:54.462642400Z"
    }
   },
   "outputs": [],
   "source": [
    "wind_ava.isna().sum()"
   ],
   "id": "b217a89d63c81ed3"
  },
  {
   "cell_type": "markdown",
   "metadata": {},
   "source": [
    "Como podemos ver, no hay ningún valor perdido en nuestros datos, por lo que no necesitamos eliminar ninguna característica. Lo habríamos hecho en el caso de que, para alguna característica, más del 80% de los datos fueran faltantes.\n",
    "\n",
    "A continuación comprobamos que la desviación típica de todas las variables sea diferente de 0, lo que supondría que todas son significativas y aportan valor al modelo. En caso de que este dato tomara valor nulo supondría que esa variable es constante, y posiblemente se valoraría su eliminación del conjunto de datos."
   ],
   "id": "cb0865a008ca7634"
  },
  {
   "cell_type": "code",
   "execution_count": null,
   "metadata": {
    "ExecuteTime": {
     "start_time": "2024-03-27T09:54:54.470528200Z"
    }
   },
   "outputs": [],
   "source": [
    "wind_ava.std()"
   ],
   "id": "f71cc506cc3cdb60"
  },
  {
   "cell_type": "markdown",
   "metadata": {},
   "source": [
    "## Visualización de los datos\n",
    "Una vez se ha preprocesado y limpiado el conjunto de los datos, se procede a la creación de diferentes diagramas para recolectar información sobre la distirbución de los datos.\n",
    "Con un diagrama de barras se pueden apreciar las distribuciones de energía recogidas en cada instante de tiempo (representados como el índice del conjunto de datos)."
   ],
   "id": "f0b39867b665870a"
  },
  {
   "cell_type": "code",
   "execution_count": null,
   "metadata": {
    "ExecuteTime": {
     "start_time": "2024-03-27T09:54:54.476495100Z"
    }
   },
   "outputs": [],
   "source": [
    "wind_ava['energy'].plot(rot=20)"
   ],
   "id": "1d3a3b090707055a"
  },
  {
   "cell_type": "markdown",
   "metadata": {},
   "source": [
    "Para poder identificar información sobre los outliers utilizamos un diagrama de caja o boxplot."
   ],
   "id": "5988b6be0a59adaa"
  },
  {
   "cell_type": "code",
   "execution_count": null,
   "metadata": {
    "ExecuteTime": {
     "start_time": "2024-03-27T09:54:54.483381100Z"
    }
   },
   "outputs": [],
   "source": [
    "wind_ava['energy'].plot.box()"
   ],
   "id": "fdc252a48314b0ac"
  },
  {
   "cell_type": "markdown",
   "metadata": {},
   "source": [
    "Se puede observar que hay bastantes outliers de energía generada. A pesar de que la mediana se encuentra alrededor de 500, y el tercer cuartil alrededor de 1000, existen bastantes valores fuera del rango intercuartílico, y todos ellos superando el valor de energía generada de 2500, mientras que por debajo del primer cuartil prácticamente no se percibe la existencia de outliers.\n",
    "\n",
    "También se puede observar la frecuencia de energía en los diferentes rangos temporales (calulados con el números de divisiones *bins*) mediante un histograma."
   ],
   "id": "9248c8014a2272a7"
  },
  {
   "cell_type": "code",
   "execution_count": null,
   "metadata": {
    "ExecuteTime": {
     "start_time": "2024-03-27T09:54:54.490388900Z"
    }
   },
   "outputs": [],
   "source": [
    "wind_ava['energy'].plot.hist(bins=25)"
   ],
   "id": "b48130252beac976"
  },
  {
   "cell_type": "markdown",
   "metadata": {},
   "source": [
    "Se puede observar que la distribución se acumula a la izquierda de los valores temporales. Para solucionar un posible sesgo, se puede convertir la variable *energy* a logarítmica de forma que en el gráfico se aprecie como una distribución normal, en lugar de la actual que asemeja una distribución logarítmica.\n",
    "Para realizar esta operación, utilizaremos la librería NumPy. Para ello inicialmente importamos la librería mencionada como se muestra a continuación:"
   ],
   "id": "10df4e6248490b55"
  },
  {
   "cell_type": "code",
   "execution_count": null,
   "metadata": {
    "ExecuteTime": {
     "start_time": "2024-03-27T09:54:54.493741700Z"
    }
   },
   "outputs": [],
   "source": [
    "import numpy as np"
   ],
   "id": "50dce5cad324d976"
  },
  {
   "cell_type": "code",
   "execution_count": null,
   "metadata": {
    "ExecuteTime": {
     "start_time": "2024-03-27T09:54:54.497959Z"
    }
   },
   "outputs": [],
   "source": [
    "wind_ava['log_energy'] = np.log(wind_ava['energy'])\n",
    "\n",
    "wind_ava['log_energy'].plot.hist(bins=40)"
   ],
   "id": "7b098e4f282640b5"
  },
  {
   "cell_type": "markdown",
   "metadata": {},
   "source": [
    "En este caso, el resultado no es especialmente relevante, ya que la operación convierte un sesgo a la izquierda en un sesgo a la derecha, de forma que el gráfico resultante no asemeja prácticamente una distirbución normal."
   ],
   "id": "d3737f334329bd93"
  },
  {
   "cell_type": "markdown",
   "metadata": {},
   "source": [
    "# Método de evaluación Outer & Inner\n",
    "Tras haber estudiado y limpiado el conjunto de datos, se explica la estrategia que se llevará a cabo para evaluar el modelo (*outer*) y para definir el ajuste de hiperparámetros (*inner*).\n",
    "\n",
    "*`Outer`* \n",
    "Para estimar el rendimiento esperado del modelo con datos futuros (para los que no ha sido entrenado), separamos una parte de los datos para evaluar (partición test) el modelo resultante del inner.\n",
    "\n",
    "*`Inner`*\n",
    "Emplearemos Grid Search con Cross Validation y Time Series Splits.\n",
    "\n",
    "Para evlauar el rendimiento de los diferentes modelos se deben escoger una serie de métricas\n",
    "RMSE y MAE y dummy regressor para escalar los datos y en base a ese dummy calcular RSE y RAE.\n",
    "Para hacer el modelo dummy se le quita la media al real\n",
    "ESto nos permite observar el error en términos absoluto y relativo\n",
    "para cross validation MSE y de cara a la evaluación del modelo final tomaríamos todas esta medidas."
   ],
   "id": "76df742c154ff9e2"
  },
  {
   "cell_type": "code",
   "outputs": [],
   "source": [
    "#División de conjuntos de evaluación outer. \n",
    "#Dividimos en train y test aprovechando una falta de datos para el año 2009.\n",
    "train= wind_ava[wind_ava['datetime'].dt.year<2009]\n",
    "X_train= train.drop(columns='energy')\n",
    "y_train= train['energy']\n",
    "print(\"train shape is:\", train.shape,\"\\n X_train shape:\",X_train.shape, \"\\n y_train shape: \", y_train.shape)\n",
    "\n",
    "test= wind_ava[wind_ava['datetime'].dt.year>2008]\n",
    "X_test= test.drop(columns='energy')\n",
    "y_test= test['energy']\n",
    "print(\"test shape is:\", test.shape,\"\\n X_test shape:\",X_test.shape, \"\\n y_train shape: \", y_test.shape)\n",
    "print(train.shape, test.shape, wind_ava.shape)"
   ],
   "metadata": {
    "collapsed": false,
    "ExecuteTime": {
     "start_time": "2024-03-27T09:54:54.501174700Z"
    }
   },
   "id": "de6635848084706a",
   "execution_count": null
  },
  {
   "cell_type": "code",
   "outputs": [],
   "source": [],
   "metadata": {
    "collapsed": false,
    "ExecuteTime": {
     "start_time": "2024-03-27T09:54:54.505521100Z"
    }
   },
   "id": "cf5c10d578493043"
  },
  {
   "cell_type": "markdown",
   "source": [
    "# Selección de Scaler\n",
    "En esta sección se emplea KNN y CV para encontrar el método de escalado que minimice el error entre las tres opciones que ofrece sklearn: MinMax, Standarization y Robust. \n",
    "Para ello, empleamos un sencillo crossvalidation con un split adecuado para series temporales y medimos el error empleando la métrica escogida (MSE)."
   ],
   "metadata": {
    "collapsed": false
   },
   "id": "d5cc940b86b28587"
  },
  {
   "cell_type": "code",
   "outputs": [
    {
     "ename": "AttributeError",
     "evalue": "module 'sklearn' has no attribute 'pipeline'",
     "output_type": "error",
     "traceback": [
      "\u001B[1;31m---------------------------------------------------------------------------\u001B[0m",
      "\u001B[1;31mAttributeError\u001B[0m                            Traceback (most recent call last)",
      "Cell \u001B[1;32mIn[91], line 6\u001B[0m\n\u001B[0;32m      3\u001B[0m scaler_eval\u001B[38;5;241m=\u001B[39m {}\n\u001B[0;32m      4\u001B[0m \u001B[38;5;66;03m#2)Evaluación de scalers\u001B[39;00m\n\u001B[0;32m      5\u001B[0m \u001B[38;5;66;03m#StandardScaler\u001B[39;00m\n\u001B[1;32m----> 6\u001B[0m pipeline_std\u001B[38;5;241m=\u001B[39m \u001B[43msklearn\u001B[49m\u001B[38;5;241;43m.\u001B[39;49m\u001B[43mpipeline\u001B[49m\u001B[38;5;241m.\u001B[39mPipeline([ (\u001B[38;5;124m'\u001B[39m\u001B[38;5;124mstandardScaler\u001B[39m\u001B[38;5;124m'\u001B[39m, preprocessing\u001B[38;5;241m.\u001B[39mStandardScaler()),\n\u001B[0;32m      7\u001B[0m                                  (\u001B[38;5;124m'\u001B[39m\u001B[38;5;124mKNN\u001B[39m\u001B[38;5;124m'\u001B[39m,neighbors\u001B[38;5;241m.\u001B[39mKNeighborsRegressor()) ])\n\u001B[0;32m      8\u001B[0m score_std\u001B[38;5;241m=\u001B[39m cross_val_score(pipeline_std, X_train, y_train,cv\u001B[38;5;241m=\u001B[39m scalerCV, score\u001B[38;5;241m=\u001B[39mmetrics\u001B[38;5;241m.\u001B[39mmean_squared_error)\n\u001B[0;32m      9\u001B[0m scaler_eval[\u001B[38;5;124m\"\u001B[39m\u001B[38;5;124mStandardScaler\u001B[39m\u001B[38;5;124m\"\u001B[39m] \u001B[38;5;241m=\u001B[39m score_std\u001B[38;5;241m.\u001B[39mmean()\n",
      "\u001B[1;31mAttributeError\u001B[0m: module 'sklearn' has no attribute 'pipeline'"
     ]
    }
   ],
   "source": [
    "#1) Preparación de datos -usaremos el subset train. \n",
    "scalerCV= TimeSeriesSplit(n_splits=5)\n",
    "scaler_eval= {}\n",
    "#2)Evaluación de scalers\n",
    "#StandardScaler\n",
    "pipeline_std= sklearn.pipeline.Pipeline([ ('standardScaler', preprocessing.StandardScaler()),\n",
    "                                 ('KNN',neighbors.KNeighborsRegressor()) ])\n",
    "score_std= cross_val_score(pipeline_std, X_train, y_train,cv= scalerCV, score=metrics.mean_squared_error)\n",
    "scaler_eval[\"StandardScaler\"] = score_std.mean()\n",
    "print(scaler_eval[\"StandardScaler\"])\n",
    "#MinMaxScaler\n",
    "\n",
    "#RobustScaler\n"
   ],
   "metadata": {
    "collapsed": false,
    "ExecuteTime": {
     "end_time": "2024-03-27T10:33:38.899056Z",
     "start_time": "2024-03-27T10:33:38.696522800Z"
    }
   },
   "id": "189c345bb43aef4d",
   "execution_count": 91
  },
  {
   "cell_type": "code",
   "outputs": [],
   "source": [],
   "metadata": {
    "collapsed": false
   },
   "id": "52652231c8cb5ecf"
  }
 ],
 "metadata": {
  "kernelspec": {
   "display_name": "Python 3",
   "language": "python",
   "name": "python3"
  },
  "language_info": {
   "codemirror_mode": {
    "name": "ipython",
    "version": 3
   },
   "file_extension": ".py",
   "mimetype": "text/x-python",
   "name": "python",
   "nbconvert_exporter": "python",
   "pygments_lexer": "ipython3",
   "version": "3.8.5"
  }
 },
 "nbformat": 4,
 "nbformat_minor": 5
}

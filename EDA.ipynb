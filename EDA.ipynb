{
 "cells": [
  {
   "cell_type": "markdown",
   "metadata": {},
   "source": [
    "# Data Analysis Notebook\n",
    "Importación de librerías\n"
   ],
   "id": "959a62597b72d173"
  },
  {
   "cell_type": "code",
   "execution_count": 2,
   "metadata": {
    "ExecuteTime": {
     "end_time": "2024-03-31T18:40:21.982455300Z",
     "start_time": "2024-03-31T18:40:18.905703300Z"
    }
   },
   "outputs": [],
   "source": [
    "import pandas as pd\n",
    "import matplotlib\n",
    "import sklearn\n",
    "import time\n",
    "import numpy as np"
   ],
   "id": "1949402b7e48ddb6"
  },
  {
   "cell_type": "markdown",
   "metadata": {},
   "source": [
    "Lectura de ficheros de datos en formato csv"
   ],
   "id": "f70019d1128f3c27"
  },
  {
   "cell_type": "code",
   "execution_count": 3,
   "metadata": {
    "ExecuteTime": {
     "end_time": "2024-03-31T18:40:23.238422100Z",
     "start_time": "2024-03-31T18:40:21.985857300Z"
    }
   },
   "outputs": [],
   "source": [
    "wind_ava=pd.read_csv('wind_ava.csv.gz', compression = \"gzip\")\n",
    "\n",
    "wind_comp=pd.read_csv('wind_comp.csv.gz', compression = \"gzip\")"
   ],
   "id": "466b12273925ec0"
  },
  {
   "cell_type": "markdown",
   "metadata": {},
   "source": [
    "Visualización de las primeras muestras de datos de los ficheros iniciales"
   ],
   "id": "6d98dab7f0a78169"
  },
  {
   "cell_type": "code",
   "execution_count": 4,
   "metadata": {
    "ExecuteTime": {
     "end_time": "2024-03-31T18:40:23.287155600Z",
     "start_time": "2024-03-31T18:40:23.241315400Z"
    }
   },
   "outputs": [
    {
     "data": {
      "text/plain": "              datetime   energy     p54.162.1     p54.162.2     p54.162.3  \\\n0  2005-01-02 18:00:00   402.71  2.534970e+06  2.526864e+06  2.518754e+06   \n1  2005-01-03 00:00:00   696.80  2.537369e+06  2.529277e+06  2.521184e+06   \n2  2005-01-03 06:00:00  1591.15  2.533727e+06  2.525703e+06  2.517678e+06   \n3  2005-01-03 12:00:00  1338.62  2.534491e+06  2.526548e+06  2.518609e+06   \n4  2005-01-03 18:00:00   562.50  2.529543e+06  2.521623e+06  2.513702e+06   \n\n      p54.162.4     p54.162.5     p54.162.6     p54.162.7     p54.162.8  ...  \\\n0  2.510648e+06  2.502537e+06  2.531111e+06  2.522721e+06  2.514330e+06  ...   \n1  2.513088e+06  2.504995e+06  2.533465e+06  2.525088e+06  2.516716e+06  ...   \n2  2.509654e+06  2.501629e+06  2.529801e+06  2.521496e+06  2.513187e+06  ...   \n3  2.510670e+06  2.502732e+06  2.530569e+06  2.522346e+06  2.514127e+06  ...   \n4  2.505782e+06  2.497861e+06  2.525621e+06  2.517421e+06  2.509215e+06  ...   \n\n    v100.16   v100.17   v100.18   v100.19   v100.20   v100.21   v100.22  \\\n0 -4.683596 -4.545396 -4.407196 -4.268996 -4.131295 -4.669626 -4.528932   \n1 -3.397886 -3.257192 -3.115998 -2.975304 -2.834609 -3.396390 -3.254198   \n2 -1.454105 -1.296447 -1.138290 -0.980134 -0.822476 -1.459094 -1.302933   \n3  1.255015  1.370265  1.485515  1.600765  1.716015  1.210612  1.319376   \n4  1.939031  2.023847  2.108663  2.193977  2.278793  1.873673  1.953000   \n\n    v100.23   v100.24   v100.25  \n0 -4.388736 -4.248540 -4.107846  \n1 -3.112506 -2.970314 -2.828622  \n2 -1.147271 -0.991110 -0.834949  \n3  1.428140  1.536405  1.645169  \n4  2.031829  2.111157  2.189986  \n\n[5 rows x 552 columns]",
      "text/html": "<div>\n<style scoped>\n    .dataframe tbody tr th:only-of-type {\n        vertical-align: middle;\n    }\n\n    .dataframe tbody tr th {\n        vertical-align: top;\n    }\n\n    .dataframe thead th {\n        text-align: right;\n    }\n</style>\n<table border=\"1\" class=\"dataframe\">\n  <thead>\n    <tr style=\"text-align: right;\">\n      <th></th>\n      <th>datetime</th>\n      <th>energy</th>\n      <th>p54.162.1</th>\n      <th>p54.162.2</th>\n      <th>p54.162.3</th>\n      <th>p54.162.4</th>\n      <th>p54.162.5</th>\n      <th>p54.162.6</th>\n      <th>p54.162.7</th>\n      <th>p54.162.8</th>\n      <th>...</th>\n      <th>v100.16</th>\n      <th>v100.17</th>\n      <th>v100.18</th>\n      <th>v100.19</th>\n      <th>v100.20</th>\n      <th>v100.21</th>\n      <th>v100.22</th>\n      <th>v100.23</th>\n      <th>v100.24</th>\n      <th>v100.25</th>\n    </tr>\n  </thead>\n  <tbody>\n    <tr>\n      <th>0</th>\n      <td>2005-01-02 18:00:00</td>\n      <td>402.71</td>\n      <td>2.534970e+06</td>\n      <td>2.526864e+06</td>\n      <td>2.518754e+06</td>\n      <td>2.510648e+06</td>\n      <td>2.502537e+06</td>\n      <td>2.531111e+06</td>\n      <td>2.522721e+06</td>\n      <td>2.514330e+06</td>\n      <td>...</td>\n      <td>-4.683596</td>\n      <td>-4.545396</td>\n      <td>-4.407196</td>\n      <td>-4.268996</td>\n      <td>-4.131295</td>\n      <td>-4.669626</td>\n      <td>-4.528932</td>\n      <td>-4.388736</td>\n      <td>-4.248540</td>\n      <td>-4.107846</td>\n    </tr>\n    <tr>\n      <th>1</th>\n      <td>2005-01-03 00:00:00</td>\n      <td>696.80</td>\n      <td>2.537369e+06</td>\n      <td>2.529277e+06</td>\n      <td>2.521184e+06</td>\n      <td>2.513088e+06</td>\n      <td>2.504995e+06</td>\n      <td>2.533465e+06</td>\n      <td>2.525088e+06</td>\n      <td>2.516716e+06</td>\n      <td>...</td>\n      <td>-3.397886</td>\n      <td>-3.257192</td>\n      <td>-3.115998</td>\n      <td>-2.975304</td>\n      <td>-2.834609</td>\n      <td>-3.396390</td>\n      <td>-3.254198</td>\n      <td>-3.112506</td>\n      <td>-2.970314</td>\n      <td>-2.828622</td>\n    </tr>\n    <tr>\n      <th>2</th>\n      <td>2005-01-03 06:00:00</td>\n      <td>1591.15</td>\n      <td>2.533727e+06</td>\n      <td>2.525703e+06</td>\n      <td>2.517678e+06</td>\n      <td>2.509654e+06</td>\n      <td>2.501629e+06</td>\n      <td>2.529801e+06</td>\n      <td>2.521496e+06</td>\n      <td>2.513187e+06</td>\n      <td>...</td>\n      <td>-1.454105</td>\n      <td>-1.296447</td>\n      <td>-1.138290</td>\n      <td>-0.980134</td>\n      <td>-0.822476</td>\n      <td>-1.459094</td>\n      <td>-1.302933</td>\n      <td>-1.147271</td>\n      <td>-0.991110</td>\n      <td>-0.834949</td>\n    </tr>\n    <tr>\n      <th>3</th>\n      <td>2005-01-03 12:00:00</td>\n      <td>1338.62</td>\n      <td>2.534491e+06</td>\n      <td>2.526548e+06</td>\n      <td>2.518609e+06</td>\n      <td>2.510670e+06</td>\n      <td>2.502732e+06</td>\n      <td>2.530569e+06</td>\n      <td>2.522346e+06</td>\n      <td>2.514127e+06</td>\n      <td>...</td>\n      <td>1.255015</td>\n      <td>1.370265</td>\n      <td>1.485515</td>\n      <td>1.600765</td>\n      <td>1.716015</td>\n      <td>1.210612</td>\n      <td>1.319376</td>\n      <td>1.428140</td>\n      <td>1.536405</td>\n      <td>1.645169</td>\n    </tr>\n    <tr>\n      <th>4</th>\n      <td>2005-01-03 18:00:00</td>\n      <td>562.50</td>\n      <td>2.529543e+06</td>\n      <td>2.521623e+06</td>\n      <td>2.513702e+06</td>\n      <td>2.505782e+06</td>\n      <td>2.497861e+06</td>\n      <td>2.525621e+06</td>\n      <td>2.517421e+06</td>\n      <td>2.509215e+06</td>\n      <td>...</td>\n      <td>1.939031</td>\n      <td>2.023847</td>\n      <td>2.108663</td>\n      <td>2.193977</td>\n      <td>2.278793</td>\n      <td>1.873673</td>\n      <td>1.953000</td>\n      <td>2.031829</td>\n      <td>2.111157</td>\n      <td>2.189986</td>\n    </tr>\n  </tbody>\n</table>\n<p>5 rows × 552 columns</p>\n</div>"
     },
     "execution_count": 4,
     "metadata": {},
     "output_type": "execute_result"
    }
   ],
   "source": [
    "wind_ava.head()"
   ],
   "id": "ade4fe1f5c41cad4"
  },
  {
   "cell_type": "code",
   "execution_count": 5,
   "metadata": {
    "ExecuteTime": {
     "end_time": "2024-03-31T18:40:23.377344900Z",
     "start_time": "2024-03-31T18:40:23.275109400Z"
    }
   },
   "outputs": [
    {
     "data": {
      "text/plain": "             datetime   energy     p54.162.1     p54.162.2     p54.162.3  \\\n0 2005-01-02 18:00:00   402.71  2.534970e+06  2.526864e+06  2.518754e+06   \n1 2005-01-03 00:00:00   696.80  2.537369e+06  2.529277e+06  2.521184e+06   \n2 2005-01-03 06:00:00  1591.15  2.533727e+06  2.525703e+06  2.517678e+06   \n3 2005-01-03 12:00:00  1338.62  2.534491e+06  2.526548e+06  2.518609e+06   \n4 2005-01-03 18:00:00   562.50  2.529543e+06  2.521623e+06  2.513702e+06   \n\n      p54.162.4     p54.162.5     p54.162.6     p54.162.7     p54.162.8  ...  \\\n0  2.510648e+06  2.502537e+06  2.531111e+06  2.522721e+06  2.514330e+06  ...   \n1  2.513088e+06  2.504995e+06  2.533465e+06  2.525088e+06  2.516716e+06  ...   \n2  2.509654e+06  2.501629e+06  2.529801e+06  2.521496e+06  2.513187e+06  ...   \n3  2.510670e+06  2.502732e+06  2.530569e+06  2.522346e+06  2.514127e+06  ...   \n4  2.505782e+06  2.497861e+06  2.525621e+06  2.517421e+06  2.509215e+06  ...   \n\n    v100.16   v100.17   v100.18   v100.19   v100.20   v100.21   v100.22  \\\n0 -4.683596 -4.545396 -4.407196 -4.268996 -4.131295 -4.669626 -4.528932   \n1 -3.397886 -3.257192 -3.115998 -2.975304 -2.834609 -3.396390 -3.254198   \n2 -1.454105 -1.296447 -1.138290 -0.980134 -0.822476 -1.459094 -1.302933   \n3  1.255015  1.370265  1.485515  1.600765  1.716015  1.210612  1.319376   \n4  1.939031  2.023847  2.108663  2.193977  2.278793  1.873673  1.953000   \n\n    v100.23   v100.24   v100.25  \n0 -4.388736 -4.248540 -4.107846  \n1 -3.112506 -2.970314 -2.828622  \n2 -1.147271 -0.991110 -0.834949  \n3  1.428140  1.536405  1.645169  \n4  2.031829  2.111157  2.189986  \n\n[5 rows x 552 columns]",
      "text/html": "<div>\n<style scoped>\n    .dataframe tbody tr th:only-of-type {\n        vertical-align: middle;\n    }\n\n    .dataframe tbody tr th {\n        vertical-align: top;\n    }\n\n    .dataframe thead th {\n        text-align: right;\n    }\n</style>\n<table border=\"1\" class=\"dataframe\">\n  <thead>\n    <tr style=\"text-align: right;\">\n      <th></th>\n      <th>datetime</th>\n      <th>energy</th>\n      <th>p54.162.1</th>\n      <th>p54.162.2</th>\n      <th>p54.162.3</th>\n      <th>p54.162.4</th>\n      <th>p54.162.5</th>\n      <th>p54.162.6</th>\n      <th>p54.162.7</th>\n      <th>p54.162.8</th>\n      <th>...</th>\n      <th>v100.16</th>\n      <th>v100.17</th>\n      <th>v100.18</th>\n      <th>v100.19</th>\n      <th>v100.20</th>\n      <th>v100.21</th>\n      <th>v100.22</th>\n      <th>v100.23</th>\n      <th>v100.24</th>\n      <th>v100.25</th>\n    </tr>\n  </thead>\n  <tbody>\n    <tr>\n      <th>0</th>\n      <td>2005-01-02 18:00:00</td>\n      <td>402.71</td>\n      <td>2.534970e+06</td>\n      <td>2.526864e+06</td>\n      <td>2.518754e+06</td>\n      <td>2.510648e+06</td>\n      <td>2.502537e+06</td>\n      <td>2.531111e+06</td>\n      <td>2.522721e+06</td>\n      <td>2.514330e+06</td>\n      <td>...</td>\n      <td>-4.683596</td>\n      <td>-4.545396</td>\n      <td>-4.407196</td>\n      <td>-4.268996</td>\n      <td>-4.131295</td>\n      <td>-4.669626</td>\n      <td>-4.528932</td>\n      <td>-4.388736</td>\n      <td>-4.248540</td>\n      <td>-4.107846</td>\n    </tr>\n    <tr>\n      <th>1</th>\n      <td>2005-01-03 00:00:00</td>\n      <td>696.80</td>\n      <td>2.537369e+06</td>\n      <td>2.529277e+06</td>\n      <td>2.521184e+06</td>\n      <td>2.513088e+06</td>\n      <td>2.504995e+06</td>\n      <td>2.533465e+06</td>\n      <td>2.525088e+06</td>\n      <td>2.516716e+06</td>\n      <td>...</td>\n      <td>-3.397886</td>\n      <td>-3.257192</td>\n      <td>-3.115998</td>\n      <td>-2.975304</td>\n      <td>-2.834609</td>\n      <td>-3.396390</td>\n      <td>-3.254198</td>\n      <td>-3.112506</td>\n      <td>-2.970314</td>\n      <td>-2.828622</td>\n    </tr>\n    <tr>\n      <th>2</th>\n      <td>2005-01-03 06:00:00</td>\n      <td>1591.15</td>\n      <td>2.533727e+06</td>\n      <td>2.525703e+06</td>\n      <td>2.517678e+06</td>\n      <td>2.509654e+06</td>\n      <td>2.501629e+06</td>\n      <td>2.529801e+06</td>\n      <td>2.521496e+06</td>\n      <td>2.513187e+06</td>\n      <td>...</td>\n      <td>-1.454105</td>\n      <td>-1.296447</td>\n      <td>-1.138290</td>\n      <td>-0.980134</td>\n      <td>-0.822476</td>\n      <td>-1.459094</td>\n      <td>-1.302933</td>\n      <td>-1.147271</td>\n      <td>-0.991110</td>\n      <td>-0.834949</td>\n    </tr>\n    <tr>\n      <th>3</th>\n      <td>2005-01-03 12:00:00</td>\n      <td>1338.62</td>\n      <td>2.534491e+06</td>\n      <td>2.526548e+06</td>\n      <td>2.518609e+06</td>\n      <td>2.510670e+06</td>\n      <td>2.502732e+06</td>\n      <td>2.530569e+06</td>\n      <td>2.522346e+06</td>\n      <td>2.514127e+06</td>\n      <td>...</td>\n      <td>1.255015</td>\n      <td>1.370265</td>\n      <td>1.485515</td>\n      <td>1.600765</td>\n      <td>1.716015</td>\n      <td>1.210612</td>\n      <td>1.319376</td>\n      <td>1.428140</td>\n      <td>1.536405</td>\n      <td>1.645169</td>\n    </tr>\n    <tr>\n      <th>4</th>\n      <td>2005-01-03 18:00:00</td>\n      <td>562.50</td>\n      <td>2.529543e+06</td>\n      <td>2.521623e+06</td>\n      <td>2.513702e+06</td>\n      <td>2.505782e+06</td>\n      <td>2.497861e+06</td>\n      <td>2.525621e+06</td>\n      <td>2.517421e+06</td>\n      <td>2.509215e+06</td>\n      <td>...</td>\n      <td>1.939031</td>\n      <td>2.023847</td>\n      <td>2.108663</td>\n      <td>2.193977</td>\n      <td>2.278793</td>\n      <td>1.873673</td>\n      <td>1.953000</td>\n      <td>2.031829</td>\n      <td>2.111157</td>\n      <td>2.189986</td>\n    </tr>\n  </tbody>\n</table>\n<p>5 rows × 552 columns</p>\n</div>"
     },
     "execution_count": 5,
     "metadata": {},
     "output_type": "execute_result"
    }
   ],
   "source": [
    "wind_ava['datetime'] = pd.to_datetime(wind_ava['datetime'])\n",
    "wind_ava.head()"
   ],
   "id": "f81298a560e80516"
  },
  {
   "cell_type": "markdown",
   "metadata": {},
   "source": [
    "Si modificamos el índice para que este sea la variable *datetime* nos será más simple operar con ello."
   ],
   "id": "65d4d41824ff3a30"
  },
  {
   "cell_type": "code",
   "execution_count": 6,
   "metadata": {
    "ExecuteTime": {
     "end_time": "2024-03-31T18:40:23.380388Z",
     "start_time": "2024-03-31T18:40:23.320515900Z"
    }
   },
   "outputs": [],
   "source": [
    "#wind_ava = wind_ava.set_index('datetime')\n",
    "#wind_ava.head()"
   ],
   "id": "1fea8b74428ef4ec"
  },
  {
   "cell_type": "markdown",
   "metadata": {},
   "source": [
    "\n",
    "Actualmente, el fichero tiene 551 columnas. No las necesitamos todas: sólo usaremos la información sobre la localización de Sotavento, es decir, el número 13 de la cuadrícula de 5x5. \n",
    "\n",
    "A continuación, modificamos el fichero de datos para eliminar las columnas que no necesitamos y quedarnos únicamente con las columnas de variables relativas a la posición 13 de la cuadrícula. Para ello, filtramos las columnas según aquellas que contengan el número 13 en su nombre.\n",
    "Además, nos interesa saber el valor de la energía en cada momento en esa localización, por lo que también filtraremos de forma que no se elimine la variable 'energy'."
   ],
   "id": "ca82501cd375d687"
  },
  {
   "cell_type": "code",
   "execution_count": 7,
   "metadata": {
    "ExecuteTime": {
     "end_time": "2024-03-31T18:40:27.231087500Z",
     "start_time": "2024-03-31T18:40:23.336533800Z"
    }
   },
   "outputs": [],
   "source": [
    "for c in wind_ava.columns:\n",
    "    if not c.endswith('.13') and c != 'energy' and c != 'datetime':\n",
    "        wind_ava = wind_ava.drop(c, axis = 1)"
   ],
   "id": "e872af2d188b0"
  },
  {
   "cell_type": "code",
   "execution_count": 8,
   "metadata": {
    "ExecuteTime": {
     "end_time": "2024-03-31T18:40:27.278927100Z",
     "start_time": "2024-03-31T18:40:27.234049100Z"
    }
   },
   "outputs": [
    {
     "data": {
      "text/plain": "             datetime   energy    p54.162.13  p55.162.13    cape.13  \\\n0 2005-01-02 18:00:00   402.71  2.510824e+06    9.186295  13.527577   \n1 2005-01-03 00:00:00   696.80  2.513173e+06    8.849569   6.896412   \n2 2005-01-03 06:00:00  1591.15  2.509627e+06    7.924080   4.774439   \n3 2005-01-03 12:00:00  1338.62  2.510571e+06    6.922709   0.000000   \n4 2005-01-03 18:00:00   562.50  2.505664e+06    6.646282   0.000000   \n\n     p59.162.13  lai_lv.13  lai_hv.13   u10n.13   v10n.13  ...      t2m.13  \\\n0  1.386937e+06   2.344111   2.432983 -0.757587 -1.922799  ...  280.473098   \n1  1.153526e+06   2.343719   2.432838 -1.412620 -1.403011  ...  278.286616   \n2  1.098754e+06   2.343300   2.432704 -2.290185 -0.754580  ...  277.206490   \n3  1.076021e+06   2.342830   2.432514 -3.497855  1.271028  ...  280.926600   \n4  1.070830e+06   2.342437   2.432369 -0.971249  0.553060  ...  277.363875   \n\n      stl2.13     stl3.13   iews.13   inss.13     stl4.13    fsr.13   flsr.13  \\\n0  281.042026  281.462478 -0.057958 -0.138650  284.684755  0.404731 -5.927092   \n1  280.747406  281.486541 -0.103576 -0.083050  284.667948  0.404920 -5.913881   \n2  280.114863  281.487095 -0.165721 -0.036241  284.651914  0.405704 -5.908272   \n3  279.991138  281.472435 -0.275550  0.098192  284.636266  0.403967 -5.961995   \n4  280.576898  281.473265 -0.056553  0.041844  284.620232  0.403808 -5.987860   \n\n    u100.13   v100.13  \n0 -1.780562 -4.443617  \n1 -3.743344 -3.129469  \n2 -5.097203 -1.157748  \n3 -4.500835  1.502478  \n4 -3.392324  2.131114  \n\n[5 rows x 24 columns]",
      "text/html": "<div>\n<style scoped>\n    .dataframe tbody tr th:only-of-type {\n        vertical-align: middle;\n    }\n\n    .dataframe tbody tr th {\n        vertical-align: top;\n    }\n\n    .dataframe thead th {\n        text-align: right;\n    }\n</style>\n<table border=\"1\" class=\"dataframe\">\n  <thead>\n    <tr style=\"text-align: right;\">\n      <th></th>\n      <th>datetime</th>\n      <th>energy</th>\n      <th>p54.162.13</th>\n      <th>p55.162.13</th>\n      <th>cape.13</th>\n      <th>p59.162.13</th>\n      <th>lai_lv.13</th>\n      <th>lai_hv.13</th>\n      <th>u10n.13</th>\n      <th>v10n.13</th>\n      <th>...</th>\n      <th>t2m.13</th>\n      <th>stl2.13</th>\n      <th>stl3.13</th>\n      <th>iews.13</th>\n      <th>inss.13</th>\n      <th>stl4.13</th>\n      <th>fsr.13</th>\n      <th>flsr.13</th>\n      <th>u100.13</th>\n      <th>v100.13</th>\n    </tr>\n  </thead>\n  <tbody>\n    <tr>\n      <th>0</th>\n      <td>2005-01-02 18:00:00</td>\n      <td>402.71</td>\n      <td>2.510824e+06</td>\n      <td>9.186295</td>\n      <td>13.527577</td>\n      <td>1.386937e+06</td>\n      <td>2.344111</td>\n      <td>2.432983</td>\n      <td>-0.757587</td>\n      <td>-1.922799</td>\n      <td>...</td>\n      <td>280.473098</td>\n      <td>281.042026</td>\n      <td>281.462478</td>\n      <td>-0.057958</td>\n      <td>-0.138650</td>\n      <td>284.684755</td>\n      <td>0.404731</td>\n      <td>-5.927092</td>\n      <td>-1.780562</td>\n      <td>-4.443617</td>\n    </tr>\n    <tr>\n      <th>1</th>\n      <td>2005-01-03 00:00:00</td>\n      <td>696.80</td>\n      <td>2.513173e+06</td>\n      <td>8.849569</td>\n      <td>6.896412</td>\n      <td>1.153526e+06</td>\n      <td>2.343719</td>\n      <td>2.432838</td>\n      <td>-1.412620</td>\n      <td>-1.403011</td>\n      <td>...</td>\n      <td>278.286616</td>\n      <td>280.747406</td>\n      <td>281.486541</td>\n      <td>-0.103576</td>\n      <td>-0.083050</td>\n      <td>284.667948</td>\n      <td>0.404920</td>\n      <td>-5.913881</td>\n      <td>-3.743344</td>\n      <td>-3.129469</td>\n    </tr>\n    <tr>\n      <th>2</th>\n      <td>2005-01-03 06:00:00</td>\n      <td>1591.15</td>\n      <td>2.509627e+06</td>\n      <td>7.924080</td>\n      <td>4.774439</td>\n      <td>1.098754e+06</td>\n      <td>2.343300</td>\n      <td>2.432704</td>\n      <td>-2.290185</td>\n      <td>-0.754580</td>\n      <td>...</td>\n      <td>277.206490</td>\n      <td>280.114863</td>\n      <td>281.487095</td>\n      <td>-0.165721</td>\n      <td>-0.036241</td>\n      <td>284.651914</td>\n      <td>0.405704</td>\n      <td>-5.908272</td>\n      <td>-5.097203</td>\n      <td>-1.157748</td>\n    </tr>\n    <tr>\n      <th>3</th>\n      <td>2005-01-03 12:00:00</td>\n      <td>1338.62</td>\n      <td>2.510571e+06</td>\n      <td>6.922709</td>\n      <td>0.000000</td>\n      <td>1.076021e+06</td>\n      <td>2.342830</td>\n      <td>2.432514</td>\n      <td>-3.497855</td>\n      <td>1.271028</td>\n      <td>...</td>\n      <td>280.926600</td>\n      <td>279.991138</td>\n      <td>281.472435</td>\n      <td>-0.275550</td>\n      <td>0.098192</td>\n      <td>284.636266</td>\n      <td>0.403967</td>\n      <td>-5.961995</td>\n      <td>-4.500835</td>\n      <td>1.502478</td>\n    </tr>\n    <tr>\n      <th>4</th>\n      <td>2005-01-03 18:00:00</td>\n      <td>562.50</td>\n      <td>2.505664e+06</td>\n      <td>6.646282</td>\n      <td>0.000000</td>\n      <td>1.070830e+06</td>\n      <td>2.342437</td>\n      <td>2.432369</td>\n      <td>-0.971249</td>\n      <td>0.553060</td>\n      <td>...</td>\n      <td>277.363875</td>\n      <td>280.576898</td>\n      <td>281.473265</td>\n      <td>-0.056553</td>\n      <td>0.041844</td>\n      <td>284.620232</td>\n      <td>0.403808</td>\n      <td>-5.987860</td>\n      <td>-3.392324</td>\n      <td>2.131114</td>\n    </tr>\n  </tbody>\n</table>\n<p>5 rows × 24 columns</p>\n</div>"
     },
     "execution_count": 8,
     "metadata": {},
     "output_type": "execute_result"
    }
   ],
   "source": [
    "wind_ava.head()"
   ],
   "id": "43b958e9e9cd2785"
  },
  {
   "cell_type": "markdown",
   "metadata": {},
   "source": [
    "Como se puede observar, hemos pasado de operar con 551 columnas, a tener sólo 23 columnas en nuestro dataset.\n",
    "En último lugar, es necesario modificar la variable 'datetime' y convertir los datos de la primera columna a formato fecha (pd.to_datetime()) para facilitar su manejo y visualización. Podemos comprobar el resultado de esta modificación en los diagramas de la siguiente sección. "
   ],
   "id": "24ca6d681059a727"
  },
  {
   "cell_type": "markdown",
   "metadata": {},
   "source": [
    "## Descripción general de los datos"
   ],
   "id": "b7c290161cc71479"
  },
  {
   "cell_type": "code",
   "execution_count": 9,
   "metadata": {
    "scrolled": true,
    "ExecuteTime": {
     "end_time": "2024-03-31T18:40:27.430111100Z",
     "start_time": "2024-03-31T18:40:27.267956600Z"
    }
   },
   "outputs": [
    {
     "data": {
      "text/plain": "                datetime   energy    p54.162.13  p55.162.13    cape.13  \\\n0    2005-01-02 18:00:00   402.71  2.510824e+06    9.186295  13.527577   \n1    2005-01-03 00:00:00   696.80  2.513173e+06    8.849569   6.896412   \n2    2005-01-03 06:00:00  1591.15  2.509627e+06    7.924080   4.774439   \n3    2005-01-03 12:00:00  1338.62  2.510571e+06    6.922709   0.000000   \n4    2005-01-03 18:00:00   562.50  2.505664e+06    6.646282   0.000000   \n...                  ...      ...           ...         ...        ...   \n4743 2009-12-30 06:00:00  1280.13  2.385772e+06   14.413342  24.971074   \n4744 2009-12-30 12:00:00   855.00  2.385708e+06   12.802883  60.248874   \n4745 2009-12-30 18:00:00   117.06  2.379049e+06   10.915997   3.145067   \n4746 2009-12-31 12:00:00   516.96  2.371697e+06   13.048144  12.580268   \n4747 2009-12-31 18:00:00   867.07  2.369547e+06    9.172745   8.487892   \n\n        p59.162.13  lai_lv.13  lai_hv.13   u10n.13   v10n.13  ...      t2m.13  \\\n0     1.386937e+06   2.344111   2.432983 -0.757587 -1.922799  ...  280.473098   \n1     1.153526e+06   2.343719   2.432838 -1.412620 -1.403011  ...  278.286616   \n2     1.098754e+06   2.343300   2.432704 -2.290185 -0.754580  ...  277.206490   \n3     1.076021e+06   2.342830   2.432514 -3.497855  1.271028  ...  280.926600   \n4     1.070830e+06   2.342437   2.432369 -0.971249  0.553060  ...  277.363875   \n...            ...        ...        ...       ...       ...  ...         ...   \n4743  3.905586e+06   2.349839   2.434994  4.595786  5.563189  ...  280.731326   \n4744  2.745694e+06   2.349446   2.434849  4.894838  5.577096  ...  283.310687   \n4745  2.254171e+06   2.349054   2.434715  0.958361  0.948029  ...  281.060085   \n4746  1.376913e+06   2.347799   2.434291  5.278912  0.771754  ...  279.662858   \n4747  1.356687e+06   2.347406   2.434145  4.578042  1.295018  ...  277.552154   \n\n         stl2.13     stl3.13   iews.13   inss.13     stl4.13    fsr.13  \\\n0     281.042026  281.462478 -0.057958 -0.138650  284.684755  0.404731   \n1     280.747406  281.486541 -0.103576 -0.083050  284.667948  0.404920   \n2     280.114863  281.487095 -0.165721 -0.036241  284.651914  0.405704   \n3     279.991138  281.472435 -0.275550  0.098192  284.636266  0.403967   \n4     280.576898  281.473265 -0.056553  0.041844  284.620232  0.403808   \n...          ...         ...       ...       ...         ...       ...   \n4743  282.643490  281.676560  0.628948  0.879581  286.013271  0.424510   \n4744  282.370909  281.761750  0.740926  0.699769  285.988737  0.424762   \n4745  282.425812  281.841961  0.109802  0.125174  285.968452  0.415132   \n4746  281.153379  281.976385  0.705886  0.192834  285.904895  0.426707   \n4747  281.046666  281.997129  0.460114  0.160810  285.884804  0.426651   \n\n       flsr.13   u100.13   v100.13  \n0    -5.927092 -1.780562 -4.443617  \n1    -5.913881 -3.743344 -3.129469  \n2    -5.908272 -5.097203 -1.157748  \n3    -5.961995 -4.500835  1.502478  \n4    -5.987860 -3.392324  2.131114  \n...        ...       ...       ...  \n4743 -5.715421  6.922743  9.179816  \n4744 -5.732455  7.434887  7.537381  \n4745 -5.866856  3.033799  3.568993  \n4746 -5.693542  8.374951  2.219422  \n4747 -5.699429  7.103223  1.883651  \n\n[4748 rows x 24 columns]",
      "text/html": "<div>\n<style scoped>\n    .dataframe tbody tr th:only-of-type {\n        vertical-align: middle;\n    }\n\n    .dataframe tbody tr th {\n        vertical-align: top;\n    }\n\n    .dataframe thead th {\n        text-align: right;\n    }\n</style>\n<table border=\"1\" class=\"dataframe\">\n  <thead>\n    <tr style=\"text-align: right;\">\n      <th></th>\n      <th>datetime</th>\n      <th>energy</th>\n      <th>p54.162.13</th>\n      <th>p55.162.13</th>\n      <th>cape.13</th>\n      <th>p59.162.13</th>\n      <th>lai_lv.13</th>\n      <th>lai_hv.13</th>\n      <th>u10n.13</th>\n      <th>v10n.13</th>\n      <th>...</th>\n      <th>t2m.13</th>\n      <th>stl2.13</th>\n      <th>stl3.13</th>\n      <th>iews.13</th>\n      <th>inss.13</th>\n      <th>stl4.13</th>\n      <th>fsr.13</th>\n      <th>flsr.13</th>\n      <th>u100.13</th>\n      <th>v100.13</th>\n    </tr>\n  </thead>\n  <tbody>\n    <tr>\n      <th>0</th>\n      <td>2005-01-02 18:00:00</td>\n      <td>402.71</td>\n      <td>2.510824e+06</td>\n      <td>9.186295</td>\n      <td>13.527577</td>\n      <td>1.386937e+06</td>\n      <td>2.344111</td>\n      <td>2.432983</td>\n      <td>-0.757587</td>\n      <td>-1.922799</td>\n      <td>...</td>\n      <td>280.473098</td>\n      <td>281.042026</td>\n      <td>281.462478</td>\n      <td>-0.057958</td>\n      <td>-0.138650</td>\n      <td>284.684755</td>\n      <td>0.404731</td>\n      <td>-5.927092</td>\n      <td>-1.780562</td>\n      <td>-4.443617</td>\n    </tr>\n    <tr>\n      <th>1</th>\n      <td>2005-01-03 00:00:00</td>\n      <td>696.80</td>\n      <td>2.513173e+06</td>\n      <td>8.849569</td>\n      <td>6.896412</td>\n      <td>1.153526e+06</td>\n      <td>2.343719</td>\n      <td>2.432838</td>\n      <td>-1.412620</td>\n      <td>-1.403011</td>\n      <td>...</td>\n      <td>278.286616</td>\n      <td>280.747406</td>\n      <td>281.486541</td>\n      <td>-0.103576</td>\n      <td>-0.083050</td>\n      <td>284.667948</td>\n      <td>0.404920</td>\n      <td>-5.913881</td>\n      <td>-3.743344</td>\n      <td>-3.129469</td>\n    </tr>\n    <tr>\n      <th>2</th>\n      <td>2005-01-03 06:00:00</td>\n      <td>1591.15</td>\n      <td>2.509627e+06</td>\n      <td>7.924080</td>\n      <td>4.774439</td>\n      <td>1.098754e+06</td>\n      <td>2.343300</td>\n      <td>2.432704</td>\n      <td>-2.290185</td>\n      <td>-0.754580</td>\n      <td>...</td>\n      <td>277.206490</td>\n      <td>280.114863</td>\n      <td>281.487095</td>\n      <td>-0.165721</td>\n      <td>-0.036241</td>\n      <td>284.651914</td>\n      <td>0.405704</td>\n      <td>-5.908272</td>\n      <td>-5.097203</td>\n      <td>-1.157748</td>\n    </tr>\n    <tr>\n      <th>3</th>\n      <td>2005-01-03 12:00:00</td>\n      <td>1338.62</td>\n      <td>2.510571e+06</td>\n      <td>6.922709</td>\n      <td>0.000000</td>\n      <td>1.076021e+06</td>\n      <td>2.342830</td>\n      <td>2.432514</td>\n      <td>-3.497855</td>\n      <td>1.271028</td>\n      <td>...</td>\n      <td>280.926600</td>\n      <td>279.991138</td>\n      <td>281.472435</td>\n      <td>-0.275550</td>\n      <td>0.098192</td>\n      <td>284.636266</td>\n      <td>0.403967</td>\n      <td>-5.961995</td>\n      <td>-4.500835</td>\n      <td>1.502478</td>\n    </tr>\n    <tr>\n      <th>4</th>\n      <td>2005-01-03 18:00:00</td>\n      <td>562.50</td>\n      <td>2.505664e+06</td>\n      <td>6.646282</td>\n      <td>0.000000</td>\n      <td>1.070830e+06</td>\n      <td>2.342437</td>\n      <td>2.432369</td>\n      <td>-0.971249</td>\n      <td>0.553060</td>\n      <td>...</td>\n      <td>277.363875</td>\n      <td>280.576898</td>\n      <td>281.473265</td>\n      <td>-0.056553</td>\n      <td>0.041844</td>\n      <td>284.620232</td>\n      <td>0.403808</td>\n      <td>-5.987860</td>\n      <td>-3.392324</td>\n      <td>2.131114</td>\n    </tr>\n    <tr>\n      <th>...</th>\n      <td>...</td>\n      <td>...</td>\n      <td>...</td>\n      <td>...</td>\n      <td>...</td>\n      <td>...</td>\n      <td>...</td>\n      <td>...</td>\n      <td>...</td>\n      <td>...</td>\n      <td>...</td>\n      <td>...</td>\n      <td>...</td>\n      <td>...</td>\n      <td>...</td>\n      <td>...</td>\n      <td>...</td>\n      <td>...</td>\n      <td>...</td>\n      <td>...</td>\n      <td>...</td>\n    </tr>\n    <tr>\n      <th>4743</th>\n      <td>2009-12-30 06:00:00</td>\n      <td>1280.13</td>\n      <td>2.385772e+06</td>\n      <td>14.413342</td>\n      <td>24.971074</td>\n      <td>3.905586e+06</td>\n      <td>2.349839</td>\n      <td>2.434994</td>\n      <td>4.595786</td>\n      <td>5.563189</td>\n      <td>...</td>\n      <td>280.731326</td>\n      <td>282.643490</td>\n      <td>281.676560</td>\n      <td>0.628948</td>\n      <td>0.879581</td>\n      <td>286.013271</td>\n      <td>0.424510</td>\n      <td>-5.715421</td>\n      <td>6.922743</td>\n      <td>9.179816</td>\n    </tr>\n    <tr>\n      <th>4744</th>\n      <td>2009-12-30 12:00:00</td>\n      <td>855.00</td>\n      <td>2.385708e+06</td>\n      <td>12.802883</td>\n      <td>60.248874</td>\n      <td>2.745694e+06</td>\n      <td>2.349446</td>\n      <td>2.434849</td>\n      <td>4.894838</td>\n      <td>5.577096</td>\n      <td>...</td>\n      <td>283.310687</td>\n      <td>282.370909</td>\n      <td>281.761750</td>\n      <td>0.740926</td>\n      <td>0.699769</td>\n      <td>285.988737</td>\n      <td>0.424762</td>\n      <td>-5.732455</td>\n      <td>7.434887</td>\n      <td>7.537381</td>\n    </tr>\n    <tr>\n      <th>4745</th>\n      <td>2009-12-30 18:00:00</td>\n      <td>117.06</td>\n      <td>2.379049e+06</td>\n      <td>10.915997</td>\n      <td>3.145067</td>\n      <td>2.254171e+06</td>\n      <td>2.349054</td>\n      <td>2.434715</td>\n      <td>0.958361</td>\n      <td>0.948029</td>\n      <td>...</td>\n      <td>281.060085</td>\n      <td>282.425812</td>\n      <td>281.841961</td>\n      <td>0.109802</td>\n      <td>0.125174</td>\n      <td>285.968452</td>\n      <td>0.415132</td>\n      <td>-5.866856</td>\n      <td>3.033799</td>\n      <td>3.568993</td>\n    </tr>\n    <tr>\n      <th>4746</th>\n      <td>2009-12-31 12:00:00</td>\n      <td>516.96</td>\n      <td>2.371697e+06</td>\n      <td>13.048144</td>\n      <td>12.580268</td>\n      <td>1.376913e+06</td>\n      <td>2.347799</td>\n      <td>2.434291</td>\n      <td>5.278912</td>\n      <td>0.771754</td>\n      <td>...</td>\n      <td>279.662858</td>\n      <td>281.153379</td>\n      <td>281.976385</td>\n      <td>0.705886</td>\n      <td>0.192834</td>\n      <td>285.904895</td>\n      <td>0.426707</td>\n      <td>-5.693542</td>\n      <td>8.374951</td>\n      <td>2.219422</td>\n    </tr>\n    <tr>\n      <th>4747</th>\n      <td>2009-12-31 18:00:00</td>\n      <td>867.07</td>\n      <td>2.369547e+06</td>\n      <td>9.172745</td>\n      <td>8.487892</td>\n      <td>1.356687e+06</td>\n      <td>2.347406</td>\n      <td>2.434145</td>\n      <td>4.578042</td>\n      <td>1.295018</td>\n      <td>...</td>\n      <td>277.552154</td>\n      <td>281.046666</td>\n      <td>281.997129</td>\n      <td>0.460114</td>\n      <td>0.160810</td>\n      <td>285.884804</td>\n      <td>0.426651</td>\n      <td>-5.699429</td>\n      <td>7.103223</td>\n      <td>1.883651</td>\n    </tr>\n  </tbody>\n</table>\n<p>4748 rows × 24 columns</p>\n</div>"
     },
     "execution_count": 9,
     "metadata": {},
     "output_type": "execute_result"
    }
   ],
   "source": [
    "wind_ava"
   ],
   "id": "bba98898ff01618d"
  },
  {
   "cell_type": "code",
   "execution_count": 10,
   "metadata": {
    "ExecuteTime": {
     "end_time": "2024-03-31T18:40:27.433104300Z",
     "start_time": "2024-03-31T18:40:27.310852800Z"
    }
   },
   "outputs": [
    {
     "data": {
      "text/plain": "(4748, 24)"
     },
     "execution_count": 10,
     "metadata": {},
     "output_type": "execute_result"
    }
   ],
   "source": [
    "df_shape = wind_ava.shape\n",
    "df_shape"
   ],
   "id": "c68571d6dd1e300d"
  },
  {
   "cell_type": "markdown",
   "metadata": {},
   "source": [
    "Nuestro dataset tiene 23 características y 4748 instancias."
   ],
   "id": "9b4ffacda7067d87"
  },
  {
   "cell_type": "code",
   "execution_count": 11,
   "metadata": {
    "ExecuteTime": {
     "end_time": "2024-03-31T18:40:27.443077100Z",
     "start_time": "2024-03-31T18:40:27.333624700Z"
    }
   },
   "outputs": [
    {
     "data": {
      "text/plain": "                            datetime       energy    p54.162.13   p55.162.13  \\\ncount                           4748  4748.000000  4.748000e+03  4748.000000   \nmean   2007-02-20 00:43:40.387531520   693.126247  2.489477e+06    16.008810   \nmin              2005-01-02 18:00:00     0.010000  2.358748e+06     1.650268   \n25%              2005-12-11 04:30:00   144.170000  2.458543e+06    11.203264   \n50%              2006-11-18 15:00:00   465.305000  2.490478e+06    15.543441   \n75%              2007-12-03 07:30:00  1089.375000  2.525134e+06    20.214077   \nmax              2009-12-31 18:00:00  2792.550000  2.580387e+06    39.230807   \nstd                              NaN   665.531609  4.482599e+04     6.552216   \n\n           cape.13    p59.162.13    lai_lv.13    lai_hv.13      u10n.13  \\\ncount  4748.000000  4.748000e+03  4748.000000  4748.000000  4748.000000   \nmean     31.166541  1.706692e+06     2.815222     2.576284     0.386215   \nmin       0.000000  5.610341e+04     2.323973     2.425866    -8.619823   \n25%       0.000000  6.563209e+05     2.425944     2.461630    -1.950008   \n50%       1.004148  1.239176e+06     2.758857     2.560520     0.048820   \n75%      14.143328  2.296548e+06     3.205385     2.688526     2.641779   \nmax    2311.662152  1.110694e+07     3.450745     2.762992    12.974802   \nstd     121.758977  1.466953e+06     0.397377     0.116434     3.100583   \n\n           v10n.13  ...       t2m.13      stl2.13      stl3.13      iews.13  \\\ncount  4748.000000  ...  4748.000000  4748.000000  4748.000000  4748.000000   \nmean      0.120528  ...   285.689253   286.663838   286.665988     0.074229   \nmin      -8.867441  ...   268.970603   275.461648   278.389271    -1.714897   \n25%      -2.050920  ...   281.458939   282.287394   282.689506    -0.126880   \n50%      -0.191853  ...   285.395453   286.191880   286.204914     0.010551   \n75%       2.016289  ...   289.740438   291.345311   290.989045     0.232378   \nmax      11.699814  ...   305.000640   299.556292   295.639998     2.842552   \nstd       3.016766  ...     6.163483     5.547947     4.582827     0.367013   \n\n           inss.13      stl4.13       fsr.13      flsr.13      u100.13  \\\ncount  4748.000000  4748.000000  4748.000000  4748.000000  4748.000000   \nmean      0.049971   286.668152     0.413677    -5.908467     0.447175   \nmin      -1.438829   280.875389     0.364805    -6.130465   -11.879053   \n25%      -0.148495   283.405549     0.410027    -5.977599    -3.836853   \n50%      -0.003569   286.591659     0.410917    -5.947220     0.282399   \n75%       0.172325   290.024705     0.417070    -5.858848     4.187953   \nmax       2.366522   292.808658     0.428914    -5.618172    18.964137   \nstd       0.379014     3.552873     0.007602     0.094359     4.841730   \n\n           v100.13  \ncount  4748.000000  \nmean      0.328204  \nmin     -13.043453  \n25%      -3.256194  \n50%      -0.389416  \n75%       3.614395  \nmax      16.913033  \nstd       4.667552  \n\n[8 rows x 24 columns]",
      "text/html": "<div>\n<style scoped>\n    .dataframe tbody tr th:only-of-type {\n        vertical-align: middle;\n    }\n\n    .dataframe tbody tr th {\n        vertical-align: top;\n    }\n\n    .dataframe thead th {\n        text-align: right;\n    }\n</style>\n<table border=\"1\" class=\"dataframe\">\n  <thead>\n    <tr style=\"text-align: right;\">\n      <th></th>\n      <th>datetime</th>\n      <th>energy</th>\n      <th>p54.162.13</th>\n      <th>p55.162.13</th>\n      <th>cape.13</th>\n      <th>p59.162.13</th>\n      <th>lai_lv.13</th>\n      <th>lai_hv.13</th>\n      <th>u10n.13</th>\n      <th>v10n.13</th>\n      <th>...</th>\n      <th>t2m.13</th>\n      <th>stl2.13</th>\n      <th>stl3.13</th>\n      <th>iews.13</th>\n      <th>inss.13</th>\n      <th>stl4.13</th>\n      <th>fsr.13</th>\n      <th>flsr.13</th>\n      <th>u100.13</th>\n      <th>v100.13</th>\n    </tr>\n  </thead>\n  <tbody>\n    <tr>\n      <th>count</th>\n      <td>4748</td>\n      <td>4748.000000</td>\n      <td>4.748000e+03</td>\n      <td>4748.000000</td>\n      <td>4748.000000</td>\n      <td>4.748000e+03</td>\n      <td>4748.000000</td>\n      <td>4748.000000</td>\n      <td>4748.000000</td>\n      <td>4748.000000</td>\n      <td>...</td>\n      <td>4748.000000</td>\n      <td>4748.000000</td>\n      <td>4748.000000</td>\n      <td>4748.000000</td>\n      <td>4748.000000</td>\n      <td>4748.000000</td>\n      <td>4748.000000</td>\n      <td>4748.000000</td>\n      <td>4748.000000</td>\n      <td>4748.000000</td>\n    </tr>\n    <tr>\n      <th>mean</th>\n      <td>2007-02-20 00:43:40.387531520</td>\n      <td>693.126247</td>\n      <td>2.489477e+06</td>\n      <td>16.008810</td>\n      <td>31.166541</td>\n      <td>1.706692e+06</td>\n      <td>2.815222</td>\n      <td>2.576284</td>\n      <td>0.386215</td>\n      <td>0.120528</td>\n      <td>...</td>\n      <td>285.689253</td>\n      <td>286.663838</td>\n      <td>286.665988</td>\n      <td>0.074229</td>\n      <td>0.049971</td>\n      <td>286.668152</td>\n      <td>0.413677</td>\n      <td>-5.908467</td>\n      <td>0.447175</td>\n      <td>0.328204</td>\n    </tr>\n    <tr>\n      <th>min</th>\n      <td>2005-01-02 18:00:00</td>\n      <td>0.010000</td>\n      <td>2.358748e+06</td>\n      <td>1.650268</td>\n      <td>0.000000</td>\n      <td>5.610341e+04</td>\n      <td>2.323973</td>\n      <td>2.425866</td>\n      <td>-8.619823</td>\n      <td>-8.867441</td>\n      <td>...</td>\n      <td>268.970603</td>\n      <td>275.461648</td>\n      <td>278.389271</td>\n      <td>-1.714897</td>\n      <td>-1.438829</td>\n      <td>280.875389</td>\n      <td>0.364805</td>\n      <td>-6.130465</td>\n      <td>-11.879053</td>\n      <td>-13.043453</td>\n    </tr>\n    <tr>\n      <th>25%</th>\n      <td>2005-12-11 04:30:00</td>\n      <td>144.170000</td>\n      <td>2.458543e+06</td>\n      <td>11.203264</td>\n      <td>0.000000</td>\n      <td>6.563209e+05</td>\n      <td>2.425944</td>\n      <td>2.461630</td>\n      <td>-1.950008</td>\n      <td>-2.050920</td>\n      <td>...</td>\n      <td>281.458939</td>\n      <td>282.287394</td>\n      <td>282.689506</td>\n      <td>-0.126880</td>\n      <td>-0.148495</td>\n      <td>283.405549</td>\n      <td>0.410027</td>\n      <td>-5.977599</td>\n      <td>-3.836853</td>\n      <td>-3.256194</td>\n    </tr>\n    <tr>\n      <th>50%</th>\n      <td>2006-11-18 15:00:00</td>\n      <td>465.305000</td>\n      <td>2.490478e+06</td>\n      <td>15.543441</td>\n      <td>1.004148</td>\n      <td>1.239176e+06</td>\n      <td>2.758857</td>\n      <td>2.560520</td>\n      <td>0.048820</td>\n      <td>-0.191853</td>\n      <td>...</td>\n      <td>285.395453</td>\n      <td>286.191880</td>\n      <td>286.204914</td>\n      <td>0.010551</td>\n      <td>-0.003569</td>\n      <td>286.591659</td>\n      <td>0.410917</td>\n      <td>-5.947220</td>\n      <td>0.282399</td>\n      <td>-0.389416</td>\n    </tr>\n    <tr>\n      <th>75%</th>\n      <td>2007-12-03 07:30:00</td>\n      <td>1089.375000</td>\n      <td>2.525134e+06</td>\n      <td>20.214077</td>\n      <td>14.143328</td>\n      <td>2.296548e+06</td>\n      <td>3.205385</td>\n      <td>2.688526</td>\n      <td>2.641779</td>\n      <td>2.016289</td>\n      <td>...</td>\n      <td>289.740438</td>\n      <td>291.345311</td>\n      <td>290.989045</td>\n      <td>0.232378</td>\n      <td>0.172325</td>\n      <td>290.024705</td>\n      <td>0.417070</td>\n      <td>-5.858848</td>\n      <td>4.187953</td>\n      <td>3.614395</td>\n    </tr>\n    <tr>\n      <th>max</th>\n      <td>2009-12-31 18:00:00</td>\n      <td>2792.550000</td>\n      <td>2.580387e+06</td>\n      <td>39.230807</td>\n      <td>2311.662152</td>\n      <td>1.110694e+07</td>\n      <td>3.450745</td>\n      <td>2.762992</td>\n      <td>12.974802</td>\n      <td>11.699814</td>\n      <td>...</td>\n      <td>305.000640</td>\n      <td>299.556292</td>\n      <td>295.639998</td>\n      <td>2.842552</td>\n      <td>2.366522</td>\n      <td>292.808658</td>\n      <td>0.428914</td>\n      <td>-5.618172</td>\n      <td>18.964137</td>\n      <td>16.913033</td>\n    </tr>\n    <tr>\n      <th>std</th>\n      <td>NaN</td>\n      <td>665.531609</td>\n      <td>4.482599e+04</td>\n      <td>6.552216</td>\n      <td>121.758977</td>\n      <td>1.466953e+06</td>\n      <td>0.397377</td>\n      <td>0.116434</td>\n      <td>3.100583</td>\n      <td>3.016766</td>\n      <td>...</td>\n      <td>6.163483</td>\n      <td>5.547947</td>\n      <td>4.582827</td>\n      <td>0.367013</td>\n      <td>0.379014</td>\n      <td>3.552873</td>\n      <td>0.007602</td>\n      <td>0.094359</td>\n      <td>4.841730</td>\n      <td>4.667552</td>\n    </tr>\n  </tbody>\n</table>\n<p>8 rows × 24 columns</p>\n</div>"
     },
     "execution_count": 11,
     "metadata": {},
     "output_type": "execute_result"
    }
   ],
   "source": [
    "df_description = wind_ava.describe()\n",
    "df_description"
   ],
   "id": "abb38e71e1075f61"
  },
  {
   "cell_type": "markdown",
   "metadata": {},
   "source": [
    "Con esta información resumida sobre los datos disponibles podemos averiguar la media, el mínimo y el máximo y la desviación típica de cada variable, entre otras cosas. \n",
    "\n",
    "En primer lugar, podemos observar que todas nuestras variables son numéricas. \n",
    "\n",
    "También observamos que ningún valor de desviación estándar o desviación típica (std) es igual a 0, por lo que ninguna de las variables de nos interesan (las del sector 13 del mapa) son constantes, y por lo tanto no es necesario modificar el dataset más allá de lo relaizado hasta ahora.\n",
    "\n"
   ],
   "id": "5ae0f835c1dc8a54"
  },
  {
   "cell_type": "markdown",
   "metadata": {},
   "source": [
    "# Preprocesado de datos\n",
    "En primer lugar, queremos identificar y eliminar los datos faltantes en nuestro dataset, es decir, aquellos que son *NA*.\n",
    "Para ello identificamos el número de datos faltantes por cada característica."
   ],
   "id": "ea0564dbb88259f6"
  },
  {
   "cell_type": "code",
   "execution_count": 12,
   "metadata": {
    "ExecuteTime": {
     "end_time": "2024-03-31T18:40:27.566357Z",
     "start_time": "2024-03-31T18:40:27.422134500Z"
    }
   },
   "outputs": [
    {
     "data": {
      "text/plain": "datetime      0\nenergy        0\np54.162.13    0\np55.162.13    0\ncape.13       0\np59.162.13    0\nlai_lv.13     0\nlai_hv.13     0\nu10n.13       0\nv10n.13       0\nsp.13         0\nstl1.13       0\nu10.13        0\nv10.13        0\nt2m.13        0\nstl2.13       0\nstl3.13       0\niews.13       0\ninss.13       0\nstl4.13       0\nfsr.13        0\nflsr.13       0\nu100.13       0\nv100.13       0\ndtype: int64"
     },
     "execution_count": 12,
     "metadata": {},
     "output_type": "execute_result"
    }
   ],
   "source": [
    "wind_ava.isna().sum()"
   ],
   "id": "33ae32d479eef0f"
  },
  {
   "cell_type": "markdown",
   "metadata": {},
   "source": [
    "Como podemos ver, no hay ningún valor perdido en nuestros datos, por lo que no necesitamos eliminar ninguna característica. Lo habríamos hecho en el caso de que, para alguna característica, más del 80% de los datos fueran faltantes.\n",
    "\n",
    "A continuación comprobamos que la desviación típica de todas las variables sea diferente de 0, lo que supondría que todas son significativas y aportan valor al modelo. En caso de que este dato tomara valor nulo supondría que esa variable es constante, y posiblemente se valoraría su eliminación del conjunto de datos."
   ],
   "id": "4ea25f9b4ff600d4"
  },
  {
   "cell_type": "code",
   "execution_count": 13,
   "metadata": {
    "ExecuteTime": {
     "end_time": "2024-03-31T18:40:27.584370200Z",
     "start_time": "2024-03-31T18:40:27.452757800Z"
    }
   },
   "outputs": [
    {
     "data": {
      "text/plain": "datetime      535 days 21:20:22.420055672\nenergy                         665.531609\np54.162.13                   44825.986737\np55.162.13                       6.552216\ncape.13                        121.758977\np59.162.13                 1466952.650477\nlai_lv.13                        0.397377\nlai_hv.13                        0.116434\nu10n.13                          3.100583\nv10n.13                          3.016766\nsp.13                          713.689654\nstl1.13                          6.414325\nu10.13                           3.158104\nv10.13                           3.058615\nt2m.13                           6.163483\nstl2.13                          5.547947\nstl3.13                          4.582827\niews.13                          0.367013\ninss.13                          0.379014\nstl4.13                          3.552873\nfsr.13                           0.007602\nflsr.13                          0.094359\nu100.13                           4.84173\nv100.13                          4.667552\ndtype: object"
     },
     "execution_count": 13,
     "metadata": {},
     "output_type": "execute_result"
    }
   ],
   "source": [
    "wind_ava.std()"
   ],
   "id": "ea72e256ce8464c8"
  },
  {
   "cell_type": "markdown",
   "metadata": {},
   "source": [
    "## Visualización de los datos\n",
    "Una vez se ha preprocesado y limpiado el conjunto de los datos, se procede a la creación de diferentes diagramas para recolectar información sobre la distirbución de los datos.\n",
    "Con un diagrama de barras se pueden apreciar las distribuciones de energía recogidas en cada instante de tiempo (representados como el índice del conjunto de datos)."
   ],
   "id": "cbfc40111ddd571b"
  },
  {
   "cell_type": "code",
   "execution_count": 14,
   "metadata": {
    "ExecuteTime": {
     "end_time": "2024-03-31T18:40:28.352891800Z",
     "start_time": "2024-03-31T18:40:27.468009900Z"
    }
   },
   "outputs": [
    {
     "data": {
      "text/plain": "<Axes: >"
     },
     "execution_count": 14,
     "metadata": {},
     "output_type": "execute_result"
    },
    {
     "data": {
      "text/plain": "<Figure size 640x480 with 1 Axes>",
      "image/png": "[encoded data removed]"
     },
     "metadata": {},
     "output_type": "display_data"
    }
   ],
   "source": [
    "wind_ava['energy'].plot(rot=20)"
   ],
   "id": "4ad6ab8cdea2f319"
  },
  {
   "cell_type": "markdown",
   "metadata": {},
   "source": [
    "Para poder identificar información sobre los outliers utilizamos un diagrama de caja o boxplot."
   ],
   "id": "20a6665811b6802a"
  },
  {
   "cell_type": "code",
   "execution_count": 15,
   "metadata": {
    "ExecuteTime": {
     "end_time": "2024-03-31T18:40:28.525438Z",
     "start_time": "2024-03-31T18:40:28.355059300Z"
    }
   },
   "outputs": [
    {
     "data": {
      "text/plain": "<Axes: >"
     },
     "execution_count": 15,
     "metadata": {},
     "output_type": "execute_result"
    },
    {
     "data": {
      "text/plain": "<Figure size 640x480 with 1 Axes>",
      "image/png": "[encoded data removed]"
     },
     "metadata": {},
     "output_type": "display_data"
    }
   ],
   "source": [
    "wind_ava['energy'].plot.box()"
   ],
   "id": "8b7770d56125d83a"
  },
  {
   "cell_type": "markdown",
   "metadata": {},
   "source": [
    "Se puede observar que hay bastantes outliers de energía generada. A pesar de que la mediana se encuentra alrededor de 500, y el tercer cuartil alrededor de 1000, existen bastantes valores fuera del rango intercuartílico, y todos ellos superando el valor de energía generada de 2500, mientras que por debajo del primer cuartil prácticamente no se percibe la existencia de outliers.\n",
    "\n",
    "También se puede observar la frecuencia de energía en los diferentes rangos temporales (calulados con el números de divisiones *bins*) mediante un histograma."
   ],
   "id": "4b51d22d43afd453"
  },
  {
   "cell_type": "code",
   "execution_count": 16,
   "metadata": {
    "ExecuteTime": {
     "end_time": "2024-03-31T18:40:28.714307700Z",
     "start_time": "2024-03-31T18:40:28.516495200Z"
    }
   },
   "outputs": [
    {
     "data": {
      "text/plain": "<Axes: ylabel='Frequency'>"
     },
     "execution_count": 16,
     "metadata": {},
     "output_type": "execute_result"
    },
    {
     "data": {
      "text/plain": "<Figure size 640x480 with 1 Axes>",
      "image/png": "[encoded data removed]"
     },
     "metadata": {},
     "output_type": "display_data"
    }
   ],
   "source": [
    "wind_ava['energy'].plot.hist(bins=25)"
   ],
   "id": "2db5a8bca32f6632"
  },
  {
   "cell_type": "markdown",
   "metadata": {},
   "source": [
    "Se puede observar que la distribución se acumula a la izquierda de los valores temporales. Para solucionar un posible sesgo, se puede convertir la variable *energy* a logarítmica de forma que en el gráfico se aprecie como una distribución normal, en lugar de la actual que asemeja una distribución logarítmica.\n",
    "Para realizar esta operación, utilizaremos la librería NumPy. Para ello inicialmente importamos la librería mencionada como se muestra a continuación:"
   ],
   "id": "4c5d294e840b6800"
  },
  {
   "cell_type": "code",
   "execution_count": 17,
   "metadata": {
    "ExecuteTime": {
     "end_time": "2024-03-31T18:40:28.787678Z",
     "start_time": "2024-03-31T18:40:28.716303400Z"
    }
   },
   "outputs": [],
   "source": [
    "import numpy as np"
   ],
   "id": "1759bf40ca26b9b0"
  },
  {
   "cell_type": "code",
   "execution_count": 18,
   "metadata": {
    "ExecuteTime": {
     "end_time": "2024-03-31T18:40:28.948781700Z",
     "start_time": "2024-03-31T18:40:28.733785200Z"
    }
   },
   "outputs": [
    {
     "data": {
      "text/plain": "<Axes: ylabel='Frequency'>"
     },
     "execution_count": 18,
     "metadata": {},
     "output_type": "execute_result"
    },
    {
     "data": {
      "text/plain": "<Figure size 640x480 with 1 Axes>",
      "image/png": "[encoded data removed]"
     },
     "metadata": {},
     "output_type": "display_data"
    }
   ],
   "source": [
    "wind_ava['log_energy'] = np.log(wind_ava['energy'])\n",
    "\n",
    "wind_ava['log_energy'].plot.hist(bins=40)"
   ],
   "id": "51b304a362da6fb6"
  },
  {
   "cell_type": "markdown",
   "metadata": {},
   "source": [
    "En este caso, el resultado no es especialmente relevante, ya que la operación convierte un sesgo a la izquierda en un sesgo a la derecha, de forma que el gráfico resultante no asemeja prácticamente una distirbución normal."
   ],
   "id": "3872547347062bb2"
  },
  {
   "cell_type": "markdown",
   "metadata": {},
   "source": [
    "# Método de evaluación Outer & Inner\n",
    "Tras haber estudiado y limpiado el conjunto de datos, se explica la estrategia que se llevará a cabo para evaluar el modelo (*outer*) y para definir el ajuste de hiperparámetros (*inner*).\n",
    "\n",
    "*`Outer`* \n",
    "Para estimar el rendimiento esperado del modelo con datos futuros (para los que no ha sido entrenado), separamos una parte de los datos para evaluar (partición test) el modelo resultante del inner.\n",
    "\n",
    "*`Inner`*\n",
    "Emplearemos Grid Search con Cross Validation y Time Series Splits.\n",
    "\n",
    "Para evlauar el rendimiento de los diferentes modelos se deben escoger una serie de métricas\n",
    "RMSE y MAE y dummy regressor para escalar los datos y en base a ese dummy calcular RSE y RAE.\n",
    "Para hacer el modelo dummy se le quita la media al real\n",
    "ESto nos permite observar el error en términos absoluto y relativo\n",
    "para cross validation MSE y de cara a la evaluación del modelo final tomaríamos todas esta medidas."
   ],
   "id": "8c14431757f7fd1a"
  },
  {
   "cell_type": "code",
   "execution_count": 19,
   "metadata": {
    "ExecuteTime": {
     "end_time": "2024-03-31T18:40:29.039537300Z",
     "start_time": "2024-03-31T18:40:28.952770600Z"
    }
   },
   "outputs": [
    {
     "data": {
      "text/plain": "             datetime   energy    p54.162.13  p55.162.13    cape.13  \\\n0 2005-01-02 18:00:00   402.71  2.510824e+06    9.186295  13.527577   \n1 2005-01-03 00:00:00   696.80  2.513173e+06    8.849569   6.896412   \n2 2005-01-03 06:00:00  1591.15  2.509627e+06    7.924080   4.774439   \n3 2005-01-03 12:00:00  1338.62  2.510571e+06    6.922709   0.000000   \n4 2005-01-03 18:00:00   562.50  2.505664e+06    6.646282   0.000000   \n\n     p59.162.13  lai_lv.13  lai_hv.13   u10n.13   v10n.13  ...     stl2.13  \\\n0  1.386937e+06   2.344111   2.432983 -0.757587 -1.922799  ...  281.042026   \n1  1.153526e+06   2.343719   2.432838 -1.412620 -1.403011  ...  280.747406   \n2  1.098754e+06   2.343300   2.432704 -2.290185 -0.754580  ...  280.114863   \n3  1.076021e+06   2.342830   2.432514 -3.497855  1.271028  ...  279.991138   \n4  1.070830e+06   2.342437   2.432369 -0.971249  0.553060  ...  280.576898   \n\n      stl3.13   iews.13   inss.13     stl4.13    fsr.13   flsr.13   u100.13  \\\n0  281.462478 -0.057958 -0.138650  284.684755  0.404731 -5.927092 -1.780562   \n1  281.486541 -0.103576 -0.083050  284.667948  0.404920 -5.913881 -3.743344   \n2  281.487095 -0.165721 -0.036241  284.651914  0.405704 -5.908272 -5.097203   \n3  281.472435 -0.275550  0.098192  284.636266  0.403967 -5.961995 -4.500835   \n4  281.473265 -0.056553  0.041844  284.620232  0.403808 -5.987860 -3.392324   \n\n    v100.13  log_energy  \n0 -4.443617    5.998217  \n1 -3.129469    6.546498  \n2 -1.157748    7.372212  \n3  1.502478    7.199395  \n4  2.131114    6.332391  \n\n[5 rows x 25 columns]",
      "text/html": "<div>\n<style scoped>\n    .dataframe tbody tr th:only-of-type {\n        vertical-align: middle;\n    }\n\n    .dataframe tbody tr th {\n        vertical-align: top;\n    }\n\n    .dataframe thead th {\n        text-align: right;\n    }\n</style>\n<table border=\"1\" class=\"dataframe\">\n  <thead>\n    <tr style=\"text-align: right;\">\n      <th></th>\n      <th>datetime</th>\n      <th>energy</th>\n      <th>p54.162.13</th>\n      <th>p55.162.13</th>\n      <th>cape.13</th>\n      <th>p59.162.13</th>\n      <th>lai_lv.13</th>\n      <th>lai_hv.13</th>\n      <th>u10n.13</th>\n      <th>v10n.13</th>\n      <th>...</th>\n      <th>stl2.13</th>\n      <th>stl3.13</th>\n      <th>iews.13</th>\n      <th>inss.13</th>\n      <th>stl4.13</th>\n      <th>fsr.13</th>\n      <th>flsr.13</th>\n      <th>u100.13</th>\n      <th>v100.13</th>\n      <th>log_energy</th>\n    </tr>\n  </thead>\n  <tbody>\n    <tr>\n      <th>0</th>\n      <td>2005-01-02 18:00:00</td>\n      <td>402.71</td>\n      <td>2.510824e+06</td>\n      <td>9.186295</td>\n      <td>13.527577</td>\n      <td>1.386937e+06</td>\n      <td>2.344111</td>\n      <td>2.432983</td>\n      <td>-0.757587</td>\n      <td>-1.922799</td>\n      <td>...</td>\n      <td>281.042026</td>\n      <td>281.462478</td>\n      <td>-0.057958</td>\n      <td>-0.138650</td>\n      <td>284.684755</td>\n      <td>0.404731</td>\n      <td>-5.927092</td>\n      <td>-1.780562</td>\n      <td>-4.443617</td>\n      <td>5.998217</td>\n    </tr>\n    <tr>\n      <th>1</th>\n      <td>2005-01-03 00:00:00</td>\n      <td>696.80</td>\n      <td>2.513173e+06</td>\n      <td>8.849569</td>\n      <td>6.896412</td>\n      <td>1.153526e+06</td>\n      <td>2.343719</td>\n      <td>2.432838</td>\n      <td>-1.412620</td>\n      <td>-1.403011</td>\n      <td>...</td>\n      <td>280.747406</td>\n      <td>281.486541</td>\n      <td>-0.103576</td>\n      <td>-0.083050</td>\n      <td>284.667948</td>\n      <td>0.404920</td>\n      <td>-5.913881</td>\n      <td>-3.743344</td>\n      <td>-3.129469</td>\n      <td>6.546498</td>\n    </tr>\n    <tr>\n      <th>2</th>\n      <td>2005-01-03 06:00:00</td>\n      <td>1591.15</td>\n      <td>2.509627e+06</td>\n      <td>7.924080</td>\n      <td>4.774439</td>\n      <td>1.098754e+06</td>\n      <td>2.343300</td>\n      <td>2.432704</td>\n      <td>-2.290185</td>\n      <td>-0.754580</td>\n      <td>...</td>\n      <td>280.114863</td>\n      <td>281.487095</td>\n      <td>-0.165721</td>\n      <td>-0.036241</td>\n      <td>284.651914</td>\n      <td>0.405704</td>\n      <td>-5.908272</td>\n      <td>-5.097203</td>\n      <td>-1.157748</td>\n      <td>7.372212</td>\n    </tr>\n    <tr>\n      <th>3</th>\n      <td>2005-01-03 12:00:00</td>\n      <td>1338.62</td>\n      <td>2.510571e+06</td>\n      <td>6.922709</td>\n      <td>0.000000</td>\n      <td>1.076021e+06</td>\n      <td>2.342830</td>\n      <td>2.432514</td>\n      <td>-3.497855</td>\n      <td>1.271028</td>\n      <td>...</td>\n      <td>279.991138</td>\n      <td>281.472435</td>\n      <td>-0.275550</td>\n      <td>0.098192</td>\n      <td>284.636266</td>\n      <td>0.403967</td>\n      <td>-5.961995</td>\n      <td>-4.500835</td>\n      <td>1.502478</td>\n      <td>7.199395</td>\n    </tr>\n    <tr>\n      <th>4</th>\n      <td>2005-01-03 18:00:00</td>\n      <td>562.50</td>\n      <td>2.505664e+06</td>\n      <td>6.646282</td>\n      <td>0.000000</td>\n      <td>1.070830e+06</td>\n      <td>2.342437</td>\n      <td>2.432369</td>\n      <td>-0.971249</td>\n      <td>0.553060</td>\n      <td>...</td>\n      <td>280.576898</td>\n      <td>281.473265</td>\n      <td>-0.056553</td>\n      <td>0.041844</td>\n      <td>284.620232</td>\n      <td>0.403808</td>\n      <td>-5.987860</td>\n      <td>-3.392324</td>\n      <td>2.131114</td>\n      <td>6.332391</td>\n    </tr>\n  </tbody>\n</table>\n<p>5 rows × 25 columns</p>\n</div>"
     },
     "execution_count": 19,
     "metadata": {},
     "output_type": "execute_result"
    }
   ],
   "source": [
    "wind_ava.head()"
   ],
   "id": "ee1f7dbfb282eed8"
  },
  {
   "cell_type": "markdown",
   "metadata": {},
   "source": [],
   "id": "a4ac8706e35d0654"
  },
  {
   "cell_type": "code",
   "execution_count": 20,
   "metadata": {
    "ExecuteTime": {
     "end_time": "2024-03-31T18:40:29.341192300Z",
     "start_time": "2024-03-31T18:40:29.000640900Z"
    }
   },
   "outputs": [],
   "source": [
    "from sklearn import preprocessing, neighbors, metrics, pipeline, linear_model, svm\n",
    "from sklearn.pipeline import Pipeline\n",
    "from sklearn.model_selection import TimeSeriesSplit, cross_val_score\n",
    "from sklearn.neighbors import KNeighborsRegressor\n",
    "from sklearn.tree import DecisionTreeRegressor"
   ],
   "id": "a670371dfa8c369b"
  },
  {
   "cell_type": "code",
   "execution_count": 21,
   "metadata": {
    "ExecuteTime": {
     "end_time": "2024-03-31T18:40:29.360217400Z",
     "start_time": "2024-03-31T18:40:29.343165100Z"
    }
   },
   "outputs": [
    {
     "name": "stdout",
     "output_type": "stream",
     "text": [
      "train shape is: (3827, 25) \n",
      " X_train shape: (3827, 24) \n",
      " y_train shape:  (3827,)\n"
     ]
    }
   ],
   "source": [
    "#División de conjuntos de evaluación outer. \n",
    "#Dividimos en train y test aprovechando una falta de datos para el año 2009.\n",
    "train= wind_ava[wind_ava['datetime'].dt.year<2009]\n",
    "X_train= train.drop(columns='energy')\n",
    "y_train= train['energy']\n",
    "print(\"train shape is:\", train.shape,\"\\n X_train shape:\",X_train.shape, \"\\n y_train shape: \", y_train.shape)"
   ],
   "id": "a299de482b21ce1b"
  },
  {
   "cell_type": "code",
   "execution_count": 22,
   "metadata": {
    "ExecuteTime": {
     "end_time": "2024-03-31T18:40:29.406993800Z",
     "start_time": "2024-03-31T18:40:29.362117200Z"
    }
   },
   "outputs": [
    {
     "name": "stdout",
     "output_type": "stream",
     "text": [
      "test shape is: (921, 25) \n",
      " X_test shape: (921, 24) \n",
      " y_train shape:  (921,)\n"
     ]
    }
   ],
   "source": [
    "test= wind_ava[wind_ava['datetime'].dt.year>2008]\n",
    "X_test= test.drop(columns='energy')\n",
    "y_test= test['energy']\n",
    "print(\"test shape is:\", test.shape,\"\\n X_test shape:\",X_test.shape, \"\\n y_train shape: \", y_test.shape)"
   ],
   "id": "928f341bda3f7e72"
  },
  {
   "cell_type": "code",
   "execution_count": 23,
   "metadata": {
    "ExecuteTime": {
     "end_time": "2024-03-31T18:40:29.422957400Z",
     "start_time": "2024-03-31T18:40:29.379070500Z"
    }
   },
   "outputs": [
    {
     "name": "stdout",
     "output_type": "stream",
     "text": [
      "(3827, 25) (921, 25) (4748, 25)\n"
     ]
    }
   ],
   "source": [
    "print(train.shape, test.shape, wind_ava.shape)"
   ],
   "id": "135f77a2730c8022"
  },
  {
   "cell_type": "code",
   "execution_count": 24,
   "metadata": {
    "ExecuteTime": {
     "end_time": "2024-03-31T18:40:29.512194400Z",
     "start_time": "2024-03-31T18:40:29.388046900Z"
    }
   },
   "outputs": [
    {
     "data": {
      "text/plain": "3827     977.91\n3828    1191.99\n3829     795.88\n3830     141.05\n3831    1124.20\nName: energy, dtype: float64"
     },
     "execution_count": 24,
     "metadata": {},
     "output_type": "execute_result"
    }
   ],
   "source": [
    "y_test.head()"
   ],
   "id": "c2819d47bec02355"
  },
  {
   "cell_type": "code",
   "execution_count": 25,
   "metadata": {
    "ExecuteTime": {
     "end_time": "2024-03-31T18:40:29.575156200Z",
     "start_time": "2024-03-31T18:40:29.407993100Z"
    }
   },
   "outputs": [
    {
     "data": {
      "text/plain": "                       p54.162.13  p55.162.13    cape.13    p59.162.13  \\\ndatetime                                                                 \n2005-01-02 18:00:00  2.510824e+06    9.186295  13.527577  1.386937e+06   \n2005-01-03 00:00:00  2.513173e+06    8.849569   6.896412  1.153526e+06   \n2005-01-03 06:00:00  2.509627e+06    7.924080   4.774439  1.098754e+06   \n2005-01-03 12:00:00  2.510571e+06    6.922709   0.000000  1.076021e+06   \n2005-01-03 18:00:00  2.505664e+06    6.646282   0.000000  1.070830e+06   \n\n                     lai_lv.13  lai_hv.13   u10n.13   v10n.13         sp.13  \\\ndatetime                                                                      \n2005-01-02 18:00:00   2.344111   2.432983 -0.757587 -1.922799  99846.319914   \n2005-01-03 00:00:00   2.343719   2.432838 -1.412620 -1.403011  99917.733093   \n2005-01-03 06:00:00   2.343300   2.432704 -2.290185 -0.754580  99764.378681   \n2005-01-03 12:00:00   2.342830   2.432514 -3.497855  1.271028  99672.670459   \n2005-01-03 18:00:00   2.342437   2.432369 -0.971249  0.553060  99372.811211   \n\n                        stl1.13  ...     stl2.13     stl3.13   iews.13  \\\ndatetime                         ...                                     \n2005-01-02 18:00:00  280.960661  ...  281.042026  281.462478 -0.057958   \n2005-01-03 00:00:00  279.296651  ...  280.747406  281.486541 -0.103576   \n2005-01-03 06:00:00  278.233956  ...  280.114863  281.487095 -0.165721   \n2005-01-03 12:00:00  280.787263  ...  279.991138  281.472435 -0.275550   \n2005-01-03 18:00:00  279.583112  ...  280.576898  281.473265 -0.056553   \n\n                      inss.13     stl4.13    fsr.13   flsr.13   u100.13  \\\ndatetime                                                                  \n2005-01-02 18:00:00 -0.138650  284.684755  0.404731 -5.927092 -1.780562   \n2005-01-03 00:00:00 -0.083050  284.667948  0.404920 -5.913881 -3.743344   \n2005-01-03 06:00:00 -0.036241  284.651914  0.405704 -5.908272 -5.097203   \n2005-01-03 12:00:00  0.098192  284.636266  0.403967 -5.961995 -4.500835   \n2005-01-03 18:00:00  0.041844  284.620232  0.403808 -5.987860 -3.392324   \n\n                      v100.13  log_energy  \ndatetime                                   \n2005-01-02 18:00:00 -4.443617    5.998217  \n2005-01-03 00:00:00 -3.129469    6.546498  \n2005-01-03 06:00:00 -1.157748    7.372212  \n2005-01-03 12:00:00  1.502478    7.199395  \n2005-01-03 18:00:00  2.131114    6.332391  \n\n[5 rows x 23 columns]",
      "text/html": "<div>\n<style scoped>\n    .dataframe tbody tr th:only-of-type {\n        vertical-align: middle;\n    }\n\n    .dataframe tbody tr th {\n        vertical-align: top;\n    }\n\n    .dataframe thead th {\n        text-align: right;\n    }\n</style>\n<table border=\"1\" class=\"dataframe\">\n  <thead>\n    <tr style=\"text-align: right;\">\n      <th></th>\n      <th>p54.162.13</th>\n      <th>p55.162.13</th>\n      <th>cape.13</th>\n      <th>p59.162.13</th>\n      <th>lai_lv.13</th>\n      <th>lai_hv.13</th>\n      <th>u10n.13</th>\n      <th>v10n.13</th>\n      <th>sp.13</th>\n      <th>stl1.13</th>\n      <th>...</th>\n      <th>stl2.13</th>\n      <th>stl3.13</th>\n      <th>iews.13</th>\n      <th>inss.13</th>\n      <th>stl4.13</th>\n      <th>fsr.13</th>\n      <th>flsr.13</th>\n      <th>u100.13</th>\n      <th>v100.13</th>\n      <th>log_energy</th>\n    </tr>\n    <tr>\n      <th>datetime</th>\n      <th></th>\n      <th></th>\n      <th></th>\n      <th></th>\n      <th></th>\n      <th></th>\n      <th></th>\n      <th></th>\n      <th></th>\n      <th></th>\n      <th></th>\n      <th></th>\n      <th></th>\n      <th></th>\n      <th></th>\n      <th></th>\n      <th></th>\n      <th></th>\n      <th></th>\n      <th></th>\n      <th></th>\n    </tr>\n  </thead>\n  <tbody>\n    <tr>\n      <th>2005-01-02 18:00:00</th>\n      <td>2.510824e+06</td>\n      <td>9.186295</td>\n      <td>13.527577</td>\n      <td>1.386937e+06</td>\n      <td>2.344111</td>\n      <td>2.432983</td>\n      <td>-0.757587</td>\n      <td>-1.922799</td>\n      <td>99846.319914</td>\n      <td>280.960661</td>\n      <td>...</td>\n      <td>281.042026</td>\n      <td>281.462478</td>\n      <td>-0.057958</td>\n      <td>-0.138650</td>\n      <td>284.684755</td>\n      <td>0.404731</td>\n      <td>-5.927092</td>\n      <td>-1.780562</td>\n      <td>-4.443617</td>\n      <td>5.998217</td>\n    </tr>\n    <tr>\n      <th>2005-01-03 00:00:00</th>\n      <td>2.513173e+06</td>\n      <td>8.849569</td>\n      <td>6.896412</td>\n      <td>1.153526e+06</td>\n      <td>2.343719</td>\n      <td>2.432838</td>\n      <td>-1.412620</td>\n      <td>-1.403011</td>\n      <td>99917.733093</td>\n      <td>279.296651</td>\n      <td>...</td>\n      <td>280.747406</td>\n      <td>281.486541</td>\n      <td>-0.103576</td>\n      <td>-0.083050</td>\n      <td>284.667948</td>\n      <td>0.404920</td>\n      <td>-5.913881</td>\n      <td>-3.743344</td>\n      <td>-3.129469</td>\n      <td>6.546498</td>\n    </tr>\n    <tr>\n      <th>2005-01-03 06:00:00</th>\n      <td>2.509627e+06</td>\n      <td>7.924080</td>\n      <td>4.774439</td>\n      <td>1.098754e+06</td>\n      <td>2.343300</td>\n      <td>2.432704</td>\n      <td>-2.290185</td>\n      <td>-0.754580</td>\n      <td>99764.378681</td>\n      <td>278.233956</td>\n      <td>...</td>\n      <td>280.114863</td>\n      <td>281.487095</td>\n      <td>-0.165721</td>\n      <td>-0.036241</td>\n      <td>284.651914</td>\n      <td>0.405704</td>\n      <td>-5.908272</td>\n      <td>-5.097203</td>\n      <td>-1.157748</td>\n      <td>7.372212</td>\n    </tr>\n    <tr>\n      <th>2005-01-03 12:00:00</th>\n      <td>2.510571e+06</td>\n      <td>6.922709</td>\n      <td>0.000000</td>\n      <td>1.076021e+06</td>\n      <td>2.342830</td>\n      <td>2.432514</td>\n      <td>-3.497855</td>\n      <td>1.271028</td>\n      <td>99672.670459</td>\n      <td>280.787263</td>\n      <td>...</td>\n      <td>279.991138</td>\n      <td>281.472435</td>\n      <td>-0.275550</td>\n      <td>0.098192</td>\n      <td>284.636266</td>\n      <td>0.403967</td>\n      <td>-5.961995</td>\n      <td>-4.500835</td>\n      <td>1.502478</td>\n      <td>7.199395</td>\n    </tr>\n    <tr>\n      <th>2005-01-03 18:00:00</th>\n      <td>2.505664e+06</td>\n      <td>6.646282</td>\n      <td>0.000000</td>\n      <td>1.070830e+06</td>\n      <td>2.342437</td>\n      <td>2.432369</td>\n      <td>-0.971249</td>\n      <td>0.553060</td>\n      <td>99372.811211</td>\n      <td>279.583112</td>\n      <td>...</td>\n      <td>280.576898</td>\n      <td>281.473265</td>\n      <td>-0.056553</td>\n      <td>0.041844</td>\n      <td>284.620232</td>\n      <td>0.403808</td>\n      <td>-5.987860</td>\n      <td>-3.392324</td>\n      <td>2.131114</td>\n      <td>6.332391</td>\n    </tr>\n  </tbody>\n</table>\n<p>5 rows × 23 columns</p>\n</div>"
     },
     "execution_count": 25,
     "metadata": {},
     "output_type": "execute_result"
    }
   ],
   "source": [
    "X_train = X_train.set_index('datetime')\n",
    "X_train.head()"
   ],
   "id": "adaaa31853050528"
  },
  {
   "cell_type": "code",
   "execution_count": 26,
   "metadata": {
    "ExecuteTime": {
     "end_time": "2024-03-31T18:40:29.578019600Z",
     "start_time": "2024-03-31T18:40:29.441240900Z"
    }
   },
   "outputs": [],
   "source": [
    "X_test = X_test.set_index('datetime')"
   ],
   "id": "a474fdb1364aae4d"
  },
  {
   "cell_type": "markdown",
   "metadata": {},
   "source": [
    "# Selección de Scaler\n",
    "En esta sección se emplea KNN y CV para encontrar el método de escalado que minimice el error entre las tres opciones que ofrece sklearn: MinMax, Standarization y Robust. \n",
    "Para ello, empleamos un sencillo crossvalidation con un split adecuado para series temporales y medimos el error empleando la métrica escogida (MSE)."
   ],
   "id": "165d2e4680b7f48f"
  },
  {
   "cell_type": "code",
   "execution_count": 27,
   "metadata": {
    "ExecuteTime": {
     "end_time": "2024-03-31T18:40:29.634866Z",
     "start_time": "2024-03-31T18:40:29.454391100Z"
    }
   },
   "outputs": [],
   "source": [
    "#1) Preparación de datos -usaremos el subset train. \n",
    "scalerCV= TimeSeriesSplit(n_splits=5)\n",
    "scaler_eval= {}"
   ],
   "id": "64266d597d55405e"
  },
  {
   "cell_type": "code",
   "execution_count": 28,
   "metadata": {
    "ExecuteTime": {
     "end_time": "2024-03-31T18:40:30.142325300Z",
     "start_time": "2024-03-31T18:40:29.473301300Z"
    }
   },
   "outputs": [],
   "source": [
    "#2)Evaluación de scalers\n",
    "#StandardScaler\n",
    "from sklearn.preprocessing import StandardScaler\n",
    "pipeline_std = sklearn.pipeline.Pipeline([('scaler', StandardScaler()),\n",
    "                                           ('KNN', neighbors.KNeighborsRegressor())])\n",
    "\n",
    "score_std = cross_val_score(pipeline_std, X_train, y_train,cv= scalerCV, scoring='neg_mean_squared_error')\n",
    "\n",
    "scaler_eval[\"StandardScaler\"] = -score_std.mean()"
   ],
   "id": "58f7e2356e035711"
  },
  {
   "cell_type": "code",
   "execution_count": 29,
   "metadata": {
    "ExecuteTime": {
     "end_time": "2024-03-31T18:40:30.337356200Z",
     "start_time": "2024-03-31T18:40:30.053052100Z"
    }
   },
   "outputs": [],
   "source": [
    "#MinMaxScaler\n",
    "from sklearn.preprocessing import MinMaxScaler\n",
    "pipeline_mnmx = sklearn.pipeline.Pipeline([('scaler', MinMaxScaler()),\n",
    "                                           ('KNN', neighbors.KNeighborsRegressor())])\n",
    "\n",
    "score_mnmx = cross_val_score(pipeline_mnmx, X_train, y_train,cv= scalerCV, scoring='neg_mean_squared_error')\n",
    "\n",
    "scaler_eval[\"MinMaxScaler\"] = -score_mnmx.mean()"
   ],
   "id": "4d3705ea6f805d79"
  },
  {
   "cell_type": "code",
   "execution_count": 30,
   "metadata": {
    "ExecuteTime": {
     "end_time": "2024-03-31T18:40:30.380624Z",
     "start_time": "2024-03-31T18:40:30.176260100Z"
    }
   },
   "outputs": [],
   "source": [
    "#RobustScaler\n",
    "from sklearn.preprocessing import RobustScaler\n",
    "pipeline_rbst = sklearn.pipeline.Pipeline([('scaler', RobustScaler()),\n",
    "                                           ('KNN', neighbors.KNeighborsRegressor())])\n",
    "\n",
    "score_rbst = cross_val_score(pipeline_rbst, X_train, y_train,cv= scalerCV, scoring='neg_mean_squared_error')\n",
    "\n",
    "scaler_eval[\"RobustScaler\"] = -score_rbst.mean()"
   ],
   "id": "168a9445c8a29c1f"
  },
  {
   "cell_type": "code",
   "execution_count": 31,
   "metadata": {
    "ExecuteTime": {
     "end_time": "2024-03-31T18:40:30.398840100Z",
     "start_time": "2024-03-31T18:40:30.329124800Z"
    }
   },
   "outputs": [
    {
     "name": "stdout",
     "output_type": "stream",
     "text": [
      "{'StandardScaler': 149995.7340766405, 'MinMaxScaler': 179612.1533617457, 'RobustScaler': 137309.88759058836}\n"
     ]
    }
   ],
   "source": [
    "print(scaler_eval)"
   ],
   "id": "23ef0bf2854bc38b"
  },
  {
   "cell_type": "markdown",
   "metadata": {},
   "source": [
    "Usando MSE o RMSE, el error más pequeño que hemos obtenido es el de RobustScaler con un valor de 137309."
   ],
   "id": "8c26f647662af76b"
  },
  {
   "cell_type": "code",
   "execution_count": 32,
   "metadata": {
    "ExecuteTime": {
     "end_time": "2024-03-31T18:40:30.489594500Z",
     "start_time": "2024-03-31T18:40:30.345888100Z"
    }
   },
   "outputs": [
    {
     "name": "stdout",
     "output_type": "stream",
     "text": [
      "151540.96712243214\n"
     ]
    }
   ],
   "source": [
    "pipeline_mnmx.fit(X_train, y_train)\n",
    "y_pred = pipeline_mnmx.predict(X_test)\n",
    "outer_score = metrics.mean_squared_error(y_test, y_pred)\n",
    "print(outer_score)"
   ],
   "id": "ba7962b6545eb042"
  },
  {
   "cell_type": "markdown",
   "metadata": {},
   "source": [
    "# Selección de Método\n",
    "En esta sección se miden los tiempos de entrenamiento de diferentes propuestas de modelo para solucionar el problema planeado. \n",
    "A continuación, se realiza una optimización e hiperparámetros (HPO) sobre dichos modelos candidatos y se realizan mediciones temporales del proceso. \n",
    "Finalmente, se emplean los datos recopilados (tiempo y scores de los modelos) para analizar y extraer conclusiones, escogiendo el modelo final que se empleará para solucionar el problema de predicción propuesto. "
   ],
   "id": "83da7e747cedc5e0"
  },
  {
   "cell_type": "markdown",
   "metadata": {},
   "source": [
    "# 1) Mediciones iniciales\n",
    "Se probarán y evaluarán modelos por defecto de KNN, árboles de regresión, regresión lineal y SMV."
   ],
   "id": "fd24152aaa5aff73"
  },
  {
   "cell_type": "code",
   "execution_count": 33,
   "metadata": {
    "ExecuteTime": {
     "end_time": "2024-03-31T18:40:30.570170300Z",
     "start_time": "2024-03-31T18:40:30.389719400Z"
    }
   },
   "outputs": [],
   "source": [
    "time_split= TimeSeriesSplit(n_splits=5)\n",
    "\n",
    "times= {}"
   ],
   "id": "3fb61d83e85f63f2"
  },
  {
   "cell_type": "code",
   "execution_count": 34,
   "metadata": {
    "ExecuteTime": {
     "end_time": "2024-03-31T18:40:30.625285100Z",
     "start_time": "2024-03-31T18:40:30.402662700Z"
    }
   },
   "outputs": [
    {
     "name": "stdout",
     "output_type": "stream",
     "text": [
      "KNN:  {'train_time': 0.015958309173583984, 'cv_time': 0.11693263053894043, 'total_time': 0.13289093971252441, 'score': 137309.88759058836}\n"
     ]
    }
   ],
   "source": [
    "#A. KNN\n",
    "\n",
    "#knn train measurement\n",
    "time0= time.time()\n",
    "model= sklearn.pipeline.Pipeline([('scaler',RobustScaler()),\n",
    "                                ('KNN', neighbors.KNeighborsRegressor())])\n",
    "model.fit(X_train, y_train)\n",
    "\n",
    "time1= time.time()\n",
    "knn_train= time1 - time0\n",
    "\n",
    "#knn cross validation measurement\n",
    "time0= time.time()\n",
    "knn_score= cross_val_score(model, X_train, y_train, cv= time_split, scoring='neg_mean_squared_error')\n",
    "time1= time.time()\n",
    "knn_cv= time1 - time0\n",
    "\n",
    "times[\"KNN\"]= {\"train_time\": knn_train, \"cv_time\":knn_cv, \"total_time\":knn_train + knn_cv, \"score\": -knn_score.mean()}\n",
    "\n",
    "print(\"KNN: \", times[\"KNN\"])"
   ],
   "id": "7831dc7fb2546d9c"
  },
  {
   "cell_type": "code",
   "execution_count": 35,
   "metadata": {
    "ExecuteTime": {
     "end_time": "2024-03-31T18:40:31.058966200Z",
     "start_time": "2024-03-31T18:40:30.564173800Z"
    }
   },
   "outputs": [
    {
     "name": "stdout",
     "output_type": "stream",
     "text": [
      "Tree:  {'train_time': 0.15067481994628906, 'cv_time': 0.32895946502685547, 'total_time': 0.47963428497314453, 'score': 51.19941682888542}\n"
     ]
    }
   ],
   "source": [
    "#B. Árboles de regresión\n",
    "\n",
    "#tree train measurement\n",
    "time0= time.time()\n",
    "model= sklearn.pipeline.Pipeline([('scaler',RobustScaler()),\n",
    "                                ('RegTree', DecisionTreeRegressor())])\n",
    "model.fit(X_train, y_train)\n",
    "\n",
    "time1= time.time()\n",
    "tree_train= time1 - time0\n",
    "\n",
    "#tree cross validation measurement\n",
    "time0= time.time()\n",
    "tree_score= cross_val_score(model, X_train, y_train, cv= time_split, scoring='neg_mean_squared_error')\n",
    "time1= time.time()\n",
    "tree_cv= time1 - time0\n",
    "\n",
    "times[\"Tree\"]= {\"train_time\": tree_train, \"cv_time\":tree_cv, \"total_time\":tree_train + tree_cv, \n",
    "                \"score\": -tree_score.mean()}\n",
    "print(\"Tree: \", times[\"Tree\"])"
   ],
   "id": "85510e743e22d913"
  },
  {
   "cell_type": "code",
   "execution_count": 36,
   "metadata": {
    "ExecuteTime": {
     "end_time": "2024-03-31T18:40:31.184172500Z",
     "start_time": "2024-03-31T18:40:31.064951300Z"
    }
   },
   "outputs": [
    {
     "name": "stdout",
     "output_type": "stream",
     "text": [
      "Linear Reg:  {'train_time': 0.024933338165283203, 'cv_time': 0.07732295989990234, 'total_time': 0.10225629806518555, 'score': 193363.5238433415}\n"
     ]
    }
   ],
   "source": [
    "#C. Regresor lineal: standard y lasso\n",
    "#C.1. Regular\n",
    "time0= time.time()\n",
    "model= sklearn.pipeline.Pipeline([('scaler',RobustScaler()),\n",
    "                                ('Linear Reg', linear_model.LinearRegression())])\n",
    "model.fit(X_train, y_train)\n",
    "time1= time.time()\n",
    "linear_train= time1 - time0\n",
    "\n",
    "time0= time.time()\n",
    "linear_score= cross_val_score(model, X_train, y_train, cv= time_split, scoring='neg_mean_squared_error')\n",
    "time1= time.time()\n",
    "linear_cv= time1 - time0\n",
    "\n",
    "times[\"Linear\"]= {\"train_time\": linear_train, \"cv_time\":linear_cv, \"total_time\":linear_train + linear_cv, \n",
    "                \"score\": -linear_score.mean()}\n",
    "print(\"Linear Reg: \", times[\"Linear\"])"
   ],
   "id": "fdfcd8f2b84d28a4"
  },
  {
   "cell_type": "code",
   "execution_count": 37,
   "metadata": {
    "ExecuteTime": {
     "end_time": "2024-03-31T18:40:31.387237600Z",
     "start_time": "2024-03-31T18:40:31.188158200Z"
    }
   },
   "outputs": [
    {
     "name": "stdout",
     "output_type": "stream",
     "text": [
      "Lasso Reg:  {'train_time': 0.04089093208312988, 'cv_time': 0.139235258102417, 'total_time': 0.18012619018554688, 'score': 192289.20671157766}\n"
     ]
    },
    {
     "name": "stderr",
     "output_type": "stream",
     "text": [
      "C:\\Users\\crist\\OneDrive\\Documentos\\.Universidad\\Machine Learning\\P1_ML\\venv\\lib\\site-packages\\sklearn\\linear_model\\_coordinate_descent.py:678: ConvergenceWarning: Objective did not converge. You might want to increase the number of iterations, check the scale of the features or consider increasing regularisation. Duality gap: 2.701e+04, tolerance: 2.629e+04\n",
      "  model = cd_fast.enet_coordinate_descent(\n"
     ]
    }
   ],
   "source": [
    "#C.2. Lasso\n",
    "time0= time.time()\n",
    "model= sklearn.pipeline.Pipeline([('scaler',RobustScaler()),\n",
    "                                ('Lasso Reg', linear_model.Lasso())])\n",
    "model.fit(X_train, y_train)\n",
    "time1= time.time()\n",
    "lasso_train= time1 - time0\n",
    "\n",
    "time0= time.time()\n",
    "lasso_score= cross_val_score(model, X_train, y_train, cv= time_split, scoring='neg_mean_squared_error')\n",
    "time1= time.time()\n",
    "lasso_cv= time1 - time0\n",
    "\n",
    "times[\"Lasso\"]= {\"train_time\": lasso_train, \"cv_time\":lasso_cv, \"total_time\":lasso_train + lasso_cv, \n",
    "                \"score\": -lasso_score.mean()}\n",
    "print(\"Lasso Reg: \", times[\"Lasso\"])"
   ],
   "id": "1490c820f30acefe"
  },
  {
   "cell_type": "code",
   "execution_count": 38,
   "metadata": {
    "ExecuteTime": {
     "end_time": "2024-03-31T18:40:35.135632400Z",
     "start_time": "2024-03-31T18:40:31.391636200Z"
    }
   },
   "outputs": [
    {
     "name": "stdout",
     "output_type": "stream",
     "text": [
      "SMV:  {'train_time': 1.3131041526794434, 'cv_time': 2.4158236980438232, 'total_time': 3.7289278507232666, 'score': 449842.01510665164}\n"
     ]
    }
   ],
   "source": [
    "#D. SMV\n",
    "time0= time.time()\n",
    "model= sklearn.pipeline.Pipeline([('scaler',RobustScaler()),\n",
    "                                ('SMV', svm.SVR())])\n",
    "model.fit(X_train, y_train)\n",
    "time1= time.time()\n",
    "smv_train= time1 - time0\n",
    "\n",
    "time0= time.time()\n",
    "smv_score= cross_val_score(model, X_train, y_train, cv= time_split, scoring='neg_mean_squared_error')\n",
    "time1= time.time()\n",
    "smv_cv= time1 - time0\n",
    "\n",
    "times[\"SMV\"]= {\"train_time\": smv_train, \"cv_time\": smv_cv, \"total_time\":smv_train + smv_cv, \n",
    "                \"score\": -smv_score.mean()}\n",
    "print(\"SMV: \", times[\"SMV\"])"
   ],
   "id": "eeec138ac7286d58"
  },
  {
   "cell_type": "markdown",
   "metadata": {},
   "source": [
    "## 2) Optimización de hiperparámetros\n",
    "A continuación, se ajustarán los hiperparámetros de cada método estudiado con GridSearch como se decidió anteriormente, obteniendo la evaluación correspondiente al mejor modelo encontrado con dicho método y el tiempo de ejecución total del entrenamiento."
   ],
   "id": "bd4e1ebc34642207"
  },
  {
   "cell_type": "code",
   "execution_count": 39,
   "metadata": {
    "ExecuteTime": {
     "end_time": "2024-03-31T18:40:35.179548700Z",
     "start_time": "2024-03-31T18:40:35.136613400Z"
    }
   },
   "outputs": [],
   "source": [
    "from sklearn.model_selection import GridSearchCV\n",
    "\n",
    "hpo_times = {}"
   ],
   "id": "d9d42a905dc6c02b"
  },
  {
   "cell_type": "code",
   "execution_count": null,
   "metadata": {
    "is_executing": true
   },
   "outputs": [],
   "source": [
    "#A. KNN\n",
    "time0= time.time()\n",
    "param_grid = {'knn__n_neighbors': list(range(2,35,2)),\n",
    "              'knn__weights': ['uniform', 'distance'], \n",
    "              'knn__algorithm': ['ball_tree', 'kd_tree','brute']} #se pueden añadir más (metric, leaf-size..)\n",
    "\n",
    "knn_model= sklearn.pipeline.Pipeline([('scaler',RobustScaler()),\n",
    "                                ('knn', neighbors.KNeighborsRegressor())])\n",
    "knn_regr = GridSearchCV(knn_model,\n",
    "                   param_grid,\n",
    "                   scoring='neg_mean_squared_error',\n",
    "                   cv=time_split, \n",
    "                   n_jobs=1, verbose=1)\n",
    "np.random.seed(55)\n",
    "knn_regr.fit(X=X_train, y=y_train)\n",
    "time1= time.time()\n",
    "knn_train = time1 - time0\n",
    "\n",
    "times[\"KNN\"]= {\"train_time\": knn_train, \"best_params\": knn_regr.best_params_, \"best_score\": -knn_regr.best_score_}\n",
    "print(\"KNN: \", times[\"KNN\"])\n"
   ],
   "id": "d5ab569020fd3b38"
  },
  {
   "cell_type": "code",
   "execution_count": 41,
   "metadata": {
    "ExecuteTime": {
     "end_time": "2024-03-31T18:41:19.732713300Z",
     "start_time": "2024-03-31T18:40:52.934822300Z"
    }
   },
   "outputs": [
    {
     "name": "stdout",
     "output_type": "stream",
     "text": [
      "Fitting 5 folds for each of 153 candidates, totalling 765 fits\n",
      "RegTree:  {'train_time': 26.79049062728882, 'best_params': {'max_depth': 16, 'min_samples_split': 2}, 'best_score': 48.71087463108318}\n"
     ]
    }
   ],
   "source": [
    "#B. Árboles de regresión\n",
    "time0= time.time()\n",
    "param_grid = {'max_depth': list(range(2,35,2)),\n",
    "              'min_samples_split': list(range(2,20,2))}\n",
    "\n",
    "tree_regr = GridSearchCV(DecisionTreeRegressor(), \n",
    "                   param_grid,\n",
    "                   scoring='neg_mean_squared_error',\n",
    "                   cv=time_split, \n",
    "                   n_jobs=1, verbose=1)\n",
    "np.random.seed(55)\n",
    "tree_regr.fit(X=X_train, y=y_train)\n",
    "time1= time.time()\n",
    "tree_train = time1 - time0\n",
    "\n",
    "times[\"RegTree\"]= {\"train_time\": tree_train, \"best_params\": tree_regr.best_params_, \"best_score\": -tree_regr.best_score_}\n",
    "print(\"RegTree: \", times[\"RegTree\"])"
   ],
   "id": "1ef2e033078cb39b"
  },
  {
   "cell_type": "code",
   "execution_count": 42,
   "metadata": {
    "ExecuteTime": {
     "end_time": "2024-03-31T18:41:19.760088300Z",
     "start_time": "2024-03-31T18:41:19.733735800Z"
    }
   },
   "outputs": [],
   "source": [
    "#C. Regresor lineal: standard y lasso ¿Tiene hiper-parámetros?"
   ],
   "id": "918003f2d8a517c4"
  },
  {
   "cell_type": "code",
   "execution_count": null,
   "metadata": {
    "is_executing": true
   },
   "outputs": [],
   "source": [
    "#D. SMV\n",
    "time0= time.time()\n",
    "param_grid = {'svm__kernel': ['linear', 'poly', 'rbf', 'sigmoid', 'precomputed'], \n",
    "              'svm__degree': list(range(2,10,2)), \n",
    "              'svm__gamma': ['scale', 'auto']} #se pueden añadir más\n",
    "\n",
    "svm_model= sklearn.pipeline.Pipeline([('scaler',RobustScaler()),\n",
    "                                ('svm', svm.SVR())])\n",
    "svm_regr = GridSearchCV(svm_model,\n",
    "                   param_grid,\n",
    "                   scoring='neg_mean_squared_error',\n",
    "                   cv=time_split, \n",
    "                   n_jobs=1, verbose=1)\n",
    "np.random.seed(55)\n",
    "svm_regr.fit(X=X_train, y=y_train)\n",
    "time1= time.time()\n",
    "svm_train = time1 - time0\n",
    "\n",
    "times[\"SVM\"]= {\"train_time\": svm_train, \"best_params\": svm_regr.best_params_, \"best_score\": -svm_regr.best_score_}\n",
    "print(\"SVM: \", times[\"SVM\"])"
   ],
   "id": "579aacbfe4336806"
  },
  {
   "cell_type": "code",
   "outputs": [],
   "source": [],
   "metadata": {
    "collapsed": false,
    "is_executing": true
   },
   "id": "13177e0fa260f0ec"
  }
 ],
 "metadata": {
  "kernelspec": {
   "display_name": "Python 3",
   "language": "python",
   "name": "python3"
  },
  "language_info": {
   "codemirror_mode": {
    "name": "ipython",
    "version": 3
   },
   "file_extension": ".py",
   "mimetype": "text/x-python",
   "name": "python",
   "nbconvert_exporter": "python",
   "pygments_lexer": "ipython3",
   "version": "3.8.5"
  }
 },
 "nbformat": 4,
 "nbformat_minor": 5
}

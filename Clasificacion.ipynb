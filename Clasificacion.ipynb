{
 "cells": [
  {
   "cell_type": "markdown",
   "source": [
    "# Sotavento: Problema de Clasificación\n",
    "En el siguiente cuaderno se analiza el rendimiento del modelo escogido para producciones altas y bajas de energía\n",
    "Tras ello, se transforma el problema original de predicción de producción de la energía en un problema de clasificación."
   ],
   "metadata": {
    "collapsed": false
   },
   "id": "dc4d0a9a98f4614"
  },
  {
   "cell_type": "code",
   "outputs": [],
   "source": [
    "#Importación de librerías\n",
    "import pandas as pd\n"
   ],
   "metadata": {
    "collapsed": false,
    "ExecuteTime": {
     "end_time": "2024-04-05T15:17:42.534652800Z",
     "start_time": "2024-04-05T15:17:40.461931800Z"
    }
   },
   "id": "ec45eb49b46b2025",
   "execution_count": 1
  },
  {
   "cell_type": "code",
   "outputs": [
    {
     "ename": "FileNotFoundError",
     "evalue": "[Errno 2] No such file or directory: 'modelo_final.pkl'",
     "output_type": "error",
     "traceback": [
      "\u001B[1;31m---------------------------------------------------------------------------\u001B[0m",
      "\u001B[1;31mFileNotFoundError\u001B[0m                         Traceback (most recent call last)",
      "Cell \u001B[1;32mIn[2], line 3\u001B[0m\n\u001B[0;32m      1\u001B[0m \u001B[38;5;66;03m#IMportación de datos del modelo final de regresión. \u001B[39;00m\n\u001B[0;32m      2\u001B[0m \u001B[38;5;28;01mimport\u001B[39;00m \u001B[38;5;21;01mpickle\u001B[39;00m\n\u001B[1;32m----> 3\u001B[0m \u001B[38;5;28;01mwith\u001B[39;00m \u001B[38;5;28;43mopen\u001B[39;49m\u001B[43m \u001B[49m\u001B[43m(\u001B[49m\u001B[38;5;124;43m'\u001B[39;49m\u001B[38;5;124;43mmodelo_final.pkl\u001B[39;49m\u001B[38;5;124;43m'\u001B[39;49m\u001B[43m,\u001B[49m\u001B[43m \u001B[49m\u001B[38;5;124;43m'\u001B[39;49m\u001B[38;5;124;43mrb\u001B[39;49m\u001B[38;5;124;43m'\u001B[39;49m\u001B[43m)\u001B[49m \u001B[38;5;28;01mas\u001B[39;00m file:\n\u001B[0;32m      4\u001B[0m     modelo_final \u001B[38;5;241m=\u001B[39m pickle\u001B[38;5;241m.\u001B[39mload(file)\n",
      "File \u001B[1;32m~\\OneDrive\\Documentos\\.Universidad\\Machine Learning\\P1_ML\\venv\\lib\\site-packages\\IPython\\core\\interactiveshell.py:324\u001B[0m, in \u001B[0;36m_modified_open\u001B[1;34m(file, *args, **kwargs)\u001B[0m\n\u001B[0;32m    317\u001B[0m \u001B[38;5;28;01mif\u001B[39;00m file \u001B[38;5;129;01min\u001B[39;00m {\u001B[38;5;241m0\u001B[39m, \u001B[38;5;241m1\u001B[39m, \u001B[38;5;241m2\u001B[39m}:\n\u001B[0;32m    318\u001B[0m     \u001B[38;5;28;01mraise\u001B[39;00m \u001B[38;5;167;01mValueError\u001B[39;00m(\n\u001B[0;32m    319\u001B[0m         \u001B[38;5;124mf\u001B[39m\u001B[38;5;124m\"\u001B[39m\u001B[38;5;124mIPython won\u001B[39m\u001B[38;5;124m'\u001B[39m\u001B[38;5;124mt let you open fd=\u001B[39m\u001B[38;5;132;01m{\u001B[39;00mfile\u001B[38;5;132;01m}\u001B[39;00m\u001B[38;5;124m by default \u001B[39m\u001B[38;5;124m\"\u001B[39m\n\u001B[0;32m    320\u001B[0m         \u001B[38;5;124m\"\u001B[39m\u001B[38;5;124mas it is likely to crash IPython. If you know what you are doing, \u001B[39m\u001B[38;5;124m\"\u001B[39m\n\u001B[0;32m    321\u001B[0m         \u001B[38;5;124m\"\u001B[39m\u001B[38;5;124myou can use builtins\u001B[39m\u001B[38;5;124m'\u001B[39m\u001B[38;5;124m open.\u001B[39m\u001B[38;5;124m\"\u001B[39m\n\u001B[0;32m    322\u001B[0m     )\n\u001B[1;32m--> 324\u001B[0m \u001B[38;5;28;01mreturn\u001B[39;00m io_open(file, \u001B[38;5;241m*\u001B[39margs, \u001B[38;5;241m*\u001B[39m\u001B[38;5;241m*\u001B[39mkwargs)\n",
      "\u001B[1;31mFileNotFoundError\u001B[0m: [Errno 2] No such file or directory: 'modelo_final.pkl'"
     ]
    }
   ],
   "source": [
    "#IMportación de datos del modelo final de regresión. \n",
    "import pickle\n",
    "with open ('modelo_final.pkl', 'rb') as file:\n",
    "    modelo_final = pickle.load(file)"
   ],
   "metadata": {
    "collapsed": false,
    "ExecuteTime": {
     "end_time": "2024-04-05T15:17:44.396701100Z",
     "start_time": "2024-04-05T15:17:42.544221800Z"
    }
   },
   "id": "43cd7f2816327824",
   "execution_count": 2
  },
  {
   "cell_type": "markdown",
   "source": [
    "# 1. Medición de rendimiento del modelo de regresión.\n",
    "Tal y como nos indica el enunciado, se considera como producción alta aquella mayor que el tercer cuantil, y baja en otro caso. \n",
    "Para ello, primero añadimos una columna a nuestro dataset en función del valor de la energía. Esta nos permitirá realizar las mediciones de error y actuará como etiqueta en nuestro problema de clasificación más adelante. \n",
    " "
   ],
   "metadata": {
    "collapsed": false
   },
   "id": "29bc165822f6c3c7"
  },
  {
   "cell_type": "code",
   "outputs": [
    {
     "name": "stdout",
     "output_type": "stream",
     "text": [
      "(4748, 551)\n"
     ]
    }
   ],
   "source": [
    "#Importación de dataset\n",
    "wind_ava=pd.read_csv('wind_ava.csv.gz', compression = \"gzip\")\n",
    "\n",
    "wind_ava = wind_ava.set_index('datetime')\n",
    "\n",
    "for c in wind_ava.columns:\n",
    "    if not c.endswith('.13') and c != 'datetime':\n",
    "        wind_comp = wind_ava.drop(c, axis = 1)\n",
    "print(wind_ava.shape)"
   ],
   "metadata": {
    "collapsed": false,
    "ExecuteTime": {
     "end_time": "2024-04-05T15:23:57.708911800Z",
     "start_time": "2024-04-05T15:23:37.563916800Z"
    }
   },
   "id": "626318d1fd8b3d0a",
   "execution_count": 8
  },
  {
   "cell_type": "code",
   "outputs": [
    {
     "name": "stdout",
     "output_type": "stream",
     "text": [
      "1089.375\n"
     ]
    },
    {
     "ename": "TypeError",
     "evalue": "string indices must be integers",
     "output_type": "error",
     "traceback": [
      "\u001B[1;31m---------------------------------------------------------------------------\u001B[0m",
      "\u001B[1;31mTypeError\u001B[0m                                 Traceback (most recent call last)",
      "Cell \u001B[1;32mIn[6], line 6\u001B[0m\n\u001B[0;32m      4\u001B[0m \u001B[38;5;28mprint\u001B[39m(q)\n\u001B[0;32m      5\u001B[0m \u001B[38;5;28;01mfor\u001B[39;00m i \u001B[38;5;129;01min\u001B[39;00m wind_ava:\n\u001B[1;32m----> 6\u001B[0m     \u001B[38;5;28;01mif\u001B[39;00m \u001B[43mi\u001B[49m\u001B[43m[\u001B[49m\u001B[38;5;124;43m'\u001B[39;49m\u001B[38;5;124;43menergy\u001B[39;49m\u001B[38;5;124;43m'\u001B[39;49m\u001B[43m]\u001B[49m \u001B[38;5;241m>\u001B[39m q:\n\u001B[0;32m      7\u001B[0m         labels\u001B[38;5;241m.\u001B[39mappend(\u001B[38;5;124m\"\u001B[39m\u001B[38;5;124mHigh\u001B[39m\u001B[38;5;124m\"\u001B[39m)\n\u001B[0;32m      8\u001B[0m     \u001B[38;5;28;01melse\u001B[39;00m:\n",
      "\u001B[1;31mTypeError\u001B[0m: string indices must be integers"
     ]
    }
   ],
   "source": [
    "#Inserción de la nueva columna. \n",
    "labels= []\n",
    "q= wind_ava['energy'].quantile(0.75)\n",
    "print(q)\n",
    "#Iteramos 1 vez por fila\n",
    "for i in range(4748):\n",
    "    if wind_ava.at(i,'energy') > q:\n",
    "        labels.append(\"High\")\n",
    "    else:\n",
    "        labels.append(\"Low\")\n",
    "print(labels)"
   ],
   "metadata": {
    "collapsed": false,
    "ExecuteTime": {
     "end_time": "2024-04-05T15:19:50.751719900Z",
     "start_time": "2024-04-05T15:19:50.662458Z"
    }
   },
   "id": "822b3af318758474",
   "execution_count": 6
  },
  {
   "cell_type": "code",
   "outputs": [],
   "source": [],
   "metadata": {
    "collapsed": false
   },
   "id": "68605087d63da598"
  }
 ],
 "metadata": {
  "kernelspec": {
   "display_name": "Python 3",
   "language": "python",
   "name": "python3"
  },
  "language_info": {
   "codemirror_mode": {
    "name": "ipython",
    "version": 2
   },
   "file_extension": ".py",
   "mimetype": "text/x-python",
   "name": "python",
   "nbconvert_exporter": "python",
   "pygments_lexer": "ipython2",
   "version": "2.7.6"
  }
 },
 "nbformat": 4,
 "nbformat_minor": 5
}

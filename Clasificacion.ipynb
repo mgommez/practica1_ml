{
 "cells": [
  {
   "cell_type": "markdown",
   "source": [
    "# Sotavento: Problema de Clasificación\n",
    "En el siguiente cuaderno se analiza el rendimiento del modelo escogido para producciones altas y bajas de energía\n",
    "Tras ello, se transforma el problema original de predicción de producción de la energía en un problema de clasificación."
   ],
   "metadata": {
    "collapsed": false
   },
   "id": "dc4d0a9a98f4614"
  },
  {
   "cell_type": "code",
   "outputs": [],
   "source": [
    "#Importación de librerías\n",
    "import pandas as pd\n"
   ],
   "metadata": {
    "collapsed": false
   },
   "id": "ec45eb49b46b2025"
  },
  {
   "cell_type": "code",
   "outputs": [],
   "source": [
    "#IMportación de datos del modelo final de regresión. \n",
    "import pickle\n",
    "with open ('modelo_final.pkl', 'rb') as file:\n",
    "    modelo_final = pickle.load(file)"
   ],
   "metadata": {
    "collapsed": false
   },
   "id": "43cd7f2816327824"
  },
  {
   "cell_type": "markdown",
   "source": [
    "# 1. Medición de rendimiento del modelo de regresión.\n",
    "Tal y como nos indica el enunciado, se considera como producción alta aquella mayor que el tercer cuantil, y baja en otro caso. \n",
    "Para ello, primero añadimos una columna a nuestro dataset en función del valor de la energía. Esta nos permitirá realizar las mediciones de error y actuará como etiqueta en nuestro problema de clasificación más adelante. \n",
    " "
   ],
   "metadata": {
    "collapsed": false
   },
   "id": "29bc165822f6c3c7"
  },
  {
   "cell_type": "code",
   "outputs": [],
   "source": [
    "#Importación de dataset\n",
    "wind_ava=pd.read_csv('wind_ava.csv.gz', compression = \"gzip\")\n",
    "\n",
    "wind_ava = wind_ava.set_index('datetime')\n",
    "\n",
    "for c in wind_ava.columns:\n",
    "    if not c.endswith('.13') and c != 'datetime':\n",
    "        wind_comp = wind_ava.drop(c, axis = 1)"
   ],
   "metadata": {
    "collapsed": false
   },
   "id": "626318d1fd8b3d0a"
  },
  {
   "cell_type": "code",
   "outputs": [],
   "source": [
    "#Inserción de la nueva columna. \n",
    "labels= []\n",
    "dataset= 0\n",
    "for i in dataset:\n",
    "    if():\n",
    "        labels.append(\"High\")\n",
    "    else:\n",
    "        labels.append(\"Low\")"
   ],
   "metadata": {
    "collapsed": false
   },
   "id": "822b3af318758474"
  }
 ],
 "metadata": {
  "kernelspec": {
   "display_name": "Python 3",
   "language": "python",
   "name": "python3"
  },
  "language_info": {
   "codemirror_mode": {
    "name": "ipython",
    "version": 2
   },
   "file_extension": ".py",
   "mimetype": "text/x-python",
   "name": "python",
   "nbconvert_exporter": "python",
   "pygments_lexer": "ipython2",
   "version": "2.7.6"
  }
 },
 "nbformat": 4,
 "nbformat_minor": 5
}
